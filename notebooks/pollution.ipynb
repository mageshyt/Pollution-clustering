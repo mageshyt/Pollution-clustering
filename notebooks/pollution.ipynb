{
 "cells": [
  {
   "cell_type": "code",
   "execution_count": 481,
   "metadata": {},
   "outputs": [],
   "source": [
    "import numpy as np\n",
    "import pandas as pd\n",
    "import matplotlib.pyplot as plt\n",
    "import seaborn as sns\n",
    "%matplotlib inline"
   ]
  },
  {
   "cell_type": "code",
   "execution_count": 482,
   "metadata": {},
   "outputs": [],
   "source": [
    "# txt=input()\n",
    "\n",
    "# # split the text ans remove\n",
    "# dat=[text.split() for text in txt.split('\\n')]\n"
   ]
  },
  {
   "cell_type": "code",
   "execution_count": 483,
   "metadata": {},
   "outputs": [],
   "source": [
    "# len(dat[0])\n",
    "\n",
    "# for i in range(0,len(dat[0]),30):\n",
    "#     item=dat[0][i+1:i+30]\n",
    "#     print(item)\n",
    "#     print(len(item))"
   ]
  },
  {
   "cell_type": "code",
   "execution_count": 484,
   "metadata": {},
   "outputs": [],
   "source": [
    "train_df=pd.read_csv('../data/train.csv')"
   ]
  },
  {
   "cell_type": "code",
   "execution_count": 485,
   "metadata": {},
   "outputs": [
    {
     "data": {
      "text/html": [
       "<div>\n",
       "<style scoped>\n",
       "    .dataframe tbody tr th:only-of-type {\n",
       "        vertical-align: middle;\n",
       "    }\n",
       "\n",
       "    .dataframe tbody tr th {\n",
       "        vertical-align: top;\n",
       "    }\n",
       "\n",
       "    .dataframe thead th {\n",
       "        text-align: right;\n",
       "    }\n",
       "</style>\n",
       "<table border=\"1\" class=\"dataframe\">\n",
       "  <thead>\n",
       "    <tr style=\"text-align: right;\">\n",
       "      <th></th>\n",
       "      <th>Name of station</th>\n",
       "      <th>D.O mg/L</th>\n",
       "      <th>pH</th>\n",
       "      <th>Conductivity m mhos/cm</th>\n",
       "      <th>BOD at 27 C mg/L</th>\n",
       "      <th>Nitrate mg/L</th>\n",
       "      <th>Nitrite mg/L</th>\n",
       "      <th>Fecal coliform MPN/100</th>\n",
       "      <th>Total coliform MPN/100</th>\n",
       "      <th>Turbidity NTU</th>\n",
       "      <th>...</th>\n",
       "      <th>Sulphate</th>\n",
       "      <th>Sodium</th>\n",
       "      <th>Total Dissolved Solids</th>\n",
       "      <th>Total Fixed Solids</th>\n",
       "      <th>Total Suspended Solids</th>\n",
       "      <th>Phosphate</th>\n",
       "      <th>Boron</th>\n",
       "      <th>Potassium</th>\n",
       "      <th>Fluoride</th>\n",
       "      <th>DBU Class</th>\n",
       "    </tr>\n",
       "  </thead>\n",
       "  <tbody>\n",
       "    <tr>\n",
       "      <th>0</th>\n",
       "      <td>'Pudur'</td>\n",
       "      <td>'5.39'</td>\n",
       "      <td>'7.60'</td>\n",
       "      <td>'476'</td>\n",
       "      <td>'4'</td>\n",
       "      <td>'0.220'</td>\n",
       "      <td>'0.200'</td>\n",
       "      <td>'160.2'</td>\n",
       "      <td>'401'</td>\n",
       "      <td>'9.7'</td>\n",
       "      <td>...</td>\n",
       "      <td>'10'</td>\n",
       "      <td>'48'</td>\n",
       "      <td>'332'</td>\n",
       "      <td>'300'</td>\n",
       "      <td>'17'</td>\n",
       "      <td>'0.160'</td>\n",
       "      <td>'&lt;0.002'</td>\n",
       "      <td>'4.7'</td>\n",
       "      <td>'0.610'</td>\n",
       "      <td>'D'</td>\n",
       "    </tr>\n",
       "    <tr>\n",
       "      <th>1</th>\n",
       "      <td>'Vairapalayam'</td>\n",
       "      <td>'5.76'</td>\n",
       "      <td>'7.84'</td>\n",
       "      <td>'458'</td>\n",
       "      <td>'3'</td>\n",
       "      <td>'0.271'</td>\n",
       "      <td>'0.036'</td>\n",
       "      <td>'170'</td>\n",
       "      <td>'418'</td>\n",
       "      <td>'9.49'</td>\n",
       "      <td>...</td>\n",
       "      <td>'12'</td>\n",
       "      <td>'47'</td>\n",
       "      <td>'332'</td>\n",
       "      <td>'304'</td>\n",
       "      <td>'31'</td>\n",
       "      <td>'0.196'</td>\n",
       "      <td>'&lt;0.002'</td>\n",
       "      <td>'4.8'</td>\n",
       "      <td>'0.702'</td>\n",
       "      <td>'B'</td>\n",
       "    </tr>\n",
       "    <tr>\n",
       "      <th>2</th>\n",
       "      <td>'P.Velur'</td>\n",
       "      <td>'6.49'</td>\n",
       "      <td>'7.88'</td>\n",
       "      <td>'568'</td>\n",
       "      <td>'&lt;2'</td>\n",
       "      <td>'0.230'</td>\n",
       "      <td>'0.090'</td>\n",
       "      <td>'146'</td>\n",
       "      <td>'355'</td>\n",
       "      <td>'16'</td>\n",
       "      <td>...</td>\n",
       "      <td>'25'</td>\n",
       "      <td>'60'</td>\n",
       "      <td>'384'</td>\n",
       "      <td>'362'</td>\n",
       "      <td>'20'</td>\n",
       "      <td>'0.310'</td>\n",
       "      <td>'&lt;0.002'</td>\n",
       "      <td>'5.4'</td>\n",
       "      <td>'0.590'</td>\n",
       "      <td>'B'</td>\n",
       "    </tr>\n",
       "    <tr>\n",
       "      <th>3</th>\n",
       "      <td>'Mohanur'</td>\n",
       "      <td>'6.22'</td>\n",
       "      <td>'7.87'</td>\n",
       "      <td>'643.8'</td>\n",
       "      <td>'&lt;2'</td>\n",
       "      <td>'0.250'</td>\n",
       "      <td>'0.060'</td>\n",
       "      <td>'151'</td>\n",
       "      <td>'375'</td>\n",
       "      <td>'15.9'</td>\n",
       "      <td>...</td>\n",
       "      <td>'29'</td>\n",
       "      <td>'69'</td>\n",
       "      <td>'447'</td>\n",
       "      <td>'423'</td>\n",
       "      <td>'20'</td>\n",
       "      <td>'0.3'</td>\n",
       "      <td>'&lt;0.002'</td>\n",
       "      <td>'6.7'</td>\n",
       "      <td>'0.980'</td>\n",
       "      <td>'B'</td>\n",
       "    </tr>\n",
       "    <tr>\n",
       "      <th>4</th>\n",
       "      <td>'Madathukulam'</td>\n",
       "      <td>'5.88'</td>\n",
       "      <td>'7.25'</td>\n",
       "      <td>'332'</td>\n",
       "      <td>'&lt;2'</td>\n",
       "      <td>'0.328'</td>\n",
       "      <td>'0.011'</td>\n",
       "      <td>'34'</td>\n",
       "      <td>'88'</td>\n",
       "      <td>'13.5'</td>\n",
       "      <td>...</td>\n",
       "      <td>'20'</td>\n",
       "      <td>'22'</td>\n",
       "      <td>'238'</td>\n",
       "      <td>'222'</td>\n",
       "      <td>'21'</td>\n",
       "      <td>'0.146'</td>\n",
       "      <td>'&lt;0.002'</td>\n",
       "      <td>'2.7'</td>\n",
       "      <td>'0.709'</td>\n",
       "      <td>'B'</td>\n",
       "    </tr>\n",
       "    <tr>\n",
       "      <th>5</th>\n",
       "      <td>'Thirumukkudal'</td>\n",
       "      <td>'6.32'</td>\n",
       "      <td>'8.00'</td>\n",
       "      <td>'674'</td>\n",
       "      <td>'&lt;2'</td>\n",
       "      <td>'0.220'</td>\n",
       "      <td>'0.010'</td>\n",
       "      <td>'127'</td>\n",
       "      <td>'311'</td>\n",
       "      <td>'12'</td>\n",
       "      <td>...</td>\n",
       "      <td>'29'</td>\n",
       "      <td>'79'</td>\n",
       "      <td>'470'</td>\n",
       "      <td>'4447'</td>\n",
       "      <td>'20'</td>\n",
       "      <td>'0.290'</td>\n",
       "      <td>'&lt;0.002'</td>\n",
       "      <td>'6.9'</td>\n",
       "      <td>'0.990'</td>\n",
       "      <td>'B'</td>\n",
       "    </tr>\n",
       "    <tr>\n",
       "      <th>6</th>\n",
       "      <td>'Trichy U/S'</td>\n",
       "      <td>'6.44'</td>\n",
       "      <td>'7.82'</td>\n",
       "      <td>'406'</td>\n",
       "      <td>'&lt;2'</td>\n",
       "      <td>'0.760'</td>\n",
       "      <td>'0.070'</td>\n",
       "      <td>'227'</td>\n",
       "      <td>'648'</td>\n",
       "      <td>'8.7'</td>\n",
       "      <td>...</td>\n",
       "      <td>'13.9'</td>\n",
       "      <td>'36.0'</td>\n",
       "      <td>'324.8'</td>\n",
       "      <td>'304.0'</td>\n",
       "      <td>'11.0'</td>\n",
       "      <td>'0.120'</td>\n",
       "      <td>'&lt;0.002'</td>\n",
       "      <td>'5.4'</td>\n",
       "      <td>'1.040'</td>\n",
       "      <td>'B'</td>\n",
       "    </tr>\n",
       "    <tr>\n",
       "      <th>7</th>\n",
       "      <td>'Trichy D/S'</td>\n",
       "      <td>'5.80'</td>\n",
       "      <td>'7.34'</td>\n",
       "      <td>'483'</td>\n",
       "      <td>'2'</td>\n",
       "      <td>'0.920'</td>\n",
       "      <td>'0.390'</td>\n",
       "      <td>'315'</td>\n",
       "      <td>'798'</td>\n",
       "      <td>'23'</td>\n",
       "      <td>...</td>\n",
       "      <td>'20.0'</td>\n",
       "      <td>'44.6'</td>\n",
       "      <td>'355.0'</td>\n",
       "      <td>'333.6'</td>\n",
       "      <td>'29.6'</td>\n",
       "      <td>'0.290'</td>\n",
       "      <td>'&lt;0.002'</td>\n",
       "      <td>'6.3'</td>\n",
       "      <td>'1.100'</td>\n",
       "      <td>'B'</td>\n",
       "    </tr>\n",
       "    <tr>\n",
       "      <th>8</th>\n",
       "      <td>'Grand Anaicut'</td>\n",
       "      <td>'5.70'</td>\n",
       "      <td>'7.50'</td>\n",
       "      <td>'456'</td>\n",
       "      <td>'2.2'</td>\n",
       "      <td>'0.880'</td>\n",
       "      <td>'0.220'</td>\n",
       "      <td>'108.1'</td>\n",
       "      <td>'292'</td>\n",
       "      <td>'13.9'</td>\n",
       "      <td>...</td>\n",
       "      <td>'14.0'</td>\n",
       "      <td>'40.0'</td>\n",
       "      <td>'337.6'</td>\n",
       "      <td>'317.6'</td>\n",
       "      <td>'17.6'</td>\n",
       "      <td>'0.210'</td>\n",
       "      <td>'&lt;0.002'</td>\n",
       "      <td>'5.8'</td>\n",
       "      <td>'0.940'</td>\n",
       "      <td>'B'</td>\n",
       "    </tr>\n",
       "    <tr>\n",
       "      <th>9</th>\n",
       "      <td>'Coleroon'</td>\n",
       "      <td>'5.90'</td>\n",
       "      <td>'7.85'</td>\n",
       "      <td>'25912'</td>\n",
       "      <td>'&lt;2'</td>\n",
       "      <td>'0.412'</td>\n",
       "      <td>'0.033'</td>\n",
       "      <td>'70'</td>\n",
       "      <td>'190'</td>\n",
       "      <td>'22'</td>\n",
       "      <td>...</td>\n",
       "      <td>'905'</td>\n",
       "      <td>'3339'</td>\n",
       "      <td>'16872'</td>\n",
       "      <td>'16747'</td>\n",
       "      <td>'26'</td>\n",
       "      <td>'0.289'</td>\n",
       "      <td>'&lt;0.002'</td>\n",
       "      <td>'108'</td>\n",
       "      <td>'1.940'</td>\n",
       "      <td>'B'</td>\n",
       "    </tr>\n",
       "    <tr>\n",
       "      <th>10</th>\n",
       "      <td>'Pitchavaram'</td>\n",
       "      <td>'6.20'</td>\n",
       "      <td>'7.50'</td>\n",
       "      <td>'3245'</td>\n",
       "      <td>'2'</td>\n",
       "      <td>'0.200'</td>\n",
       "      <td>'0.300'</td>\n",
       "      <td>'134.7'</td>\n",
       "      <td>'331'</td>\n",
       "      <td>'24'</td>\n",
       "      <td>...</td>\n",
       "      <td>'129.0'</td>\n",
       "      <td>'485.0'</td>\n",
       "      <td>'2153.7'</td>\n",
       "      <td>'2105.7'</td>\n",
       "      <td>'30.0'</td>\n",
       "      <td>'1.000'</td>\n",
       "      <td>'&lt;0.002'</td>\n",
       "      <td>'30.6'</td>\n",
       "      <td>'0.600'</td>\n",
       "      <td>'B'</td>\n",
       "    </tr>\n",
       "    <tr>\n",
       "      <th>11</th>\n",
       "      <td>'Karunthattankudi'</td>\n",
       "      <td>'6.16'</td>\n",
       "      <td>'7.85'</td>\n",
       "      <td>'441'</td>\n",
       "      <td>'3.2'</td>\n",
       "      <td>'0.759'</td>\n",
       "      <td>'0.045'</td>\n",
       "      <td>'160'</td>\n",
       "      <td>'390'</td>\n",
       "      <td>'23.0'</td>\n",
       "      <td>...</td>\n",
       "      <td>'19.0'</td>\n",
       "      <td>'39.0'</td>\n",
       "      <td>'317.0'</td>\n",
       "      <td>'395.0'</td>\n",
       "      <td>'30.0'</td>\n",
       "      <td>'0.122'</td>\n",
       "      <td>'&lt;0.002'</td>\n",
       "      <td>'5.20'</td>\n",
       "      <td>'0.49'</td>\n",
       "      <td>'B'</td>\n",
       "    </tr>\n",
       "    <tr>\n",
       "      <th>12</th>\n",
       "      <td>'Komarapalayam'</td>\n",
       "      <td>'6.32'</td>\n",
       "      <td>'7.54'</td>\n",
       "      <td>'421'</td>\n",
       "      <td>'&lt;2'</td>\n",
       "      <td>'0.12'</td>\n",
       "      <td>'0.180'</td>\n",
       "      <td>'256'</td>\n",
       "      <td>'633'</td>\n",
       "      <td>'15'</td>\n",
       "      <td>...</td>\n",
       "      <td>'13'</td>\n",
       "      <td>'38'</td>\n",
       "      <td>'298'</td>\n",
       "      <td>'276'</td>\n",
       "      <td>'19'</td>\n",
       "      <td>'0.24'</td>\n",
       "      <td>'&lt;0.002'</td>\n",
       "      <td>'4.2'</td>\n",
       "      <td>'0.64'</td>\n",
       "      <td>'B'</td>\n",
       "    </tr>\n",
       "    <tr>\n",
       "      <th>13</th>\n",
       "      <td>'Urrachikottai'</td>\n",
       "      <td>'6.42'</td>\n",
       "      <td>'7.99'</td>\n",
       "      <td>'378'</td>\n",
       "      <td>'&lt;2'</td>\n",
       "      <td>'0.16'</td>\n",
       "      <td>'0.139'</td>\n",
       "      <td>'76'</td>\n",
       "      <td>'197'</td>\n",
       "      <td>'8'</td>\n",
       "      <td>...</td>\n",
       "      <td>'14'</td>\n",
       "      <td>'28'</td>\n",
       "      <td>'273'</td>\n",
       "      <td>'255'</td>\n",
       "      <td>'13'</td>\n",
       "      <td>'0.18'</td>\n",
       "      <td>'&lt;0.002'</td>\n",
       "      <td>'3.5'</td>\n",
       "      <td>'0.76'</td>\n",
       "      <td>'B'</td>\n",
       "    </tr>\n",
       "    <tr>\n",
       "      <th>14</th>\n",
       "      <td>'Chirampalayam'</td>\n",
       "      <td>'6.55'</td>\n",
       "      <td>'7.59'</td>\n",
       "      <td>'374'</td>\n",
       "      <td>'&lt;2'</td>\n",
       "      <td>'0.21'</td>\n",
       "      <td>'0.263'</td>\n",
       "      <td>'147'</td>\n",
       "      <td>'418'</td>\n",
       "      <td>'14'</td>\n",
       "      <td>...</td>\n",
       "      <td>'11'</td>\n",
       "      <td>'29'</td>\n",
       "      <td>'269'</td>\n",
       "      <td>'249'</td>\n",
       "      <td>'17'</td>\n",
       "      <td>'0.17'</td>\n",
       "      <td>'&lt;0.002'</td>\n",
       "      <td>'3.6'</td>\n",
       "      <td>'0.45'</td>\n",
       "      <td>'B'</td>\n",
       "    </tr>\n",
       "    <tr>\n",
       "      <th>15</th>\n",
       "      <td>'Pugalur'</td>\n",
       "      <td>'6.45'</td>\n",
       "      <td>'8.00'</td>\n",
       "      <td>'636'</td>\n",
       "      <td>'&lt;2'</td>\n",
       "      <td>'0.20'</td>\n",
       "      <td>'0.056'</td>\n",
       "      <td>'125'</td>\n",
       "      <td>'312'</td>\n",
       "      <td>'15'</td>\n",
       "      <td>...</td>\n",
       "      <td>'32'</td>\n",
       "      <td>'67'</td>\n",
       "      <td>'441'</td>\n",
       "      <td>'419'</td>\n",
       "      <td>'17'</td>\n",
       "      <td>'0.31'</td>\n",
       "      <td>'&lt;0.002'</td>\n",
       "      <td>'6.5'</td>\n",
       "      <td>'0.90'</td>\n",
       "      <td>'B'</td>\n",
       "    </tr>\n",
       "    <tr>\n",
       "      <th>16</th>\n",
       "      <td>'Pettavaithalai'</td>\n",
       "      <td>'6.24'</td>\n",
       "      <td>'7.92'</td>\n",
       "      <td>'485'</td>\n",
       "      <td>'&lt;2'</td>\n",
       "      <td>'0.70'</td>\n",
       "      <td>'0.043'</td>\n",
       "      <td>'196'</td>\n",
       "      <td>'514'</td>\n",
       "      <td>'10'</td>\n",
       "      <td>...</td>\n",
       "      <td>'21'</td>\n",
       "      <td>'45'</td>\n",
       "      <td>'363'</td>\n",
       "      <td>'342'</td>\n",
       "      <td>'14'</td>\n",
       "      <td>'0.19'</td>\n",
       "      <td>'&lt;0.002'</td>\n",
       "      <td>'6.1'</td>\n",
       "      <td>'1.16'</td>\n",
       "      <td>'B'</td>\n",
       "    </tr>\n",
       "    <tr>\n",
       "      <th>17</th>\n",
       "      <td>'Kumbakonam'</td>\n",
       "      <td>'6.28'</td>\n",
       "      <td>'7.93'</td>\n",
       "      <td>'355'</td>\n",
       "      <td>'2'</td>\n",
       "      <td>'0.93'</td>\n",
       "      <td>'0.022'</td>\n",
       "      <td>'130'</td>\n",
       "      <td>'344'</td>\n",
       "      <td>'15'</td>\n",
       "      <td>...</td>\n",
       "      <td>'12'</td>\n",
       "      <td>'29'</td>\n",
       "      <td>'268'</td>\n",
       "      <td>'247'</td>\n",
       "      <td>'20'</td>\n",
       "      <td>'0.18'</td>\n",
       "      <td>'&lt;0.002'</td>\n",
       "      <td>'4.2'</td>\n",
       "      <td>'0.33'</td>\n",
       "      <td>'B'</td>\n",
       "    </tr>\n",
       "    <tr>\n",
       "      <th>18</th>\n",
       "      <td>'Mayiladurai'</td>\n",
       "      <td>'5.94'</td>\n",
       "      <td>'7.65'</td>\n",
       "      <td>'578'</td>\n",
       "      <td>'&lt;2'</td>\n",
       "      <td>'1.16'</td>\n",
       "      <td>'0.1648'</td>\n",
       "      <td>'67'</td>\n",
       "      <td>'135'</td>\n",
       "      <td>'9'</td>\n",
       "      <td>...</td>\n",
       "      <td>'14'</td>\n",
       "      <td>'58'</td>\n",
       "      <td>'409'</td>\n",
       "      <td>'390'</td>\n",
       "      <td>'14'</td>\n",
       "      <td>'0.094'</td>\n",
       "      <td>'&lt;0.002'</td>\n",
       "      <td>'6.2'</td>\n",
       "      <td>'0.85'</td>\n",
       "      <td>'B</td>\n",
       "    </tr>\n",
       "    <tr>\n",
       "      <th>19</th>\n",
       "      <td>'Sathiyamanagalam'</td>\n",
       "      <td>'6.12'</td>\n",
       "      <td>'7.37'</td>\n",
       "      <td>'226'</td>\n",
       "      <td>'&lt;2'</td>\n",
       "      <td>'0.15'</td>\n",
       "      <td>'0.083'</td>\n",
       "      <td>'29'</td>\n",
       "      <td>'81'</td>\n",
       "      <td>'16'</td>\n",
       "      <td>...</td>\n",
       "      <td>'10'</td>\n",
       "      <td>'16'</td>\n",
       "      <td>'177'</td>\n",
       "      <td>'162'</td>\n",
       "      <td>'14'</td>\n",
       "      <td>'0.21'</td>\n",
       "      <td>'&lt;0.002'</td>\n",
       "      <td>'3.4'</td>\n",
       "      <td>'0.54'</td>\n",
       "      <td>'B'</td>\n",
       "    </tr>\n",
       "    <tr>\n",
       "      <th>20</th>\n",
       "      <td>'Thirumanimuthar (Borewell)'</td>\n",
       "      <td>'6.08'</td>\n",
       "      <td>'7.49'</td>\n",
       "      <td>'4927'</td>\n",
       "      <td>'4'</td>\n",
       "      <td>'3.17'</td>\n",
       "      <td>'0.428'</td>\n",
       "      <td>'7009'</td>\n",
       "      <td>'14187'</td>\n",
       "      <td>'9'</td>\n",
       "      <td>...</td>\n",
       "      <td>'109'</td>\n",
       "      <td>'438'</td>\n",
       "      <td>'2812'</td>\n",
       "      <td>'3178'</td>\n",
       "      <td>'551'</td>\n",
       "      <td>'2.00'</td>\n",
       "      <td>'&lt;0.002'</td>\n",
       "      <td>'17.0'</td>\n",
       "      <td>'1.58'</td>\n",
       "      <td>'D'</td>\n",
       "    </tr>\n",
       "    <tr>\n",
       "      <th>21</th>\n",
       "      <td>'Sarabanga'</td>\n",
       "      <td>'6.35'</td>\n",
       "      <td>'8.08'</td>\n",
       "      <td>'2890'</td>\n",
       "      <td>'18'</td>\n",
       "      <td>'5.0'</td>\n",
       "      <td>'9.00'</td>\n",
       "      <td>'5675'</td>\n",
       "      <td>'9362'</td>\n",
       "      <td>'9'</td>\n",
       "      <td>...</td>\n",
       "      <td>'208'</td>\n",
       "      <td>'487'</td>\n",
       "      <td>'1892'</td>\n",
       "      <td>'1777'</td>\n",
       "      <td>'24'</td>\n",
       "      <td>'1.00'</td>\n",
       "      <td>'&lt;0.002'</td>\n",
       "      <td>'30.0'</td>\n",
       "      <td>'0.92'</td>\n",
       "      <td>'E'</td>\n",
       "    </tr>\n",
       "    <tr>\n",
       "      <th>22</th>\n",
       "      <td>'Vasista (Borewell)'</td>\n",
       "      <td>'5.85'</td>\n",
       "      <td>'7.42'</td>\n",
       "      <td>'3944'</td>\n",
       "      <td>'&lt;2'</td>\n",
       "      <td>'1.30'</td>\n",
       "      <td>'0.519'</td>\n",
       "      <td>'362'</td>\n",
       "      <td>'794'</td>\n",
       "      <td>'8'</td>\n",
       "      <td>...</td>\n",
       "      <td>'148'</td>\n",
       "      <td>'379'</td>\n",
       "      <td>'2536'</td>\n",
       "      <td>'2473'</td>\n",
       "      <td>'17'</td>\n",
       "      <td>'1.00'</td>\n",
       "      <td>'&lt;0.002'</td>\n",
       "      <td>'13.0'</td>\n",
       "      <td>'1.39'</td>\n",
       "      <td>'B'</td>\n",
       "    </tr>\n",
       "    <tr>\n",
       "      <th>23</th>\n",
       "      <td>'Kalingalrayan Canal (B5)'</td>\n",
       "      <td>'6.50'</td>\n",
       "      <td>'7.84'</td>\n",
       "      <td>'388'</td>\n",
       "      <td>'&lt;2'</td>\n",
       "      <td>'0.17'</td>\n",
       "      <td>'0.017'</td>\n",
       "      <td>'76'</td>\n",
       "      <td>'167'</td>\n",
       "      <td>'14'</td>\n",
       "      <td>...</td>\n",
       "      <td>'19'</td>\n",
       "      <td>'27'</td>\n",
       "      <td>'286'</td>\n",
       "      <td>'266'</td>\n",
       "      <td>'19'</td>\n",
       "      <td>'0.22'</td>\n",
       "      <td>'&lt;0.002'</td>\n",
       "      <td>'3.7'</td>\n",
       "      <td>'0.62'</td>\n",
       "      <td>'B'</td>\n",
       "    </tr>\n",
       "    <tr>\n",
       "      <th>24</th>\n",
       "      <td>'Kalingalrayan Canal (B10)'</td>\n",
       "      <td>'6.35'</td>\n",
       "      <td>'7.91'</td>\n",
       "      <td>'394'</td>\n",
       "      <td>'&lt;2'</td>\n",
       "      <td>'0.16'</td>\n",
       "      <td>'0.017'</td>\n",
       "      <td>'69'</td>\n",
       "      <td>'181'</td>\n",
       "      <td>'12'</td>\n",
       "      <td>...</td>\n",
       "      <td>'19'</td>\n",
       "      <td>'28'</td>\n",
       "      <td>'290'</td>\n",
       "      <td>'271'</td>\n",
       "      <td>'19'</td>\n",
       "      <td>'0.19'</td>\n",
       "      <td>'&lt;0.002'</td>\n",
       "      <td>'3.7'</td>\n",
       "      <td>'0.66'</td>\n",
       "      <td>'B'</td>\n",
       "    </tr>\n",
       "    <tr>\n",
       "      <th>25</th>\n",
       "      <td>'Papanasam'</td>\n",
       "      <td>'7.09'</td>\n",
       "      <td>'6.59'</td>\n",
       "      <td>'47'</td>\n",
       "      <td>'2'</td>\n",
       "      <td>'0.431'</td>\n",
       "      <td>'0.028'</td>\n",
       "      <td>'3'</td>\n",
       "      <td>'13'</td>\n",
       "      <td>'2.26'</td>\n",
       "      <td>...</td>\n",
       "      <td>'1.72'</td>\n",
       "      <td>'1.7'</td>\n",
       "      <td>'31.6'</td>\n",
       "      <td>'28'</td>\n",
       "      <td>'3.16'</td>\n",
       "      <td>'&lt;0.15'</td>\n",
       "      <td>'&lt;0.002'</td>\n",
       "      <td>'0.7'</td>\n",
       "      <td>'&lt;0.01'</td>\n",
       "      <td>'A'</td>\n",
       "    </tr>\n",
       "    <tr>\n",
       "      <th>26</th>\n",
       "      <td>'Cheranmadevi'</td>\n",
       "      <td>'7.09'</td>\n",
       "      <td>'6.43'</td>\n",
       "      <td>'77'</td>\n",
       "      <td>'2'</td>\n",
       "      <td>'0.533'</td>\n",
       "      <td>'0.039'</td>\n",
       "      <td>'14'</td>\n",
       "      <td>'42'</td>\n",
       "      <td>'3.6'</td>\n",
       "      <td>...</td>\n",
       "      <td>'4.2'</td>\n",
       "      <td>'2.6'</td>\n",
       "      <td>'50'</td>\n",
       "      <td>'43'</td>\n",
       "      <td>'5.5'</td>\n",
       "      <td>'&lt;0.15'</td>\n",
       "      <td>'&lt;0.002'</td>\n",
       "      <td>'0.7'</td>\n",
       "      <td>'&lt;0.01'</td>\n",
       "      <td>'A'</td>\n",
       "    </tr>\n",
       "    <tr>\n",
       "      <th>27</th>\n",
       "      <td>'Kokirakulam'</td>\n",
       "      <td>'6.01'</td>\n",
       "      <td>'6.52'</td>\n",
       "      <td>'112'</td>\n",
       "      <td>'3'</td>\n",
       "      <td>'0.586'</td>\n",
       "      <td>'0.084'</td>\n",
       "      <td>'29'</td>\n",
       "      <td>'92'</td>\n",
       "      <td>'3.2'</td>\n",
       "      <td>...</td>\n",
       "      <td>'4'</td>\n",
       "      <td>'4.9'</td>\n",
       "      <td>'79'</td>\n",
       "      <td>'71'</td>\n",
       "      <td>'7.6'</td>\n",
       "      <td>'&lt;0.15'</td>\n",
       "      <td>'&lt;0.002'</td>\n",
       "      <td>'1.8'</td>\n",
       "      <td>'&lt;0.01'</td>\n",
       "      <td>'B'</td>\n",
       "    </tr>\n",
       "    <tr>\n",
       "      <th>28</th>\n",
       "      <td>'Murapanadu'</td>\n",
       "      <td>'6.88'</td>\n",
       "      <td>'6.62'</td>\n",
       "      <td>'195'</td>\n",
       "      <td>'2.5'</td>\n",
       "      <td>'0.571'</td>\n",
       "      <td>'0.036'</td>\n",
       "      <td>'31'</td>\n",
       "      <td>'92'</td>\n",
       "      <td>'2.8'</td>\n",
       "      <td>...</td>\n",
       "      <td>'19'</td>\n",
       "      <td>'12'</td>\n",
       "      <td>'124'</td>\n",
       "      <td>'117'</td>\n",
       "      <td>'7.3'</td>\n",
       "      <td>'&lt;0.15'</td>\n",
       "      <td>'&lt;0.002'</td>\n",
       "      <td>'2.3'</td>\n",
       "      <td>'&lt;0.01'</td>\n",
       "      <td>'B'</td>\n",
       "    </tr>\n",
       "    <tr>\n",
       "      <th>29</th>\n",
       "      <td>'Thiruvidaimarudur'</td>\n",
       "      <td>'6.83'</td>\n",
       "      <td>'6.43'</td>\n",
       "      <td>'56'</td>\n",
       "      <td>'2.5'</td>\n",
       "      <td>'0.541'</td>\n",
       "      <td>'0.037'</td>\n",
       "      <td>'9'</td>\n",
       "      <td>'29'</td>\n",
       "      <td>'2.67'</td>\n",
       "      <td>...</td>\n",
       "      <td>'2.25'</td>\n",
       "      <td>'1.8'</td>\n",
       "      <td>'36'</td>\n",
       "      <td>'31.5'</td>\n",
       "      <td>'4.5'</td>\n",
       "      <td>'&lt;0.15'</td>\n",
       "      <td>'&lt;0.002'</td>\n",
       "      <td>'0.5'</td>\n",
       "      <td>'&lt;0.01'</td>\n",
       "      <td>'A'</td>\n",
       "    </tr>\n",
       "    <tr>\n",
       "      <th>30</th>\n",
       "      <td>'Ambasamudram'</td>\n",
       "      <td>'7.11'</td>\n",
       "      <td>'6.49'</td>\n",
       "      <td>'49'</td>\n",
       "      <td>'2'</td>\n",
       "      <td>'0.376'</td>\n",
       "      <td>'0.039'</td>\n",
       "      <td>'6'</td>\n",
       "      <td>'21'</td>\n",
       "      <td>'2.9'</td>\n",
       "      <td>...</td>\n",
       "      <td>'1.9'</td>\n",
       "      <td>'1.4'</td>\n",
       "      <td>'31.6'</td>\n",
       "      <td>'28'</td>\n",
       "      <td>'3'</td>\n",
       "      <td>'&lt;0.15'</td>\n",
       "      <td>'&lt;0.002'</td>\n",
       "      <td>'0.5'</td>\n",
       "      <td>'&lt;0.01'</td>\n",
       "      <td>'A'</td>\n",
       "    </tr>\n",
       "    <tr>\n",
       "      <th>31</th>\n",
       "      <td>'Authoor'</td>\n",
       "      <td>'6.27'</td>\n",
       "      <td>'6.62'</td>\n",
       "      <td>'597'</td>\n",
       "      <td>'3'</td>\n",
       "      <td>'0.465'</td>\n",
       "      <td>'0.143'</td>\n",
       "      <td>'32'</td>\n",
       "      <td>'96'</td>\n",
       "      <td>'5'</td>\n",
       "      <td>...</td>\n",
       "      <td>'44.5'</td>\n",
       "      <td>'56'</td>\n",
       "      <td>'383'</td>\n",
       "      <td>'371'</td>\n",
       "      <td>'11'</td>\n",
       "      <td>'&lt;0.15'</td>\n",
       "      <td>'&lt;0.002'</td>\n",
       "      <td>'7.4'</td>\n",
       "      <td>'&lt;0.01'</td>\n",
       "      <td>'B'</td>\n",
       "    </tr>\n",
       "    <tr>\n",
       "      <th>32</th>\n",
       "      <td>'Eral'</td>\n",
       "      <td>'5.62'</td>\n",
       "      <td>'6.69'</td>\n",
       "      <td>'311'</td>\n",
       "      <td>'3'</td>\n",
       "      <td>'0.71'</td>\n",
       "      <td>'0.109'</td>\n",
       "      <td>'47'</td>\n",
       "      <td>'123'</td>\n",
       "      <td>'6.8'</td>\n",
       "      <td>...</td>\n",
       "      <td>'16'</td>\n",
       "      <td>'25'</td>\n",
       "      <td>'200'</td>\n",
       "      <td>'190'</td>\n",
       "      <td>'8'</td>\n",
       "      <td>'&lt;0.15'</td>\n",
       "      <td>'&lt;0.002'</td>\n",
       "      <td>'3.8'</td>\n",
       "      <td>'&lt;0.01'</td>\n",
       "      <td>'B'</td>\n",
       "    </tr>\n",
       "    <tr>\n",
       "      <th>33</th>\n",
       "      <td>'Srivaikuntam'</td>\n",
       "      <td>'6.45'</td>\n",
       "      <td>'6.72'</td>\n",
       "      <td>'293'</td>\n",
       "      <td>'3'</td>\n",
       "      <td>'1.73'</td>\n",
       "      <td>'0.058'</td>\n",
       "      <td>'36'</td>\n",
       "      <td>'107'</td>\n",
       "      <td>'2.5'</td>\n",
       "      <td>...</td>\n",
       "      <td>'20.5'</td>\n",
       "      <td>'24'</td>\n",
       "      <td>'181'</td>\n",
       "      <td>'173'</td>\n",
       "      <td>'7.8'</td>\n",
       "      <td>'&lt;0.15'</td>\n",
       "      <td>'&lt;0.002'</td>\n",
       "      <td>'2.8'</td>\n",
       "      <td>'&lt;0.01'</td>\n",
       "      <td>'B'</td>\n",
       "    </tr>\n",
       "    <tr>\n",
       "      <th>34</th>\n",
       "      <td>'Vellakovil'</td>\n",
       "      <td>'5.53'</td>\n",
       "      <td>'6.50'</td>\n",
       "      <td>'121'</td>\n",
       "      <td>'2.4'</td>\n",
       "      <td>'0.708'</td>\n",
       "      <td>'0.059'</td>\n",
       "      <td>'20'</td>\n",
       "      <td>'62'</td>\n",
       "      <td>'3'</td>\n",
       "      <td>...</td>\n",
       "      <td>'4.94'</td>\n",
       "      <td>'6'</td>\n",
       "      <td>'78'</td>\n",
       "      <td>'71.5'</td>\n",
       "      <td>'6.3'</td>\n",
       "      <td>'&lt;0.15'</td>\n",
       "      <td>'&lt;0.002'</td>\n",
       "      <td>'1.5'</td>\n",
       "      <td>'&lt;0.01'</td>\n",
       "      <td>'B'</td>\n",
       "    </tr>\n",
       "    <tr>\n",
       "      <th>35</th>\n",
       "      <td>'Sivalaperi'</td>\n",
       "      <td>'5.65'</td>\n",
       "      <td>'6.58'</td>\n",
       "      <td>'184'</td>\n",
       "      <td>'3'</td>\n",
       "      <td>'0.72'</td>\n",
       "      <td>'0.092'</td>\n",
       "      <td>'29'</td>\n",
       "      <td>'88'</td>\n",
       "      <td>'3'</td>\n",
       "      <td>...</td>\n",
       "      <td>'8'</td>\n",
       "      <td>'12'</td>\n",
       "      <td>'117'</td>\n",
       "      <td>'109'</td>\n",
       "      <td>'8'</td>\n",
       "      <td>'&lt;0.15'</td>\n",
       "      <td>'&lt;0.002'</td>\n",
       "      <td>'1.7'</td>\n",
       "      <td>'&lt;0.01'</td>\n",
       "      <td>'B'</td>\n",
       "    </tr>\n",
       "    <tr>\n",
       "      <th>36</th>\n",
       "      <td>'Vaigai'</td>\n",
       "      <td>'5.95'</td>\n",
       "      <td>'7.48'</td>\n",
       "      <td>'854'</td>\n",
       "      <td>'4'</td>\n",
       "      <td>'0.97'</td>\n",
       "      <td>'&lt;0.2'</td>\n",
       "      <td>'2'</td>\n",
       "      <td>'4'</td>\n",
       "      <td>'0.495'</td>\n",
       "      <td>...</td>\n",
       "      <td>'25'</td>\n",
       "      <td>'68'</td>\n",
       "      <td>'482'</td>\n",
       "      <td>'474'</td>\n",
       "      <td>'8.00'</td>\n",
       "      <td>'2.00'</td>\n",
       "      <td>'0.03'</td>\n",
       "      <td>'13.00'</td>\n",
       "      <td>'&lt;0.01'</td>\n",
       "      <td>'C'</td>\n",
       "    </tr>\n",
       "    <tr>\n",
       "      <th>37</th>\n",
       "      <td>'Palar'</td>\n",
       "      <td>'5.90'</td>\n",
       "      <td>'7.60'</td>\n",
       "      <td>'1120'</td>\n",
       "      <td>'2'</td>\n",
       "      <td>'0.50'</td>\n",
       "      <td>'&lt;0.05'</td>\n",
       "      <td>'18'</td>\n",
       "      <td>'40'</td>\n",
       "      <td>'1.6'</td>\n",
       "      <td>...</td>\n",
       "      <td>'127'</td>\n",
       "      <td>'225'</td>\n",
       "      <td>'780'</td>\n",
       "      <td>'551'</td>\n",
       "      <td>'8.5'</td>\n",
       "      <td>'1'</td>\n",
       "      <td>'&lt;0.001'</td>\n",
       "      <td>'7'</td>\n",
       "      <td>'&lt;0.1'</td>\n",
       "      <td>'A'</td>\n",
       "    </tr>\n",
       "    <tr>\n",
       "      <th>38</th>\n",
       "      <td>'Udhagamandalam'</td>\n",
       "      <td>'4.10'</td>\n",
       "      <td>'7.10'</td>\n",
       "      <td>'438'</td>\n",
       "      <td>'6.1'</td>\n",
       "      <td>'1.1'</td>\n",
       "      <td>'3.1'</td>\n",
       "      <td>'296'</td>\n",
       "      <td>'256'</td>\n",
       "      <td>'30.0'</td>\n",
       "      <td>...</td>\n",
       "      <td>'6.8'</td>\n",
       "      <td>'31.0'</td>\n",
       "      <td>'314'</td>\n",
       "      <td>'248'</td>\n",
       "      <td>'35'</td>\n",
       "      <td>'0.500'</td>\n",
       "      <td>'&lt;0.002'</td>\n",
       "      <td>'16.5'</td>\n",
       "      <td>'1.2'</td>\n",
       "      <td>'D'</td>\n",
       "    </tr>\n",
       "    <tr>\n",
       "      <th>39</th>\n",
       "      <td>'Kodaikanal'</td>\n",
       "      <td>'6.55'</td>\n",
       "      <td>'6.93'</td>\n",
       "      <td>'115'</td>\n",
       "      <td>'3.6'</td>\n",
       "      <td>'1.0'</td>\n",
       "      <td>'0.1'</td>\n",
       "      <td>'52'</td>\n",
       "      <td>'76'</td>\n",
       "      <td>'0.6'</td>\n",
       "      <td>...</td>\n",
       "      <td>'2.8'</td>\n",
       "      <td>'10.0'</td>\n",
       "      <td>'66'</td>\n",
       "      <td>'58'</td>\n",
       "      <td>'8'</td>\n",
       "      <td>'0.160'</td>\n",
       "      <td>'0.030'</td>\n",
       "      <td>'0.1'</td>\n",
       "      <td>'0.18'</td>\n",
       "      <td>'C'</td>\n",
       "    </tr>\n",
       "    <tr>\n",
       "      <th>40</th>\n",
       "      <td>'Yercaud'</td>\n",
       "      <td>'6.20'</td>\n",
       "      <td>'7.30'</td>\n",
       "      <td>'400'</td>\n",
       "      <td>'2.4'</td>\n",
       "      <td>'0.7'</td>\n",
       "      <td>'0.2'</td>\n",
       "      <td>'250'</td>\n",
       "      <td>'623'</td>\n",
       "      <td>'17'</td>\n",
       "      <td>...</td>\n",
       "      <td>'4.0'</td>\n",
       "      <td>'31.0'</td>\n",
       "      <td>'289'</td>\n",
       "      <td>'265'</td>\n",
       "      <td>'25'</td>\n",
       "      <td>'0.100'</td>\n",
       "      <td>'&lt;0.002'</td>\n",
       "      <td>'10.0'</td>\n",
       "      <td>'0.4'</td>\n",
       "      <td>'B'</td>\n",
       "    </tr>\n",
       "    <tr>\n",
       "      <th>41</th>\n",
       "      <td>'Veeranam'</td>\n",
       "      <td>'5.68'</td>\n",
       "      <td>'8.07'</td>\n",
       "      <td>'495'</td>\n",
       "      <td>'4.0'</td>\n",
       "      <td>'0.2'</td>\n",
       "      <td>'0.5'</td>\n",
       "      <td>'87'</td>\n",
       "      <td>'231'</td>\n",
       "      <td>'44'</td>\n",
       "      <td>...</td>\n",
       "      <td>'19.5'</td>\n",
       "      <td>'67.8'</td>\n",
       "      <td>'354'</td>\n",
       "      <td>'325'</td>\n",
       "      <td>'43'</td>\n",
       "      <td>'0.120'</td>\n",
       "      <td>'&lt;0.002'</td>\n",
       "      <td>'5.9'</td>\n",
       "      <td>'0.7'</td>\n",
       "      <td>'D'</td>\n",
       "    </tr>\n",
       "    <tr>\n",
       "      <th>42</th>\n",
       "      <td>'Poondi'</td>\n",
       "      <td>'6.11'</td>\n",
       "      <td>'7.59'</td>\n",
       "      <td>'592'</td>\n",
       "      <td>'4.5'</td>\n",
       "      <td>'1.86'</td>\n",
       "      <td>'&lt;0.05'</td>\n",
       "      <td>'36'</td>\n",
       "      <td>'238'</td>\n",
       "      <td>'902'</td>\n",
       "      <td>...</td>\n",
       "      <td>'70.0'</td>\n",
       "      <td>'135.0'</td>\n",
       "      <td>'407'</td>\n",
       "      <td>'248'</td>\n",
       "      <td>'30'</td>\n",
       "      <td>'&lt;0.5'</td>\n",
       "      <td>'&lt;0.001'</td>\n",
       "      <td>'6.8'</td>\n",
       "      <td>'&lt;0.1'</td>\n",
       "      <td>'D'</td>\n",
       "    </tr>\n",
       "    <tr>\n",
       "      <th>43</th>\n",
       "      <td>'Red Hills'</td>\n",
       "      <td>'5.70'</td>\n",
       "      <td>'7.60'</td>\n",
       "      <td>'988'</td>\n",
       "      <td>'5.5'</td>\n",
       "      <td>'&lt;1'</td>\n",
       "      <td>'&lt;0.05'</td>\n",
       "      <td>'163'</td>\n",
       "      <td>'516'</td>\n",
       "      <td>'5.2'</td>\n",
       "      <td>...</td>\n",
       "      <td>'168.0'</td>\n",
       "      <td>'179.0'</td>\n",
       "      <td>'652'</td>\n",
       "      <td>'512'</td>\n",
       "      <td>'10'</td>\n",
       "      <td>'&lt;0.5'</td>\n",
       "      <td>'&lt;0.001'</td>\n",
       "      <td>'5.8'</td>\n",
       "      <td>'&lt;0.1'</td>\n",
       "      <td>'D'</td>\n",
       "    </tr>\n",
       "    <tr>\n",
       "      <th>44</th>\n",
       "      <td>'Porur'</td>\n",
       "      <td>'6.35'</td>\n",
       "      <td>'7.86'</td>\n",
       "      <td>'1131'</td>\n",
       "      <td>'4.3'</td>\n",
       "      <td>'&lt;1'</td>\n",
       "      <td>'1.8'</td>\n",
       "      <td>'170'</td>\n",
       "      <td>'965'</td>\n",
       "      <td>'5.2'</td>\n",
       "      <td>...</td>\n",
       "      <td>'102.0'</td>\n",
       "      <td>'167.0'</td>\n",
       "      <td>'779'</td>\n",
       "      <td>'585'</td>\n",
       "      <td>'17'</td>\n",
       "      <td>'&lt;0.5'</td>\n",
       "      <td>'&lt;0.001'</td>\n",
       "      <td>'13.0'</td>\n",
       "      <td>'&lt;0.1'</td>\n",
       "      <td>'D'</td>\n",
       "    </tr>\n",
       "    <tr>\n",
       "      <th>45</th>\n",
       "      <td>'Pulicate'</td>\n",
       "      <td>'5.40'</td>\n",
       "      <td>'7.76'</td>\n",
       "      <td>'75544'</td>\n",
       "      <td>'4.0'</td>\n",
       "      <td>'1.8'</td>\n",
       "      <td>'0.4'</td>\n",
       "      <td>'379'</td>\n",
       "      <td>'311'</td>\n",
       "      <td>'11.9'</td>\n",
       "      <td>...</td>\n",
       "      <td>'2694.0'</td>\n",
       "      <td>'15176.0'</td>\n",
       "      <td>'57900'</td>\n",
       "      <td>'50269'</td>\n",
       "      <td>'21'</td>\n",
       "      <td>'0.1'</td>\n",
       "      <td>'&lt;0.001'</td>\n",
       "      <td>'400.0'</td>\n",
       "      <td>'&lt;0.1'</td>\n",
       "      <td>'D'</td>\n",
       "    </tr>\n",
       "    <tr>\n",
       "      <th>46</th>\n",
       "      <td>'Mettur'</td>\n",
       "      <td>'5.80'</td>\n",
       "      <td>'7.60'</td>\n",
       "      <td>'353'</td>\n",
       "      <td>'2.0'</td>\n",
       "      <td>'0.31'</td>\n",
       "      <td>'0.260'</td>\n",
       "      <td>'38'</td>\n",
       "      <td>'118'</td>\n",
       "      <td>'14.1'</td>\n",
       "      <td>...</td>\n",
       "      <td>'16'</td>\n",
       "      <td>'24.9'</td>\n",
       "      <td>'247'</td>\n",
       "      <td>'230'</td>\n",
       "      <td>'17'</td>\n",
       "      <td>'0.15'</td>\n",
       "      <td>'&lt;0.002'</td>\n",
       "      <td>'3.04'</td>\n",
       "      <td>'0.48'</td>\n",
       "      <td>'B'</td>\n",
       "    </tr>\n",
       "    <tr>\n",
       "      <th>47</th>\n",
       "      <td>'Pallipalayam'</td>\n",
       "      <td>'6.09'</td>\n",
       "      <td>'7.61'</td>\n",
       "      <td>'465'</td>\n",
       "      <td>'2.7'</td>\n",
       "      <td>'0.15'</td>\n",
       "      <td>'0.090'</td>\n",
       "      <td>'291'</td>\n",
       "      <td>'691'</td>\n",
       "      <td>'16.5'</td>\n",
       "      <td>...</td>\n",
       "      <td>'14'</td>\n",
       "      <td>'43.0'</td>\n",
       "      <td>'333'</td>\n",
       "      <td>'284'</td>\n",
       "      <td>'24'</td>\n",
       "      <td>'0.30'</td>\n",
       "      <td>'&lt;0.002'</td>\n",
       "      <td>'4.30'</td>\n",
       "      <td>'0.49'</td>\n",
       "      <td>'B'</td>\n",
       "    </tr>\n",
       "    <tr>\n",
       "      <th>48</th>\n",
       "      <td>'Bhavani'</td>\n",
       "      <td>'6.06'</td>\n",
       "      <td>'7.70'</td>\n",
       "      <td>'459.4'</td>\n",
       "      <td>'2'</td>\n",
       "      <td>'0.310'</td>\n",
       "      <td>'0.230'</td>\n",
       "      <td>'105'</td>\n",
       "      <td>'280'</td>\n",
       "      <td>'13.3'</td>\n",
       "      <td>...</td>\n",
       "      <td>'22'</td>\n",
       "      <td>'41'</td>\n",
       "      <td>'331'</td>\n",
       "      <td>'311'</td>\n",
       "      <td>'18'</td>\n",
       "      <td>'0.2'</td>\n",
       "      <td>'&lt;0.002'</td>\n",
       "      <td>'4.5'</td>\n",
       "      <td>'0.550'</td>\n",
       "      <td>'B'</td>\n",
       "    </tr>\n",
       "    <tr>\n",
       "      <th>49</th>\n",
       "      <td>'Bhavani sagar'</td>\n",
       "      <td>'6.07'</td>\n",
       "      <td>'7.29'</td>\n",
       "      <td>'194'</td>\n",
       "      <td>'&lt;2'</td>\n",
       "      <td>'0.100'</td>\n",
       "      <td>'0.050'</td>\n",
       "      <td>'36'</td>\n",
       "      <td>'107'</td>\n",
       "      <td>'9'</td>\n",
       "      <td>...</td>\n",
       "      <td>'7'</td>\n",
       "      <td>'13'</td>\n",
       "      <td>'150'</td>\n",
       "      <td>'136'</td>\n",
       "      <td>'13'</td>\n",
       "      <td>'0.200'</td>\n",
       "      <td>'&lt;0.002'</td>\n",
       "      <td>'2.7'</td>\n",
       "      <td>'0.460'</td>\n",
       "      <td>'B'</td>\n",
       "    </tr>\n",
       "    <tr>\n",
       "      <th>50</th>\n",
       "      <td>'Sirumugai'</td>\n",
       "      <td>'6.50'</td>\n",
       "      <td>'6.88'</td>\n",
       "      <td>'228'</td>\n",
       "      <td>'&lt;2'</td>\n",
       "      <td>'0.390'</td>\n",
       "      <td>'0.010'</td>\n",
       "      <td>'58'</td>\n",
       "      <td>'144'</td>\n",
       "      <td>'76'</td>\n",
       "      <td>...</td>\n",
       "      <td>'5'</td>\n",
       "      <td>'14'</td>\n",
       "      <td>'137'</td>\n",
       "      <td>'124'</td>\n",
       "      <td>'74'</td>\n",
       "      <td>'0.170'</td>\n",
       "      <td>'&lt;0.002'</td>\n",
       "      <td>'2.7'</td>\n",
       "      <td>'0.570'</td>\n",
       "      <td>'B'</td>\n",
       "    </tr>\n",
       "    <tr>\n",
       "      <th>51</th>\n",
       "      <td>'Bathira kaliamman koil'</td>\n",
       "      <td>'6.63'</td>\n",
       "      <td>'6.94'</td>\n",
       "      <td>'197'</td>\n",
       "      <td>'&lt;2'</td>\n",
       "      <td>'0.150'</td>\n",
       "      <td>'0.100'</td>\n",
       "      <td>'35'</td>\n",
       "      <td>'103'</td>\n",
       "      <td>'58'</td>\n",
       "      <td>...</td>\n",
       "      <td>'5.00'</td>\n",
       "      <td>'13'</td>\n",
       "      <td>'149'</td>\n",
       "      <td>'136'</td>\n",
       "      <td>'54'</td>\n",
       "      <td>'0.110'</td>\n",
       "      <td>'&lt;0.002'</td>\n",
       "      <td>'2.2'</td>\n",
       "      <td>'0.490'</td>\n",
       "      <td>'B'</td>\n",
       "    </tr>\n",
       "    <tr>\n",
       "      <th>52</th>\n",
       "      <td>'Musiri Borewell'</td>\n",
       "      <td>'6.70'</td>\n",
       "      <td>'8.03'</td>\n",
       "      <td>'406'</td>\n",
       "      <td>'&lt;2'</td>\n",
       "      <td>'0.0'</td>\n",
       "      <td>'0.006'</td>\n",
       "      <td>'&lt;1.8'</td>\n",
       "      <td>'2'</td>\n",
       "      <td>'13.0'</td>\n",
       "      <td>...</td>\n",
       "      <td>'6'</td>\n",
       "      <td>'32.0'</td>\n",
       "      <td>'280'</td>\n",
       "      <td>'264'</td>\n",
       "      <td>'20'</td>\n",
       "      <td>'0.1'</td>\n",
       "      <td>'&lt;0.002'</td>\n",
       "      <td>'5.2'</td>\n",
       "      <td>'1.26'</td>\n",
       "      <td>'A'</td>\n",
       "    </tr>\n",
       "    <tr>\n",
       "      <th>53</th>\n",
       "      <td>'Musiri Ferrygate'</td>\n",
       "      <td>'6.58'</td>\n",
       "      <td>'7.73'</td>\n",
       "      <td>'585'</td>\n",
       "      <td>'&lt;2'</td>\n",
       "      <td>'0.93'</td>\n",
       "      <td>'0.155'</td>\n",
       "      <td>'177'</td>\n",
       "      <td>'488'</td>\n",
       "      <td>'14.0'</td>\n",
       "      <td>...</td>\n",
       "      <td>'29'</td>\n",
       "      <td>'40.0'</td>\n",
       "      <td>'415'</td>\n",
       "      <td>'392'</td>\n",
       "      <td>'19'</td>\n",
       "      <td>'0.1'</td>\n",
       "      <td>'&lt;0.002'</td>\n",
       "      <td>'5.1'</td>\n",
       "      <td>'0.87'</td>\n",
       "      <td>'B'</td>\n",
       "    </tr>\n",
       "    <tr>\n",
       "      <th>54</th>\n",
       "      <td>'Kallidai Kurichi'</td>\n",
       "      <td>'7.12'</td>\n",
       "      <td>'6.46'</td>\n",
       "      <td>'51'</td>\n",
       "      <td>'2'</td>\n",
       "      <td>'0.515'</td>\n",
       "      <td>'0.049'</td>\n",
       "      <td>'7'</td>\n",
       "      <td>'23'</td>\n",
       "      <td>'2.96'</td>\n",
       "      <td>...</td>\n",
       "      <td>'1.8'</td>\n",
       "      <td>'0.7'</td>\n",
       "      <td>'33.8'</td>\n",
       "      <td>'30'</td>\n",
       "      <td>'3.5'</td>\n",
       "      <td>'0.15'</td>\n",
       "      <td>'&lt;0.002'</td>\n",
       "      <td>'0.5'</td>\n",
       "      <td>'&lt;0.01'</td>\n",
       "      <td>'A'</td>\n",
       "    </tr>\n",
       "  </tbody>\n",
       "</table>\n",
       "<p>55 rows × 29 columns</p>\n",
       "</div>"
      ],
      "text/plain": [
       "                 Name of station D.O mg/L       pH Conductivity m mhos/cm  \\\n",
       "0                        'Pudur'   '5.39'   '7.60'                  '476'   \n",
       "1                 'Vairapalayam'   '5.76'   '7.84'                  '458'   \n",
       "2                      'P.Velur'   '6.49'   '7.88'                  '568'   \n",
       "3                      'Mohanur'   '6.22'   '7.87'                '643.8'   \n",
       "4                 'Madathukulam'   '5.88'   '7.25'                  '332'   \n",
       "5                'Thirumukkudal'   '6.32'   '8.00'                  '674'   \n",
       "6                   'Trichy U/S'   '6.44'   '7.82'                  '406'   \n",
       "7                   'Trichy D/S'   '5.80'   '7.34'                  '483'   \n",
       "8                'Grand Anaicut'   '5.70'   '7.50'                  '456'   \n",
       "9                     'Coleroon'   '5.90'   '7.85'                '25912'   \n",
       "10                 'Pitchavaram'   '6.20'   '7.50'                 '3245'   \n",
       "11            'Karunthattankudi'   '6.16'   '7.85'                  '441'   \n",
       "12               'Komarapalayam'   '6.32'   '7.54'                  '421'   \n",
       "13               'Urrachikottai'   '6.42'   '7.99'                  '378'   \n",
       "14               'Chirampalayam'   '6.55'   '7.59'                  '374'   \n",
       "15                     'Pugalur'   '6.45'   '8.00'                  '636'   \n",
       "16              'Pettavaithalai'   '6.24'   '7.92'                  '485'   \n",
       "17                  'Kumbakonam'   '6.28'   '7.93'                  '355'   \n",
       "18                 'Mayiladurai'   '5.94'   '7.65'                  '578'   \n",
       "19            'Sathiyamanagalam'   '6.12'   '7.37'                  '226'   \n",
       "20  'Thirumanimuthar (Borewell)'   '6.08'   '7.49'                 '4927'   \n",
       "21                   'Sarabanga'   '6.35'   '8.08'                 '2890'   \n",
       "22          'Vasista (Borewell)'   '5.85'   '7.42'                 '3944'   \n",
       "23    'Kalingalrayan Canal (B5)'   '6.50'   '7.84'                  '388'   \n",
       "24   'Kalingalrayan Canal (B10)'   '6.35'   '7.91'                  '394'   \n",
       "25                   'Papanasam'   '7.09'   '6.59'                   '47'   \n",
       "26                'Cheranmadevi'   '7.09'   '6.43'                   '77'   \n",
       "27                 'Kokirakulam'   '6.01'   '6.52'                  '112'   \n",
       "28                  'Murapanadu'   '6.88'   '6.62'                  '195'   \n",
       "29           'Thiruvidaimarudur'   '6.83'   '6.43'                   '56'   \n",
       "30                'Ambasamudram'   '7.11'   '6.49'                   '49'   \n",
       "31                     'Authoor'   '6.27'   '6.62'                  '597'   \n",
       "32                        'Eral'   '5.62'   '6.69'                  '311'   \n",
       "33                'Srivaikuntam'   '6.45'   '6.72'                  '293'   \n",
       "34                  'Vellakovil'   '5.53'   '6.50'                  '121'   \n",
       "35                  'Sivalaperi'   '5.65'   '6.58'                  '184'   \n",
       "36                      'Vaigai'   '5.95'   '7.48'                  '854'   \n",
       "37                       'Palar'   '5.90'   '7.60'                 '1120'   \n",
       "38              'Udhagamandalam'   '4.10'   '7.10'                  '438'   \n",
       "39                  'Kodaikanal'   '6.55'   '6.93'                  '115'   \n",
       "40                     'Yercaud'   '6.20'   '7.30'                  '400'   \n",
       "41                    'Veeranam'   '5.68'   '8.07'                  '495'   \n",
       "42                      'Poondi'   '6.11'   '7.59'                  '592'   \n",
       "43                   'Red Hills'   '5.70'   '7.60'                  '988'   \n",
       "44                       'Porur'   '6.35'   '7.86'                 '1131'   \n",
       "45                    'Pulicate'   '5.40'   '7.76'                '75544'   \n",
       "46                      'Mettur'   '5.80'   '7.60'                  '353'   \n",
       "47                'Pallipalayam'   '6.09'   '7.61'                  '465'   \n",
       "48                     'Bhavani'   '6.06'   '7.70'                '459.4'   \n",
       "49               'Bhavani sagar'   '6.07'   '7.29'                  '194'   \n",
       "50                   'Sirumugai'   '6.50'   '6.88'                  '228'   \n",
       "51      'Bathira kaliamman koil'   '6.63'   '6.94'                  '197'   \n",
       "52             'Musiri Borewell'   '6.70'   '8.03'                  '406'   \n",
       "53            'Musiri Ferrygate'   '6.58'   '7.73'                  '585'   \n",
       "54            'Kallidai Kurichi'   '7.12'   '6.46'                   '51'   \n",
       "\n",
       "   BOD at 27 C mg/L Nitrate mg/L Nitrite mg/L Fecal coliform MPN/100  \\\n",
       "0               '4'      '0.220'      '0.200'                '160.2'   \n",
       "1               '3'      '0.271'      '0.036'                  '170'   \n",
       "2              '<2'      '0.230'      '0.090'                  '146'   \n",
       "3              '<2'      '0.250'      '0.060'                  '151'   \n",
       "4              '<2'      '0.328'      '0.011'                   '34'   \n",
       "5              '<2'      '0.220'      '0.010'                  '127'   \n",
       "6              '<2'      '0.760'      '0.070'                  '227'   \n",
       "7               '2'      '0.920'      '0.390'                  '315'   \n",
       "8             '2.2'      '0.880'      '0.220'                '108.1'   \n",
       "9              '<2'      '0.412'      '0.033'                   '70'   \n",
       "10              '2'      '0.200'      '0.300'                '134.7'   \n",
       "11            '3.2'      '0.759'      '0.045'                  '160'   \n",
       "12             '<2'       '0.12'      '0.180'                  '256'   \n",
       "13             '<2'       '0.16'      '0.139'                   '76'   \n",
       "14             '<2'       '0.21'      '0.263'                  '147'   \n",
       "15             '<2'       '0.20'      '0.056'                  '125'   \n",
       "16             '<2'       '0.70'      '0.043'                  '196'   \n",
       "17              '2'       '0.93'      '0.022'                  '130'   \n",
       "18             '<2'       '1.16'     '0.1648'                   '67'   \n",
       "19             '<2'       '0.15'      '0.083'                   '29'   \n",
       "20              '4'       '3.17'      '0.428'                 '7009'   \n",
       "21             '18'        '5.0'       '9.00'                 '5675'   \n",
       "22             '<2'       '1.30'      '0.519'                  '362'   \n",
       "23             '<2'       '0.17'      '0.017'                   '76'   \n",
       "24             '<2'       '0.16'      '0.017'                   '69'   \n",
       "25              '2'      '0.431'      '0.028'                    '3'   \n",
       "26              '2'      '0.533'      '0.039'                   '14'   \n",
       "27              '3'      '0.586'      '0.084'                   '29'   \n",
       "28            '2.5'      '0.571'      '0.036'                   '31'   \n",
       "29            '2.5'      '0.541'      '0.037'                    '9'   \n",
       "30              '2'      '0.376'      '0.039'                    '6'   \n",
       "31              '3'      '0.465'      '0.143'                   '32'   \n",
       "32              '3'       '0.71'      '0.109'                   '47'   \n",
       "33              '3'       '1.73'      '0.058'                   '36'   \n",
       "34            '2.4'      '0.708'      '0.059'                   '20'   \n",
       "35              '3'       '0.72'      '0.092'                   '29'   \n",
       "36              '4'       '0.97'       '<0.2'                    '2'   \n",
       "37              '2'       '0.50'      '<0.05'                   '18'   \n",
       "38            '6.1'        '1.1'        '3.1'                  '296'   \n",
       "39            '3.6'        '1.0'        '0.1'                   '52'   \n",
       "40            '2.4'        '0.7'        '0.2'                  '250'   \n",
       "41            '4.0'        '0.2'        '0.5'                   '87'   \n",
       "42            '4.5'       '1.86'      '<0.05'                   '36'   \n",
       "43            '5.5'         '<1'      '<0.05'                  '163'   \n",
       "44            '4.3'         '<1'        '1.8'                  '170'   \n",
       "45            '4.0'        '1.8'        '0.4'                  '379'   \n",
       "46            '2.0'       '0.31'      '0.260'                   '38'   \n",
       "47            '2.7'       '0.15'      '0.090'                  '291'   \n",
       "48              '2'      '0.310'      '0.230'                  '105'   \n",
       "49             '<2'      '0.100'      '0.050'                   '36'   \n",
       "50             '<2'      '0.390'      '0.010'                   '58'   \n",
       "51             '<2'      '0.150'      '0.100'                   '35'   \n",
       "52             '<2'        '0.0'      '0.006'                 '<1.8'   \n",
       "53             '<2'       '0.93'      '0.155'                  '177'   \n",
       "54              '2'      '0.515'      '0.049'                    '7'   \n",
       "\n",
       "   Total coliform MPN/100 Turbidity NTU  ...   Sulphate      Sodium  \\\n",
       "0                   '401'         '9.7'  ...       '10'        '48'   \n",
       "1                   '418'        '9.49'  ...       '12'        '47'   \n",
       "2                   '355'          '16'  ...       '25'        '60'   \n",
       "3                   '375'        '15.9'  ...       '29'        '69'   \n",
       "4                    '88'        '13.5'  ...       '20'        '22'   \n",
       "5                   '311'          '12'  ...       '29'        '79'   \n",
       "6                   '648'         '8.7'  ...     '13.9'      '36.0'   \n",
       "7                   '798'          '23'  ...     '20.0'      '44.6'   \n",
       "8                   '292'        '13.9'  ...     '14.0'      '40.0'   \n",
       "9                   '190'          '22'  ...      '905'      '3339'   \n",
       "10                  '331'          '24'  ...    '129.0'     '485.0'   \n",
       "11                  '390'        '23.0'  ...     '19.0'      '39.0'   \n",
       "12                  '633'          '15'  ...       '13'        '38'   \n",
       "13                  '197'           '8'  ...       '14'        '28'   \n",
       "14                  '418'          '14'  ...       '11'        '29'   \n",
       "15                  '312'          '15'  ...       '32'        '67'   \n",
       "16                  '514'          '10'  ...       '21'        '45'   \n",
       "17                  '344'          '15'  ...       '12'        '29'   \n",
       "18                  '135'           '9'  ...       '14'        '58'   \n",
       "19                   '81'          '16'  ...       '10'        '16'   \n",
       "20                '14187'           '9'  ...      '109'       '438'   \n",
       "21                 '9362'           '9'  ...      '208'       '487'   \n",
       "22                  '794'           '8'  ...      '148'       '379'   \n",
       "23                  '167'          '14'  ...       '19'        '27'   \n",
       "24                  '181'          '12'  ...       '19'        '28'   \n",
       "25                   '13'        '2.26'  ...     '1.72'       '1.7'   \n",
       "26                   '42'         '3.6'  ...      '4.2'       '2.6'   \n",
       "27                   '92'         '3.2'  ...        '4'       '4.9'   \n",
       "28                   '92'         '2.8'  ...       '19'        '12'   \n",
       "29                   '29'        '2.67'  ...     '2.25'       '1.8'   \n",
       "30                   '21'         '2.9'  ...      '1.9'       '1.4'   \n",
       "31                   '96'           '5'  ...     '44.5'        '56'   \n",
       "32                  '123'         '6.8'  ...       '16'        '25'   \n",
       "33                  '107'         '2.5'  ...     '20.5'        '24'   \n",
       "34                   '62'           '3'  ...     '4.94'         '6'   \n",
       "35                   '88'           '3'  ...        '8'        '12'   \n",
       "36                    '4'       '0.495'  ...       '25'        '68'   \n",
       "37                   '40'         '1.6'  ...      '127'       '225'   \n",
       "38                  '256'        '30.0'  ...      '6.8'      '31.0'   \n",
       "39                   '76'         '0.6'  ...      '2.8'      '10.0'   \n",
       "40                  '623'          '17'  ...      '4.0'      '31.0'   \n",
       "41                  '231'          '44'  ...     '19.5'      '67.8'   \n",
       "42                  '238'         '902'  ...     '70.0'     '135.0'   \n",
       "43                  '516'         '5.2'  ...    '168.0'     '179.0'   \n",
       "44                  '965'         '5.2'  ...    '102.0'     '167.0'   \n",
       "45                  '311'        '11.9'  ...   '2694.0'   '15176.0'   \n",
       "46                  '118'        '14.1'  ...       '16'      '24.9'   \n",
       "47                  '691'        '16.5'  ...       '14'      '43.0'   \n",
       "48                  '280'        '13.3'  ...       '22'        '41'   \n",
       "49                  '107'           '9'  ...        '7'        '13'   \n",
       "50                  '144'          '76'  ...        '5'        '14'   \n",
       "51                  '103'          '58'  ...     '5.00'        '13'   \n",
       "52                    '2'        '13.0'  ...        '6'      '32.0'   \n",
       "53                  '488'        '14.0'  ...       '29'      '40.0'   \n",
       "54                   '23'        '2.96'  ...      '1.8'       '0.7'   \n",
       "\n",
       "   Total Dissolved Solids Total Fixed Solids Total Suspended Solids Phosphate  \\\n",
       "0                   '332'              '300'                   '17'   '0.160'   \n",
       "1                   '332'              '304'                   '31'   '0.196'   \n",
       "2                   '384'              '362'                   '20'   '0.310'   \n",
       "3                   '447'              '423'                   '20'     '0.3'   \n",
       "4                   '238'              '222'                   '21'   '0.146'   \n",
       "5                   '470'             '4447'                   '20'   '0.290'   \n",
       "6                 '324.8'            '304.0'                 '11.0'   '0.120'   \n",
       "7                 '355.0'            '333.6'                 '29.6'   '0.290'   \n",
       "8                 '337.6'            '317.6'                 '17.6'   '0.210'   \n",
       "9                 '16872'            '16747'                   '26'   '0.289'   \n",
       "10               '2153.7'           '2105.7'                 '30.0'   '1.000'   \n",
       "11                '317.0'            '395.0'                 '30.0'   '0.122'   \n",
       "12                  '298'              '276'                   '19'    '0.24'   \n",
       "13                  '273'              '255'                   '13'    '0.18'   \n",
       "14                  '269'              '249'                   '17'    '0.17'   \n",
       "15                  '441'              '419'                   '17'    '0.31'   \n",
       "16                  '363'              '342'                   '14'    '0.19'   \n",
       "17                  '268'              '247'                   '20'    '0.18'   \n",
       "18                  '409'              '390'                   '14'   '0.094'   \n",
       "19                  '177'              '162'                   '14'    '0.21'   \n",
       "20                 '2812'             '3178'                  '551'    '2.00'   \n",
       "21                 '1892'             '1777'                   '24'    '1.00'   \n",
       "22                 '2536'             '2473'                   '17'    '1.00'   \n",
       "23                  '286'              '266'                   '19'    '0.22'   \n",
       "24                  '290'              '271'                   '19'    '0.19'   \n",
       "25                 '31.6'               '28'                 '3.16'   '<0.15'   \n",
       "26                   '50'               '43'                  '5.5'   '<0.15'   \n",
       "27                   '79'               '71'                  '7.6'   '<0.15'   \n",
       "28                  '124'              '117'                  '7.3'   '<0.15'   \n",
       "29                   '36'             '31.5'                  '4.5'   '<0.15'   \n",
       "30                 '31.6'               '28'                    '3'   '<0.15'   \n",
       "31                  '383'              '371'                   '11'   '<0.15'   \n",
       "32                  '200'              '190'                    '8'   '<0.15'   \n",
       "33                  '181'              '173'                  '7.8'   '<0.15'   \n",
       "34                   '78'             '71.5'                  '6.3'   '<0.15'   \n",
       "35                  '117'              '109'                    '8'   '<0.15'   \n",
       "36                  '482'              '474'                 '8.00'    '2.00'   \n",
       "37                  '780'              '551'                  '8.5'       '1'   \n",
       "38                  '314'              '248'                   '35'   '0.500'   \n",
       "39                   '66'               '58'                    '8'   '0.160'   \n",
       "40                  '289'              '265'                   '25'   '0.100'   \n",
       "41                  '354'              '325'                   '43'   '0.120'   \n",
       "42                  '407'              '248'                   '30'    '<0.5'   \n",
       "43                  '652'              '512'                   '10'    '<0.5'   \n",
       "44                  '779'              '585'                   '17'    '<0.5'   \n",
       "45                '57900'            '50269'                   '21'     '0.1'   \n",
       "46                  '247'              '230'                   '17'    '0.15'   \n",
       "47                  '333'              '284'                   '24'    '0.30'   \n",
       "48                  '331'              '311'                   '18'     '0.2'   \n",
       "49                  '150'              '136'                   '13'   '0.200'   \n",
       "50                  '137'              '124'                   '74'   '0.170'   \n",
       "51                  '149'              '136'                   '54'   '0.110'   \n",
       "52                  '280'              '264'                   '20'     '0.1'   \n",
       "53                  '415'              '392'                   '19'     '0.1'   \n",
       "54                 '33.8'               '30'                  '3.5'    '0.15'   \n",
       "\n",
       "        Boron Potassium  Fluoride DBU Class  \n",
       "0    '<0.002'     '4.7'   '0.610'       'D'  \n",
       "1    '<0.002'     '4.8'   '0.702'       'B'  \n",
       "2    '<0.002'     '5.4'   '0.590'       'B'  \n",
       "3    '<0.002'     '6.7'   '0.980'       'B'  \n",
       "4    '<0.002'     '2.7'   '0.709'       'B'  \n",
       "5    '<0.002'     '6.9'   '0.990'       'B'  \n",
       "6    '<0.002'     '5.4'   '1.040'       'B'  \n",
       "7    '<0.002'     '6.3'   '1.100'       'B'  \n",
       "8    '<0.002'     '5.8'   '0.940'       'B'  \n",
       "9    '<0.002'     '108'   '1.940'       'B'  \n",
       "10   '<0.002'    '30.6'   '0.600'       'B'  \n",
       "11   '<0.002'    '5.20'    '0.49'       'B'  \n",
       "12   '<0.002'     '4.2'    '0.64'       'B'  \n",
       "13   '<0.002'     '3.5'    '0.76'       'B'  \n",
       "14   '<0.002'     '3.6'    '0.45'       'B'  \n",
       "15   '<0.002'     '6.5'    '0.90'       'B'  \n",
       "16   '<0.002'     '6.1'    '1.16'       'B'  \n",
       "17   '<0.002'     '4.2'    '0.33'       'B'  \n",
       "18   '<0.002'     '6.2'    '0.85'        'B  \n",
       "19   '<0.002'     '3.4'    '0.54'       'B'  \n",
       "20   '<0.002'    '17.0'    '1.58'       'D'  \n",
       "21   '<0.002'    '30.0'    '0.92'       'E'  \n",
       "22   '<0.002'    '13.0'    '1.39'       'B'  \n",
       "23   '<0.002'     '3.7'    '0.62'       'B'  \n",
       "24   '<0.002'     '3.7'    '0.66'       'B'  \n",
       "25   '<0.002'     '0.7'   '<0.01'       'A'  \n",
       "26   '<0.002'     '0.7'   '<0.01'       'A'  \n",
       "27   '<0.002'     '1.8'   '<0.01'       'B'  \n",
       "28   '<0.002'     '2.3'   '<0.01'       'B'  \n",
       "29   '<0.002'     '0.5'   '<0.01'       'A'  \n",
       "30   '<0.002'     '0.5'   '<0.01'       'A'  \n",
       "31   '<0.002'     '7.4'   '<0.01'       'B'  \n",
       "32   '<0.002'     '3.8'   '<0.01'       'B'  \n",
       "33   '<0.002'     '2.8'   '<0.01'       'B'  \n",
       "34   '<0.002'     '1.5'   '<0.01'       'B'  \n",
       "35   '<0.002'     '1.7'   '<0.01'       'B'  \n",
       "36     '0.03'   '13.00'   '<0.01'       'C'  \n",
       "37   '<0.001'       '7'    '<0.1'       'A'  \n",
       "38   '<0.002'    '16.5'     '1.2'       'D'  \n",
       "39    '0.030'     '0.1'    '0.18'       'C'  \n",
       "40   '<0.002'    '10.0'     '0.4'       'B'  \n",
       "41   '<0.002'     '5.9'     '0.7'       'D'  \n",
       "42   '<0.001'     '6.8'    '<0.1'       'D'  \n",
       "43   '<0.001'     '5.8'    '<0.1'       'D'  \n",
       "44   '<0.001'    '13.0'    '<0.1'       'D'  \n",
       "45   '<0.001'   '400.0'    '<0.1'       'D'  \n",
       "46   '<0.002'    '3.04'    '0.48'       'B'  \n",
       "47   '<0.002'    '4.30'    '0.49'       'B'  \n",
       "48   '<0.002'     '4.5'   '0.550'       'B'  \n",
       "49   '<0.002'     '2.7'   '0.460'       'B'  \n",
       "50   '<0.002'     '2.7'   '0.570'       'B'  \n",
       "51   '<0.002'     '2.2'   '0.490'       'B'  \n",
       "52   '<0.002'     '5.2'    '1.26'       'A'  \n",
       "53   '<0.002'     '5.1'    '0.87'       'B'  \n",
       "54   '<0.002'     '0.5'   '<0.01'       'A'  \n",
       "\n",
       "[55 rows x 29 columns]"
      ]
     },
     "execution_count": 485,
     "metadata": {},
     "output_type": "execute_result"
    }
   ],
   "source": [
    "train_df"
   ]
  },
  {
   "cell_type": "markdown",
   "metadata": {},
   "source": [
    "## 2.Data preprocessing"
   ]
  },
  {
   "cell_type": "code",
   "execution_count": 486,
   "metadata": {},
   "outputs": [
    {
     "data": {
      "text/plain": [
       "Name of station              0\n",
       "D.O mg/L                     0\n",
       "pH                           0\n",
       "Conductivity m mhos/cm       0\n",
       "BOD at 27 C mg/L             0\n",
       "Nitrate mg/L                 0\n",
       "Nitrite mg/L                 0\n",
       "Fecal coliform MPN/100       0\n",
       "Total coliform MPN/100       0\n",
       "Turbidity NTU                0\n",
       "Phenophthaline Alkalinity    0\n",
       "Total Alkalinity             0\n",
       "Chloride                     0\n",
       "COD                          0\n",
       "Total Kjeldahl Nitrogen      0\n",
       "Ammonia-N,as N               0\n",
       "Hardness as CaCO3            0\n",
       "Calcium as Ca++              0\n",
       "Magnesium as Mg++            0\n",
       "Sulphate                     0\n",
       "Sodium                       0\n",
       "Total Dissolved Solids       0\n",
       "Total Fixed Solids           0\n",
       "Total Suspended Solids       0\n",
       "Phosphate                    0\n",
       "Boron                        0\n",
       "Potassium                    0\n",
       "Fluoride                     0\n",
       "DBU Class                    0\n",
       "dtype: int64"
      ]
     },
     "execution_count": 486,
     "metadata": {},
     "output_type": "execute_result"
    }
   ],
   "source": [
    "# find the null values\n",
    "train_df.isna().sum()"
   ]
  },
  {
   "cell_type": "code",
   "execution_count": 487,
   "metadata": {},
   "outputs": [],
   "source": [
    "train_df['DBU Class']=train_df['DBU Class'].str.strip().str.replace(\"'\", '')"
   ]
  },
  {
   "cell_type": "code",
   "execution_count": 488,
   "metadata": {},
   "outputs": [],
   "source": [
    "\n",
    "cols=train_df.columns.to_list()\n",
    "numerical_row=cols[1:len(cols)-1]\n"
   ]
  },
  {
   "cell_type": "code",
   "execution_count": 489,
   "metadata": {},
   "outputs": [],
   "source": [
    "# D.O mg/L & pH convert & Conductivity m mhos/cm  to numerical\n",
    "\n",
    "\n",
    "# eval(val) will compile the \"'45'\"  to '45' then float(eval(val)) will conver to 45\n",
    "\n",
    "# we can also do train_df[''D.O mg/L'].str.strip().str.replace(\"'\", '') \n",
    "import pandas as pd\n",
    "\n",
    "def convert_column_to_numeric(df, column_name):\n",
    "    \"\"\"Converts a column to numeric values.\n",
    "\n",
    "    Args:\n",
    "        df (pd df): data frame\n",
    "        column_name (string): column name\n",
    "\n",
    "    Returns:\n",
    "        None\n",
    "    \"\"\"\n",
    "    df[column_name] = df[column_name].apply(lambda val: float(eval(val)) if pd.notna(val) else val)\n"
   ]
  },
  {
   "cell_type": "code",
   "execution_count": 490,
   "metadata": {},
   "outputs": [],
   "source": [
    "convert_column_to_numeric(train_df, numerical_row[0])\n",
    "convert_column_to_numeric(train_df,  numerical_row[1])\n",
    "convert_column_to_numeric(train_df,  numerical_row[2])"
   ]
  },
  {
   "cell_type": "code",
   "execution_count": 491,
   "metadata": {},
   "outputs": [
    {
     "data": {
      "text/plain": [
       " '<2'     21\n",
       " '2'       9\n",
       " '3'       6\n",
       " '4'       3\n",
       " '2.5'     2\n",
       " '4.0'     2\n",
       " '2.4'     2\n",
       " '18'      1\n",
       " '3.2'     1\n",
       " '6.1'     1\n",
       " '3.6'     1\n",
       " '2.2'     1\n",
       " '4.5'     1\n",
       " '5.5'     1\n",
       " '4.3'     1\n",
       " '2.0'     1\n",
       " '2.7'     1\n",
       "Name: BOD at 27 C mg/L, dtype: int64"
      ]
     },
     "execution_count": 491,
     "metadata": {},
     "output_type": "execute_result"
    }
   ],
   "source": [
    "train_df['BOD at 27 C mg/L'].value_counts()"
   ]
  },
  {
   "cell_type": "markdown",
   "metadata": {},
   "source": [
    "BOD at 27 C mg/L -> has 21 (<2) we can replace them with a spical value such as 1.5,1"
   ]
  },
  {
   "cell_type": "code",
   "execution_count": 492,
   "metadata": {},
   "outputs": [],
   "source": [
    "from typing import List\n",
    "def normalizeAttribute(att_name:str,modifiers:List):\n",
    "    \"\"\"Normalize the attribute  and convert to numerical\n",
    "\n",
    "    Args:\n",
    "        att_name (str):  attribute name\n",
    "        modifiers (List): (modifier,value) pair used to normalize the attribute\n",
    "\n",
    "    Returns:\n",
    "        None\n",
    "    \"\"\"\n",
    "    train_df[att_name]=train_df[att_name].str.strip().str.replace(\"'\", '')\n",
    "    for modifier,val in modifiers:\n",
    "\n",
    "        # normalize the attribute\n",
    "        # replace the value\n",
    "        train_df[att_name].replace(modifier,val,inplace=True)\n",
    "        # conver to numerical\n",
    "\n",
    "    train_df[att_name]=train_df[att_name].astype(float)"
   ]
  },
  {
   "cell_type": "code",
   "execution_count": 493,
   "metadata": {},
   "outputs": [],
   "source": [
    "normalizeAttribute(numerical_row[3],[('<2',1)])"
   ]
  },
  {
   "cell_type": "code",
   "execution_count": 494,
   "metadata": {},
   "outputs": [
    {
     "name": "stdout",
     "output_type": "stream",
     "text": [
      "1.0     21\n",
      "2.0     10\n",
      "3.0      6\n",
      "4.0      5\n",
      "2.5      2\n",
      "2.4      2\n",
      "2.2      1\n",
      "3.2      1\n",
      "18.0     1\n",
      "6.1      1\n",
      "3.6      1\n",
      "4.5      1\n",
      "5.5      1\n",
      "4.3      1\n",
      "2.7      1\n",
      "Name: BOD at 27 C mg/L, dtype: int64\n"
     ]
    }
   ],
   "source": [
    "print(train_df['BOD at 27 C mg/L'].value_counts())\n"
   ]
  },
  {
   "cell_type": "markdown",
   "metadata": {},
   "source": [
    "**now lets work on Nitrate mg/L**"
   ]
  },
  {
   "cell_type": "code",
   "execution_count": 495,
   "metadata": {},
   "outputs": [
    {
     "data": {
      "text/plain": [
       " '0.220'    2\n",
       " '0.15'     2\n",
       " '<1'       2\n",
       " '0.93'     2\n",
       " '0.16'     2\n",
       " '1.0'      1\n",
       " '0.465'    1\n",
       " '0.71'     1\n",
       " '1.73'     1\n",
       " '0.708'    1\n",
       " '0.72'     1\n",
       " '0.97'     1\n",
       " '0.50'     1\n",
       " '1.1'      1\n",
       " '0.7'      1\n",
       " '0.541'    1\n",
       " '0.2'      1\n",
       " '1.86'     1\n",
       " '1.8'      1\n",
       " '0.31'     1\n",
       " '0.310'    1\n",
       " '0.100'    1\n",
       " '0.390'    1\n",
       " '0.150'    1\n",
       " '0.0'      1\n",
       " '0.376'    1\n",
       " '0.586'    1\n",
       " '0.571'    1\n",
       " '0.12'     1\n",
       " '0.230'    1\n",
       " '0.250'    1\n",
       " '0.328'    1\n",
       " '0.760'    1\n",
       " '0.920'    1\n",
       " '0.880'    1\n",
       " '0.412'    1\n",
       " '0.200'    1\n",
       " '0.759'    1\n",
       " '0.21'     1\n",
       " '0.271'    1\n",
       " '0.20'     1\n",
       " '0.70'     1\n",
       " '1.16'     1\n",
       " '3.17'     1\n",
       " '5.0'      1\n",
       " '1.30'     1\n",
       " '0.17'     1\n",
       " '0.431'    1\n",
       " '0.533'    1\n",
       " '0.515'    1\n",
       "Name: Nitrate mg/L, dtype: int64"
      ]
     },
     "execution_count": 495,
     "metadata": {},
     "output_type": "execute_result"
    }
   ],
   "source": [
    "train_df['Nitrate mg/L'].value_counts()"
   ]
  },
  {
   "cell_type": "code",
   "execution_count": 496,
   "metadata": {},
   "outputs": [],
   "source": [
    "normalizeAttribute(numerical_row[4],[('<1',1)])"
   ]
  },
  {
   "cell_type": "markdown",
   "metadata": {},
   "source": [
    "## lets make our work easy by writing a function to find the attributes that have symbols in them"
   ]
  },
  {
   "cell_type": "code",
   "execution_count": 497,
   "metadata": {},
   "outputs": [
    {
     "name": "stdout",
     "output_type": "stream",
     "text": [
      "Columns with '<' symbol: ['Nitrite mg/L', 'Fecal coliform MPN/100', 'Phenophthaline Alkalinity', 'Total Kjeldahl Nitrogen', 'Ammonia-N,as N', 'Phosphate', 'Boron', 'Fluoride']\n",
      "Idx of columns with '<' symbol: [5, 6, 9, 13, 14, 23, 24, 26]\n"
     ]
    }
   ],
   "source": [
    "import pandas as pd\n",
    "\n",
    "def find_columns_with_lt_symbol(df):\n",
    "    \"\"\"this function helps to find the columns with '<' symbol\n",
    "\n",
    "    Args:\n",
    "        df (pd df): data frame\n",
    "\n",
    "    Returns:\n",
    "        lt_columns (list): list of columns with '<' symbol\n",
    "    \"\"\"\n",
    "    lt_columns = []\n",
    "    \n",
    "    for column in df.columns:\n",
    "        if any(df[column].astype(str).str.contains('<')):\n",
    "            lt_columns.append(column)\n",
    "    \n",
    "    return lt_columns\n",
    "\n",
    "# Assuming train_df is your DataFrame\n",
    "columns_with_lt = find_columns_with_lt_symbol(train_df)\n",
    "\n",
    "print(\"Columns with '<' symbol:\", columns_with_lt)\n",
    "\n",
    "print(\"Idx of columns with '<' symbol:\", [ idx for idx,col in enumerate(numerical_row) if col in columns_with_lt])"
   ]
  },
  {
   "cell_type": "code",
   "execution_count": 498,
   "metadata": {},
   "outputs": [
    {
     "name": "stdout",
     "output_type": "stream",
     "text": [
      "Nitrite mg/L\n",
      " '<0.05'     3\n",
      " '0.039'     2\n",
      " '0.090'     2\n",
      " '0.036'     2\n",
      " '0.017'     2\n",
      " '0.010'     2\n",
      " '0.1'       1\n",
      " '0.143'     1\n",
      " '0.109'     1\n",
      " '0.058'     1\n",
      " '0.059'     1\n",
      " '0.092'     1\n",
      " '<0.2'      1\n",
      " '3.1'       1\n",
      " '0.200'     1\n",
      " '0.037'     1\n",
      " '0.5'       1\n",
      " '1.8'       1\n",
      " '0.4'       1\n",
      " '0.260'     1\n",
      " '0.230'     1\n",
      " '0.050'     1\n",
      " '0.100'     1\n",
      " '0.006'     1\n",
      " '0.155'     1\n",
      " '0.2'       1\n",
      " '0.028'     1\n",
      " '0.084'     1\n",
      " '0.180'     1\n",
      " '0.060'     1\n",
      " '0.011'     1\n",
      " '0.070'     1\n",
      " '0.390'     1\n",
      " '0.220'     1\n",
      " '0.033'     1\n",
      " '0.300'     1\n",
      " '0.045'     1\n",
      " '0.139'     1\n",
      " '0.519'     1\n",
      " '0.263'     1\n",
      " '0.056'     1\n",
      " '0.043'     1\n",
      " '0.022'     1\n",
      " '0.1648'    1\n",
      " '0.083'     1\n",
      " '0.428'     1\n",
      " '9.00'      1\n",
      " '0.049'     1\n",
      "Name: Nitrite mg/L, dtype: int64\n",
      "Fecal coliform MPN/100\n",
      " '36'       3\n",
      " '29'       3\n",
      " '76'       2\n",
      " '170'      2\n",
      " '31'       1\n",
      " '6'        1\n",
      " '32'       1\n",
      " '47'       1\n",
      " '20'       1\n",
      " '2'        1\n",
      " '18'       1\n",
      " '296'      1\n",
      " '52'       1\n",
      " '160.2'    1\n",
      " '250'      1\n",
      " '87'       1\n",
      " '163'      1\n",
      " '379'      1\n",
      " '38'       1\n",
      " '291'      1\n",
      " '105'      1\n",
      " '58'       1\n",
      " '35'       1\n",
      " '<1.8'     1\n",
      " '177'      1\n",
      " '9'        1\n",
      " '3'        1\n",
      " '14'       1\n",
      " '69'       1\n",
      " '146'      1\n",
      " '151'      1\n",
      " '34'       1\n",
      " '127'      1\n",
      " '227'      1\n",
      " '315'      1\n",
      " '108.1'    1\n",
      " '70'       1\n",
      " '134.7'    1\n",
      " '160'      1\n",
      " '256'      1\n",
      " '147'      1\n",
      " '125'      1\n",
      " '196'      1\n",
      " '130'      1\n",
      " '67'       1\n",
      " '7009'     1\n",
      " '5675'     1\n",
      " '362'      1\n",
      " '7'        1\n",
      "Name: Fecal coliform MPN/100, dtype: int64\n",
      "Phenophthaline Alkalinity\n",
      " '<1'      22\n",
      " '12'       3\n",
      " '9'        2\n",
      " '8.0'      2\n",
      " '12.0'     2\n",
      " '18'       2\n",
      " '15'       2\n",
      " '16'       2\n",
      " '9.33'     1\n",
      " '37'       1\n",
      " '17'       1\n",
      " '13.8'     1\n",
      " '10.0'     1\n",
      " '11'       1\n",
      " '13.0'     1\n",
      " '1.00'     1\n",
      " '6'        1\n",
      " '42'       1\n",
      " '10.7'     1\n",
      " '13'       1\n",
      " '21'       1\n",
      " '7.3'      1\n",
      " '5'        1\n",
      " '10'       1\n",
      " '11.5'     1\n",
      " '21.0'     1\n",
      "Name: Phenophthaline Alkalinity, dtype: int64\n",
      "Total Kjeldahl Nitrogen\n",
      " '3'        10\n",
      " '4'         4\n",
      " '2'         4\n",
      " '<0.56'     3\n",
      " '0.39'      2\n",
      " '3.4'       2\n",
      " '5'         2\n",
      " '7.4'       1\n",
      " '7.6'       1\n",
      " '8.6'       1\n",
      " '3.60'      1\n",
      " '20'        1\n",
      " '2.0'       1\n",
      " '3.13'      1\n",
      " '3.8'       1\n",
      " '2.15'      1\n",
      " '2.05'      1\n",
      " '5.3'       1\n",
      " '2.2'       1\n",
      " '6.5'       1\n",
      " '0.56'      1\n",
      " '1.15'      1\n",
      " '3.17'      1\n",
      " '1.73'      1\n",
      " '8'         1\n",
      " '3.5'       1\n",
      " '6'         1\n",
      " '4.26'      1\n",
      " '3.78'      1\n",
      " '2.69'      1\n",
      " '3.2'       1\n",
      " '2.3'       1\n",
      " '2.85'      1\n",
      " '2.8'       1\n",
      " '3.6'       1\n",
      "Name: Total Kjeldahl Nitrogen, dtype: int64\n",
      "Ammonia-N,as N\n",
      " '1'        10\n",
      " '<0.28'     8\n",
      " '<0.56'     2\n",
      " '1.7'       2\n",
      " '0.28'      2\n",
      " '2'         2\n",
      " '3'         2\n",
      " '2.0'       1\n",
      " '4'         1\n",
      " '5.0'       1\n",
      " '6.8'       1\n",
      " '3.0'       1\n",
      " '0.9'       1\n",
      " '1.5'       1\n",
      " '1.40'      1\n",
      " '1.10'      1\n",
      " '0.93'      1\n",
      " '0.79'      1\n",
      " '1.1'       1\n",
      " '3.5'       1\n",
      " '2.00'      1\n",
      " '2.6'       1\n",
      " '0.56'      1\n",
      " '1.37'      1\n",
      " '5'         1\n",
      " '2.2'       1\n",
      " '1.90'      1\n",
      " '1.68'      1\n",
      " '1.23'      1\n",
      " '1.22'      1\n",
      " '1.00'      1\n",
      " '1.31'      1\n",
      " '1.26'      1\n",
      " '1.2'       1\n",
      "Name: Ammonia-N,as N, dtype: int64\n",
      "Phosphate\n",
      " '<0.15'    11\n",
      " '0.1'       3\n",
      " '<0.5'      3\n",
      " '2.00'      2\n",
      " '0.19'      2\n",
      " '0.18'      2\n",
      " '0.160'     2\n",
      " '0.120'     2\n",
      " '0.290'     2\n",
      " '1.00'      2\n",
      " '0.2'       1\n",
      " '0.30'      1\n",
      " '0.15'      1\n",
      " '0.22'      1\n",
      " '0.100'     1\n",
      " '0.500'     1\n",
      " '0.200'     1\n",
      " '1'         1\n",
      " '0.170'     1\n",
      " '0.110'     1\n",
      " '0.21'      1\n",
      " '0.196'     1\n",
      " '0.094'     1\n",
      " '0.31'      1\n",
      " '0.17'      1\n",
      " '0.24'      1\n",
      " '0.122'     1\n",
      " '1.000'     1\n",
      " '0.289'     1\n",
      " '0.210'     1\n",
      " '0.146'     1\n",
      " '0.3'       1\n",
      " '0.310'     1\n",
      "'0.15'       1\n",
      "Name: Phosphate, dtype: int64\n",
      "Boron\n",
      " '<0.002'    48\n",
      " '<0.001'     5\n",
      " '0.03'       1\n",
      " '0.030'      1\n",
      "Name: Boron, dtype: int64\n",
      "Fluoride\n",
      " '<0.01'    13\n",
      " '<0.1'      5\n",
      " '0.49'      2\n",
      " '0.610'     1\n",
      " '0.18'      1\n",
      " '1.39'      1\n",
      " '0.62'      1\n",
      " '0.66'      1\n",
      " '1.2'       1\n",
      " '0.4'       1\n",
      " '1.58'      1\n",
      " '0.7'       1\n",
      " '0.48'      1\n",
      " '0.550'     1\n",
      " '0.460'     1\n",
      " '0.570'     1\n",
      " '0.490'     1\n",
      " '1.26'      1\n",
      " '0.92'      1\n",
      " '0.54'      1\n",
      " '0.702'     1\n",
      " '0.85'      1\n",
      " '0.590'     1\n",
      " '0.980'     1\n",
      " '0.709'     1\n",
      " '0.990'     1\n",
      " '1.040'     1\n",
      " '1.100'     1\n",
      " '0.940'     1\n",
      " '1.940'     1\n",
      " '0.600'     1\n",
      " '0.64'      1\n",
      " '0.76'      1\n",
      " '0.45'      1\n",
      " '0.90'      1\n",
      " '1.16'      1\n",
      " '0.33'      1\n",
      "'0.87'       1\n",
      "Name: Fluoride, dtype: int64\n"
     ]
    }
   ],
   "source": [
    "## convert the columns with '<' symbol to numerical\n",
    "\n",
    "for col in columns_with_lt:\n",
    "    print(col)\n",
    "    print(train_df[col].value_counts())"
   ]
  },
  {
   "cell_type": "markdown",
   "metadata": {},
   "source": [
    "Nitrite mg/L\n",
    "* '<0.05'     3\n",
    "* '<0.2'      1\n",
    "\n",
    "Fecal coliform MPN/100\n",
    "* '<1.8'     1\n",
    "\n",
    "Phenophthaline Alkalinity\n",
    " * '<1'      22\n",
    " \n",
    "Total Kjeldahl Nitrogen\n",
    " * '<0.56'     3\n",
    "Ammonia-N,as N\n",
    " * '<0.28'     8\n",
    " * '<0.56'     2\n",
    "\n",
    " Phosphate\n",
    " * '<0.15'    11\n",
    " * '<0.5'      3\n",
    "Boron\n",
    " * '<0.002'    48\n",
    " * '<0.001'     5\n",
    "\n",
    " Fluoride\n",
    " * '<0.01'    13\n",
    " * '<0.1'      5\n",
    "\n",
    " idx:[5, 6, 9, 13, 14, 23, 24, 26]"
   ]
  },
  {
   "cell_type": "code",
   "execution_count": 499,
   "metadata": {},
   "outputs": [],
   "source": [
    "# Nitrate\n",
    "normalizeAttribute(numerical_row[5],[('<0.05',0.05),('<0.2',0.2)])\n",
    "#Fecal coliform MPN/100\n",
    "normalizeAttribute(numerical_row[6],[('<1.8',1.18)])\n",
    "# Phenophthaline Alkalinity\n",
    "normalizeAttribute(numerical_row[9],[('<1',1)])\n",
    "#Total Kjeldahl Nitrogen\n",
    "normalizeAttribute(numerical_row[13],[('<0.56',0.56)])\n",
    "# Ammonia-N\n",
    "normalizeAttribute(numerical_row[14],[('<0.28',0.28),('<0.56',0.56)])\n",
    "# Phosphate\n",
    "normalizeAttribute(numerical_row[23],[('<0.15',0.15),('<0.5',0.5)])\n",
    "# Boron\n",
    "normalizeAttribute(numerical_row[24],[('<0.002',0.002),('<0.001',0.001)])\n",
    "#Fluoride\n",
    "normalizeAttribute(numerical_row[26],[('<0.01',0.01),('<0.1',0.1)])\n"
   ]
  },
  {
   "cell_type": "code",
   "execution_count": 500,
   "metadata": {},
   "outputs": [
    {
     "data": {
      "text/html": [
       "<div>\n",
       "<style scoped>\n",
       "    .dataframe tbody tr th:only-of-type {\n",
       "        vertical-align: middle;\n",
       "    }\n",
       "\n",
       "    .dataframe tbody tr th {\n",
       "        vertical-align: top;\n",
       "    }\n",
       "\n",
       "    .dataframe thead th {\n",
       "        text-align: right;\n",
       "    }\n",
       "</style>\n",
       "<table border=\"1\" class=\"dataframe\">\n",
       "  <thead>\n",
       "    <tr style=\"text-align: right;\">\n",
       "      <th></th>\n",
       "      <th>Name of station</th>\n",
       "      <th>D.O mg/L</th>\n",
       "      <th>pH</th>\n",
       "      <th>Conductivity m mhos/cm</th>\n",
       "      <th>BOD at 27 C mg/L</th>\n",
       "      <th>Nitrate mg/L</th>\n",
       "      <th>Nitrite mg/L</th>\n",
       "      <th>Fecal coliform MPN/100</th>\n",
       "      <th>Total coliform MPN/100</th>\n",
       "      <th>Turbidity NTU</th>\n",
       "      <th>...</th>\n",
       "      <th>Sulphate</th>\n",
       "      <th>Sodium</th>\n",
       "      <th>Total Dissolved Solids</th>\n",
       "      <th>Total Fixed Solids</th>\n",
       "      <th>Total Suspended Solids</th>\n",
       "      <th>Phosphate</th>\n",
       "      <th>Boron</th>\n",
       "      <th>Potassium</th>\n",
       "      <th>Fluoride</th>\n",
       "      <th>DBU Class</th>\n",
       "    </tr>\n",
       "  </thead>\n",
       "  <tbody>\n",
       "    <tr>\n",
       "      <th>0</th>\n",
       "      <td>'Pudur'</td>\n",
       "      <td>5.39</td>\n",
       "      <td>7.60</td>\n",
       "      <td>476.0</td>\n",
       "      <td>4.0</td>\n",
       "      <td>0.220</td>\n",
       "      <td>0.200</td>\n",
       "      <td>160.2</td>\n",
       "      <td>'401'</td>\n",
       "      <td>'9.7'</td>\n",
       "      <td>...</td>\n",
       "      <td>'10'</td>\n",
       "      <td>'48'</td>\n",
       "      <td>'332'</td>\n",
       "      <td>'300'</td>\n",
       "      <td>'17'</td>\n",
       "      <td>0.160</td>\n",
       "      <td>0.002</td>\n",
       "      <td>'4.7'</td>\n",
       "      <td>0.610</td>\n",
       "      <td>D</td>\n",
       "    </tr>\n",
       "    <tr>\n",
       "      <th>1</th>\n",
       "      <td>'Vairapalayam'</td>\n",
       "      <td>5.76</td>\n",
       "      <td>7.84</td>\n",
       "      <td>458.0</td>\n",
       "      <td>3.0</td>\n",
       "      <td>0.271</td>\n",
       "      <td>0.036</td>\n",
       "      <td>170.0</td>\n",
       "      <td>'418'</td>\n",
       "      <td>'9.49'</td>\n",
       "      <td>...</td>\n",
       "      <td>'12'</td>\n",
       "      <td>'47'</td>\n",
       "      <td>'332'</td>\n",
       "      <td>'304'</td>\n",
       "      <td>'31'</td>\n",
       "      <td>0.196</td>\n",
       "      <td>0.002</td>\n",
       "      <td>'4.8'</td>\n",
       "      <td>0.702</td>\n",
       "      <td>B</td>\n",
       "    </tr>\n",
       "    <tr>\n",
       "      <th>2</th>\n",
       "      <td>'P.Velur'</td>\n",
       "      <td>6.49</td>\n",
       "      <td>7.88</td>\n",
       "      <td>568.0</td>\n",
       "      <td>1.0</td>\n",
       "      <td>0.230</td>\n",
       "      <td>0.090</td>\n",
       "      <td>146.0</td>\n",
       "      <td>'355'</td>\n",
       "      <td>'16'</td>\n",
       "      <td>...</td>\n",
       "      <td>'25'</td>\n",
       "      <td>'60'</td>\n",
       "      <td>'384'</td>\n",
       "      <td>'362'</td>\n",
       "      <td>'20'</td>\n",
       "      <td>0.310</td>\n",
       "      <td>0.002</td>\n",
       "      <td>'5.4'</td>\n",
       "      <td>0.590</td>\n",
       "      <td>B</td>\n",
       "    </tr>\n",
       "    <tr>\n",
       "      <th>3</th>\n",
       "      <td>'Mohanur'</td>\n",
       "      <td>6.22</td>\n",
       "      <td>7.87</td>\n",
       "      <td>643.8</td>\n",
       "      <td>1.0</td>\n",
       "      <td>0.250</td>\n",
       "      <td>0.060</td>\n",
       "      <td>151.0</td>\n",
       "      <td>'375'</td>\n",
       "      <td>'15.9'</td>\n",
       "      <td>...</td>\n",
       "      <td>'29'</td>\n",
       "      <td>'69'</td>\n",
       "      <td>'447'</td>\n",
       "      <td>'423'</td>\n",
       "      <td>'20'</td>\n",
       "      <td>0.300</td>\n",
       "      <td>0.002</td>\n",
       "      <td>'6.7'</td>\n",
       "      <td>0.980</td>\n",
       "      <td>B</td>\n",
       "    </tr>\n",
       "    <tr>\n",
       "      <th>4</th>\n",
       "      <td>'Madathukulam'</td>\n",
       "      <td>5.88</td>\n",
       "      <td>7.25</td>\n",
       "      <td>332.0</td>\n",
       "      <td>1.0</td>\n",
       "      <td>0.328</td>\n",
       "      <td>0.011</td>\n",
       "      <td>34.0</td>\n",
       "      <td>'88'</td>\n",
       "      <td>'13.5'</td>\n",
       "      <td>...</td>\n",
       "      <td>'20'</td>\n",
       "      <td>'22'</td>\n",
       "      <td>'238'</td>\n",
       "      <td>'222'</td>\n",
       "      <td>'21'</td>\n",
       "      <td>0.146</td>\n",
       "      <td>0.002</td>\n",
       "      <td>'2.7'</td>\n",
       "      <td>0.709</td>\n",
       "      <td>B</td>\n",
       "    </tr>\n",
       "  </tbody>\n",
       "</table>\n",
       "<p>5 rows × 29 columns</p>\n",
       "</div>"
      ],
      "text/plain": [
       "  Name of station  D.O mg/L    pH  Conductivity m mhos/cm  BOD at 27 C mg/L  \\\n",
       "0         'Pudur'      5.39  7.60                   476.0               4.0   \n",
       "1  'Vairapalayam'      5.76  7.84                   458.0               3.0   \n",
       "2       'P.Velur'      6.49  7.88                   568.0               1.0   \n",
       "3       'Mohanur'      6.22  7.87                   643.8               1.0   \n",
       "4  'Madathukulam'      5.88  7.25                   332.0               1.0   \n",
       "\n",
       "   Nitrate mg/L  Nitrite mg/L  Fecal coliform MPN/100 Total coliform MPN/100  \\\n",
       "0         0.220         0.200                   160.2                  '401'   \n",
       "1         0.271         0.036                   170.0                  '418'   \n",
       "2         0.230         0.090                   146.0                  '355'   \n",
       "3         0.250         0.060                   151.0                  '375'   \n",
       "4         0.328         0.011                    34.0                   '88'   \n",
       "\n",
       "  Turbidity NTU  ...  Sulphate Sodium Total Dissolved Solids  \\\n",
       "0         '9.7'  ...      '10'   '48'                  '332'   \n",
       "1        '9.49'  ...      '12'   '47'                  '332'   \n",
       "2          '16'  ...      '25'   '60'                  '384'   \n",
       "3        '15.9'  ...      '29'   '69'                  '447'   \n",
       "4        '13.5'  ...      '20'   '22'                  '238'   \n",
       "\n",
       "  Total Fixed Solids  Total Suspended Solids  Phosphate  Boron Potassium  \\\n",
       "0              '300'                    '17'      0.160  0.002     '4.7'   \n",
       "1              '304'                    '31'      0.196  0.002     '4.8'   \n",
       "2              '362'                    '20'      0.310  0.002     '5.4'   \n",
       "3              '423'                    '20'      0.300  0.002     '6.7'   \n",
       "4              '222'                    '21'      0.146  0.002     '2.7'   \n",
       "\n",
       "  Fluoride DBU Class  \n",
       "0    0.610         D  \n",
       "1    0.702         B  \n",
       "2    0.590         B  \n",
       "3    0.980         B  \n",
       "4    0.709         B  \n",
       "\n",
       "[5 rows x 29 columns]"
      ]
     },
     "execution_count": 500,
     "metadata": {},
     "output_type": "execute_result"
    }
   ],
   "source": [
    "train_df.head()"
   ]
  },
  {
   "cell_type": "markdown",
   "metadata": {},
   "source": [
    "now lets conver remaining values to float"
   ]
  },
  {
   "cell_type": "code",
   "execution_count": 501,
   "metadata": {},
   "outputs": [
    {
     "data": {
      "text/plain": [
       "['Total coliform MPN/100',\n",
       " 'Turbidity NTU',\n",
       " 'Total Alkalinity',\n",
       " 'Chloride',\n",
       " 'COD',\n",
       " 'Hardness as CaCO3',\n",
       " 'Calcium as Ca++',\n",
       " 'Magnesium as Mg++',\n",
       " 'Sulphate',\n",
       " 'Sodium',\n",
       " 'Total Dissolved Solids',\n",
       " 'Total Fixed Solids',\n",
       " 'Total Suspended Solids',\n",
       " 'Potassium']"
      ]
     },
     "execution_count": 501,
     "metadata": {},
     "output_type": "execute_result"
    }
   ],
   "source": [
    "# the column still not converted to numerical\n",
    "non_numerical_col=[col for col in train_df.columns if train_df[col].dtype=='object'] \n",
    "\n",
    "non_numerical_col=non_numerical_col[1:len(non_numerical_col)-1] # no need to convert the last column and first column\n",
    "non_numerical_col"
   ]
  },
  {
   "cell_type": "code",
   "execution_count": 502,
   "metadata": {},
   "outputs": [
    {
     "name": "stdout",
     "output_type": "stream",
     "text": [
      "Total coliform MPN/100\n",
      "Turbidity NTU\n",
      "Total Alkalinity\n",
      "Chloride\n",
      "COD\n",
      "Hardness as CaCO3\n",
      "Calcium as Ca++\n",
      "Magnesium as Mg++\n",
      "Sulphate\n",
      "Sodium\n",
      "Total Dissolved Solids\n",
      "Total Fixed Solids\n",
      "Total Suspended Solids\n",
      "Potassium\n"
     ]
    }
   ],
   "source": [
    "for col in non_numerical_col:\n",
    "    print(col)\n",
    "    convert_column_to_numeric(train_df,col)\n",
    "\n"
   ]
  },
  {
   "cell_type": "code",
   "execution_count": 503,
   "metadata": {},
   "outputs": [
    {
     "data": {
      "text/html": [
       "<div>\n",
       "<style scoped>\n",
       "    .dataframe tbody tr th:only-of-type {\n",
       "        vertical-align: middle;\n",
       "    }\n",
       "\n",
       "    .dataframe tbody tr th {\n",
       "        vertical-align: top;\n",
       "    }\n",
       "\n",
       "    .dataframe thead th {\n",
       "        text-align: right;\n",
       "    }\n",
       "</style>\n",
       "<table border=\"1\" class=\"dataframe\">\n",
       "  <thead>\n",
       "    <tr style=\"text-align: right;\">\n",
       "      <th></th>\n",
       "      <th>Name of station</th>\n",
       "      <th>D.O mg/L</th>\n",
       "      <th>pH</th>\n",
       "      <th>Conductivity m mhos/cm</th>\n",
       "      <th>BOD at 27 C mg/L</th>\n",
       "      <th>Nitrate mg/L</th>\n",
       "      <th>Nitrite mg/L</th>\n",
       "      <th>Fecal coliform MPN/100</th>\n",
       "      <th>Total coliform MPN/100</th>\n",
       "      <th>Turbidity NTU</th>\n",
       "      <th>...</th>\n",
       "      <th>Sulphate</th>\n",
       "      <th>Sodium</th>\n",
       "      <th>Total Dissolved Solids</th>\n",
       "      <th>Total Fixed Solids</th>\n",
       "      <th>Total Suspended Solids</th>\n",
       "      <th>Phosphate</th>\n",
       "      <th>Boron</th>\n",
       "      <th>Potassium</th>\n",
       "      <th>Fluoride</th>\n",
       "      <th>DBU Class</th>\n",
       "    </tr>\n",
       "  </thead>\n",
       "  <tbody>\n",
       "    <tr>\n",
       "      <th>0</th>\n",
       "      <td>'Pudur'</td>\n",
       "      <td>5.39</td>\n",
       "      <td>7.60</td>\n",
       "      <td>476.0</td>\n",
       "      <td>4.0</td>\n",
       "      <td>0.220</td>\n",
       "      <td>0.200</td>\n",
       "      <td>160.2</td>\n",
       "      <td>401.0</td>\n",
       "      <td>9.70</td>\n",
       "      <td>...</td>\n",
       "      <td>10.0</td>\n",
       "      <td>48.0</td>\n",
       "      <td>332.0</td>\n",
       "      <td>300.0</td>\n",
       "      <td>17.0</td>\n",
       "      <td>0.160</td>\n",
       "      <td>0.002</td>\n",
       "      <td>4.7</td>\n",
       "      <td>0.610</td>\n",
       "      <td>D</td>\n",
       "    </tr>\n",
       "    <tr>\n",
       "      <th>1</th>\n",
       "      <td>'Vairapalayam'</td>\n",
       "      <td>5.76</td>\n",
       "      <td>7.84</td>\n",
       "      <td>458.0</td>\n",
       "      <td>3.0</td>\n",
       "      <td>0.271</td>\n",
       "      <td>0.036</td>\n",
       "      <td>170.0</td>\n",
       "      <td>418.0</td>\n",
       "      <td>9.49</td>\n",
       "      <td>...</td>\n",
       "      <td>12.0</td>\n",
       "      <td>47.0</td>\n",
       "      <td>332.0</td>\n",
       "      <td>304.0</td>\n",
       "      <td>31.0</td>\n",
       "      <td>0.196</td>\n",
       "      <td>0.002</td>\n",
       "      <td>4.8</td>\n",
       "      <td>0.702</td>\n",
       "      <td>B</td>\n",
       "    </tr>\n",
       "    <tr>\n",
       "      <th>2</th>\n",
       "      <td>'P.Velur'</td>\n",
       "      <td>6.49</td>\n",
       "      <td>7.88</td>\n",
       "      <td>568.0</td>\n",
       "      <td>1.0</td>\n",
       "      <td>0.230</td>\n",
       "      <td>0.090</td>\n",
       "      <td>146.0</td>\n",
       "      <td>355.0</td>\n",
       "      <td>16.00</td>\n",
       "      <td>...</td>\n",
       "      <td>25.0</td>\n",
       "      <td>60.0</td>\n",
       "      <td>384.0</td>\n",
       "      <td>362.0</td>\n",
       "      <td>20.0</td>\n",
       "      <td>0.310</td>\n",
       "      <td>0.002</td>\n",
       "      <td>5.4</td>\n",
       "      <td>0.590</td>\n",
       "      <td>B</td>\n",
       "    </tr>\n",
       "    <tr>\n",
       "      <th>3</th>\n",
       "      <td>'Mohanur'</td>\n",
       "      <td>6.22</td>\n",
       "      <td>7.87</td>\n",
       "      <td>643.8</td>\n",
       "      <td>1.0</td>\n",
       "      <td>0.250</td>\n",
       "      <td>0.060</td>\n",
       "      <td>151.0</td>\n",
       "      <td>375.0</td>\n",
       "      <td>15.90</td>\n",
       "      <td>...</td>\n",
       "      <td>29.0</td>\n",
       "      <td>69.0</td>\n",
       "      <td>447.0</td>\n",
       "      <td>423.0</td>\n",
       "      <td>20.0</td>\n",
       "      <td>0.300</td>\n",
       "      <td>0.002</td>\n",
       "      <td>6.7</td>\n",
       "      <td>0.980</td>\n",
       "      <td>B</td>\n",
       "    </tr>\n",
       "    <tr>\n",
       "      <th>4</th>\n",
       "      <td>'Madathukulam'</td>\n",
       "      <td>5.88</td>\n",
       "      <td>7.25</td>\n",
       "      <td>332.0</td>\n",
       "      <td>1.0</td>\n",
       "      <td>0.328</td>\n",
       "      <td>0.011</td>\n",
       "      <td>34.0</td>\n",
       "      <td>88.0</td>\n",
       "      <td>13.50</td>\n",
       "      <td>...</td>\n",
       "      <td>20.0</td>\n",
       "      <td>22.0</td>\n",
       "      <td>238.0</td>\n",
       "      <td>222.0</td>\n",
       "      <td>21.0</td>\n",
       "      <td>0.146</td>\n",
       "      <td>0.002</td>\n",
       "      <td>2.7</td>\n",
       "      <td>0.709</td>\n",
       "      <td>B</td>\n",
       "    </tr>\n",
       "  </tbody>\n",
       "</table>\n",
       "<p>5 rows × 29 columns</p>\n",
       "</div>"
      ],
      "text/plain": [
       "  Name of station  D.O mg/L    pH  Conductivity m mhos/cm  BOD at 27 C mg/L  \\\n",
       "0         'Pudur'      5.39  7.60                   476.0               4.0   \n",
       "1  'Vairapalayam'      5.76  7.84                   458.0               3.0   \n",
       "2       'P.Velur'      6.49  7.88                   568.0               1.0   \n",
       "3       'Mohanur'      6.22  7.87                   643.8               1.0   \n",
       "4  'Madathukulam'      5.88  7.25                   332.0               1.0   \n",
       "\n",
       "   Nitrate mg/L  Nitrite mg/L  Fecal coliform MPN/100  Total coliform MPN/100  \\\n",
       "0         0.220         0.200                   160.2                   401.0   \n",
       "1         0.271         0.036                   170.0                   418.0   \n",
       "2         0.230         0.090                   146.0                   355.0   \n",
       "3         0.250         0.060                   151.0                   375.0   \n",
       "4         0.328         0.011                    34.0                    88.0   \n",
       "\n",
       "   Turbidity NTU  ...  Sulphate  Sodium  Total Dissolved Solids  \\\n",
       "0           9.70  ...      10.0    48.0                   332.0   \n",
       "1           9.49  ...      12.0    47.0                   332.0   \n",
       "2          16.00  ...      25.0    60.0                   384.0   \n",
       "3          15.90  ...      29.0    69.0                   447.0   \n",
       "4          13.50  ...      20.0    22.0                   238.0   \n",
       "\n",
       "   Total Fixed Solids  Total Suspended Solids  Phosphate  Boron  Potassium  \\\n",
       "0               300.0                    17.0      0.160  0.002        4.7   \n",
       "1               304.0                    31.0      0.196  0.002        4.8   \n",
       "2               362.0                    20.0      0.310  0.002        5.4   \n",
       "3               423.0                    20.0      0.300  0.002        6.7   \n",
       "4               222.0                    21.0      0.146  0.002        2.7   \n",
       "\n",
       "   Fluoride  DBU Class  \n",
       "0     0.610          D  \n",
       "1     0.702          B  \n",
       "2     0.590          B  \n",
       "3     0.980          B  \n",
       "4     0.709          B  \n",
       "\n",
       "[5 rows x 29 columns]"
      ]
     },
     "execution_count": 503,
     "metadata": {},
     "output_type": "execute_result"
    }
   ],
   "source": [
    "train_df.head()"
   ]
  },
  {
   "cell_type": "markdown",
   "metadata": {},
   "source": [
    "#### we have successfully preprocessed the data 😄"
   ]
  },
  {
   "cell_type": "code",
   "execution_count": 504,
   "metadata": {},
   "outputs": [],
   "source": [
    "# save the df\n",
    "\n",
    "# train_df.to_csv('../data/train_cleaned.csv',index=False)"
   ]
  },
  {
   "cell_type": "markdown",
   "metadata": {},
   "source": [
    "3. Data visualization"
   ]
  },
  {
   "cell_type": "code",
   "execution_count": 505,
   "metadata": {},
   "outputs": [
    {
     "data": {
      "image/png": "[encoded data removed]",
      "text/plain": [
       "<Figure size 640x480 with 1 Axes>"
      ]
     },
     "metadata": {},
     "output_type": "display_data"
    }
   ],
   "source": [
    "import matplotlib.pyplot as plt\n",
    "import seaborn as sns\n",
    "\n",
    "# Assuming train_df is your DataFrame with the mentioned attributes\n",
    "\n",
    "# Distribution of D.O mg/L\n",
    "sns.histplot(train_df['D.O mg/L'], kde=True)\n",
    "plt.title('Distribution of D.O mg/L')\n",
    "plt.xlabel('D.O mg/L')\n",
    "plt.ylabel('Frequency')\n",
    "plt.show()\n"
   ]
  },
  {
   "cell_type": "code",
   "execution_count": 506,
   "metadata": {},
   "outputs": [
    {
     "data": {
      "image/png": "[encoded data removed]",
      "text/plain": [
       "<Figure size 640x480 with 1 Axes>"
      ]
     },
     "metadata": {},
     "output_type": "display_data"
    }
   ],
   "source": [
    "\n",
    "# pH distribution\n",
    "sns.histplot(train_df['pH'], kde=True)\n",
    "plt.title('pH Distribution')\n",
    "plt.xlabel('pH')\n",
    "plt.ylabel('Frequency')\n",
    "plt.show()\n",
    "\n",
    "\n"
   ]
  },
  {
   "cell_type": "code",
   "execution_count": 507,
   "metadata": {},
   "outputs": [
    {
     "data": {
      "image/png": "[encoded data removed]",
      "text/plain": [
       "<Figure size 640x480 with 1 Axes>"
      ]
     },
     "metadata": {},
     "output_type": "display_data"
    }
   ],
   "source": [
    "# Conductivity distribution\n",
    "sns.histplot(train_df['Conductivity m mhos/cm'], kde=True)\n",
    "plt.title('Conductivity Distribution')\n",
    "plt.xlabel('Conductivity m mhos/cm')\n",
    "plt.ylabel('Frequency')\n",
    "plt.show()\n"
   ]
  },
  {
   "cell_type": "code",
   "execution_count": 508,
   "metadata": {},
   "outputs": [
    {
     "data": {
      "image/png": "[encoded data removed]",
      "text/plain": [
       "<Figure size 640x480 with 1 Axes>"
      ]
     },
     "metadata": {},
     "output_type": "display_data"
    }
   ],
   "source": [
    "\n",
    "# Scatter plot for D.O vs BOD at 27 C\n",
    "sns.scatterplot(x='D.O mg/L', y='BOD at 27 C mg/L', data=train_df)\n",
    "plt.title('Scatter plot: D.O vs BOD at 27 C')\n",
    "plt.xlabel('D.O mg/L')\n",
    "plt.ylabel('BOD at 27 C mg/L')\n",
    "plt.show()\n",
    "\n"
   ]
  },
  {
   "cell_type": "code",
   "execution_count": 509,
   "metadata": {},
   "outputs": [
    {
     "data": {
      "image/png": "[encoded data removed]",
      "text/plain": [
       "<Figure size 640x480 with 1 Axes>"
      ]
     },
     "metadata": {},
     "output_type": "display_data"
    }
   ],
   "source": [
    "# Boxplot for Fecal coliform MPN/100\n",
    "sns.boxplot(x='Fecal coliform MPN/100', data=train_df)\n",
    "plt.title('Boxplot: Fecal coliform MPN/100')\n",
    "plt.xlabel('Fecal coliform MPN/100')\n",
    "plt.show()\n",
    "\n"
   ]
  },
  {
   "cell_type": "code",
   "execution_count": 510,
   "metadata": {},
   "outputs": [
    {
     "data": {
      "image/png": "[encoded data removed]",
      "text/plain": [
       "<Figure size 1250x1250 with 30 Axes>"
      ]
     },
     "metadata": {},
     "output_type": "display_data"
    }
   ],
   "source": [
    "# Pairplot for selected attributes\n",
    "selected_attributes = ['D.O mg/L', 'pH', 'Conductivity m mhos/cm', 'BOD at 27 C mg/L', 'Nitrate mg/L']\n",
    "sns.pairplot(train_df[selected_attributes])\n",
    "plt.show()"
   ]
  },
  {
   "cell_type": "code",
   "execution_count": 511,
   "metadata": {},
   "outputs": [
    {
     "data": {
      "text/html": [
       "<div>\n",
       "<style scoped>\n",
       "    .dataframe tbody tr th:only-of-type {\n",
       "        vertical-align: middle;\n",
       "    }\n",
       "\n",
       "    .dataframe tbody tr th {\n",
       "        vertical-align: top;\n",
       "    }\n",
       "\n",
       "    .dataframe thead th {\n",
       "        text-align: right;\n",
       "    }\n",
       "</style>\n",
       "<table border=\"1\" class=\"dataframe\">\n",
       "  <thead>\n",
       "    <tr style=\"text-align: right;\">\n",
       "      <th></th>\n",
       "      <th>D.O mg/L</th>\n",
       "      <th>pH</th>\n",
       "      <th>Conductivity m mhos/cm</th>\n",
       "      <th>BOD at 27 C mg/L</th>\n",
       "      <th>Nitrate mg/L</th>\n",
       "      <th>Nitrite mg/L</th>\n",
       "      <th>Fecal coliform MPN/100</th>\n",
       "      <th>Total coliform MPN/100</th>\n",
       "      <th>Turbidity NTU</th>\n",
       "      <th>Phenophthaline Alkalinity</th>\n",
       "      <th>...</th>\n",
       "      <th>Magnesium as Mg++</th>\n",
       "      <th>Sulphate</th>\n",
       "      <th>Sodium</th>\n",
       "      <th>Total Dissolved Solids</th>\n",
       "      <th>Total Fixed Solids</th>\n",
       "      <th>Total Suspended Solids</th>\n",
       "      <th>Phosphate</th>\n",
       "      <th>Boron</th>\n",
       "      <th>Potassium</th>\n",
       "      <th>Fluoride</th>\n",
       "    </tr>\n",
       "  </thead>\n",
       "  <tbody>\n",
       "    <tr>\n",
       "      <th>count</th>\n",
       "      <td>55.000000</td>\n",
       "      <td>55.000000</td>\n",
       "      <td>55.000000</td>\n",
       "      <td>55.000000</td>\n",
       "      <td>55.000000</td>\n",
       "      <td>55.000000</td>\n",
       "      <td>55.000000</td>\n",
       "      <td>55.000000</td>\n",
       "      <td>55.000000</td>\n",
       "      <td>55.000000</td>\n",
       "      <td>...</td>\n",
       "      <td>55.000000</td>\n",
       "      <td>55.000000</td>\n",
       "      <td>55.000000</td>\n",
       "      <td>55.000000</td>\n",
       "      <td>55.000000</td>\n",
       "      <td>55.000000</td>\n",
       "      <td>55.000000</td>\n",
       "      <td>55.000000</td>\n",
       "      <td>55.000000</td>\n",
       "      <td>55.000000</td>\n",
       "    </tr>\n",
       "    <tr>\n",
       "      <th>mean</th>\n",
       "      <td>6.176909</td>\n",
       "      <td>7.395455</td>\n",
       "      <td>2486.330909</td>\n",
       "      <td>2.525455</td>\n",
       "      <td>0.713382</td>\n",
       "      <td>0.373105</td>\n",
       "      <td>335.948727</td>\n",
       "      <td>689.145455</td>\n",
       "      <td>29.414091</td>\n",
       "      <td>8.611455</td>\n",
       "      <td>...</td>\n",
       "      <td>96.554909</td>\n",
       "      <td>96.505636</td>\n",
       "      <td>407.934545</td>\n",
       "      <td>1787.038182</td>\n",
       "      <td>1695.289091</td>\n",
       "      <td>28.206545</td>\n",
       "      <td>0.327764</td>\n",
       "      <td>0.002927</td>\n",
       "      <td>15.084364</td>\n",
       "      <td>0.541291</td>\n",
       "    </tr>\n",
       "    <tr>\n",
       "      <th>std</th>\n",
       "      <td>0.513625</td>\n",
       "      <td>0.528302</td>\n",
       "      <td>10635.836903</td>\n",
       "      <td>2.486126</td>\n",
       "      <td>0.810737</td>\n",
       "      <td>1.275809</td>\n",
       "      <td>1188.413002</td>\n",
       "      <td>2234.153004</td>\n",
       "      <td>120.575508</td>\n",
       "      <td>8.783271</td>\n",
       "      <td>...</td>\n",
       "      <td>221.925056</td>\n",
       "      <td>378.376903</td>\n",
       "      <td>2078.589206</td>\n",
       "      <td>8038.669576</td>\n",
       "      <td>7067.156873</td>\n",
       "      <td>72.887785</td>\n",
       "      <td>0.401211</td>\n",
       "      <td>0.005315</td>\n",
       "      <td>54.949733</td>\n",
       "      <td>0.465700</td>\n",
       "    </tr>\n",
       "    <tr>\n",
       "      <th>min</th>\n",
       "      <td>4.100000</td>\n",
       "      <td>6.430000</td>\n",
       "      <td>47.000000</td>\n",
       "      <td>1.000000</td>\n",
       "      <td>0.000000</td>\n",
       "      <td>0.006000</td>\n",
       "      <td>1.180000</td>\n",
       "      <td>2.000000</td>\n",
       "      <td>0.495000</td>\n",
       "      <td>1.000000</td>\n",
       "      <td>...</td>\n",
       "      <td>0.730000</td>\n",
       "      <td>1.720000</td>\n",
       "      <td>0.700000</td>\n",
       "      <td>31.600000</td>\n",
       "      <td>28.000000</td>\n",
       "      <td>3.000000</td>\n",
       "      <td>0.094000</td>\n",
       "      <td>0.001000</td>\n",
       "      <td>0.100000</td>\n",
       "      <td>0.010000</td>\n",
       "    </tr>\n",
       "    <tr>\n",
       "      <th>25%</th>\n",
       "      <td>5.890000</td>\n",
       "      <td>6.935000</td>\n",
       "      <td>260.500000</td>\n",
       "      <td>1.000000</td>\n",
       "      <td>0.220000</td>\n",
       "      <td>0.041000</td>\n",
       "      <td>33.000000</td>\n",
       "      <td>92.000000</td>\n",
       "      <td>5.100000</td>\n",
       "      <td>1.000000</td>\n",
       "      <td>...</td>\n",
       "      <td>21.000000</td>\n",
       "      <td>7.500000</td>\n",
       "      <td>19.000000</td>\n",
       "      <td>179.000000</td>\n",
       "      <td>167.500000</td>\n",
       "      <td>9.250000</td>\n",
       "      <td>0.150000</td>\n",
       "      <td>0.002000</td>\n",
       "      <td>2.750000</td>\n",
       "      <td>0.100000</td>\n",
       "    </tr>\n",
       "    <tr>\n",
       "      <th>50%</th>\n",
       "      <td>6.200000</td>\n",
       "      <td>7.590000</td>\n",
       "      <td>438.000000</td>\n",
       "      <td>2.000000</td>\n",
       "      <td>0.515000</td>\n",
       "      <td>0.084000</td>\n",
       "      <td>76.000000</td>\n",
       "      <td>231.000000</td>\n",
       "      <td>11.900000</td>\n",
       "      <td>8.000000</td>\n",
       "      <td>...</td>\n",
       "      <td>44.000000</td>\n",
       "      <td>16.000000</td>\n",
       "      <td>38.000000</td>\n",
       "      <td>317.000000</td>\n",
       "      <td>276.000000</td>\n",
       "      <td>17.000000</td>\n",
       "      <td>0.180000</td>\n",
       "      <td>0.002000</td>\n",
       "      <td>4.800000</td>\n",
       "      <td>0.540000</td>\n",
       "    </tr>\n",
       "    <tr>\n",
       "      <th>75%</th>\n",
       "      <td>6.470000</td>\n",
       "      <td>7.845000</td>\n",
       "      <td>594.500000</td>\n",
       "      <td>3.000000</td>\n",
       "      <td>0.925000</td>\n",
       "      <td>0.200000</td>\n",
       "      <td>166.500000</td>\n",
       "      <td>409.500000</td>\n",
       "      <td>15.450000</td>\n",
       "      <td>12.500000</td>\n",
       "      <td>...</td>\n",
       "      <td>74.500000</td>\n",
       "      <td>29.000000</td>\n",
       "      <td>67.400000</td>\n",
       "      <td>412.000000</td>\n",
       "      <td>393.500000</td>\n",
       "      <td>22.500000</td>\n",
       "      <td>0.295000</td>\n",
       "      <td>0.002000</td>\n",
       "      <td>6.750000</td>\n",
       "      <td>0.860000</td>\n",
       "    </tr>\n",
       "    <tr>\n",
       "      <th>max</th>\n",
       "      <td>7.120000</td>\n",
       "      <td>8.080000</td>\n",
       "      <td>75544.000000</td>\n",
       "      <td>18.000000</td>\n",
       "      <td>5.000000</td>\n",
       "      <td>9.000000</td>\n",
       "      <td>7009.000000</td>\n",
       "      <td>14187.000000</td>\n",
       "      <td>902.000000</td>\n",
       "      <td>42.000000</td>\n",
       "      <td>...</td>\n",
       "      <td>1370.000000</td>\n",
       "      <td>2694.000000</td>\n",
       "      <td>15176.000000</td>\n",
       "      <td>57900.000000</td>\n",
       "      <td>50269.000000</td>\n",
       "      <td>551.000000</td>\n",
       "      <td>2.000000</td>\n",
       "      <td>0.030000</td>\n",
       "      <td>400.000000</td>\n",
       "      <td>1.940000</td>\n",
       "    </tr>\n",
       "  </tbody>\n",
       "</table>\n",
       "<p>8 rows × 27 columns</p>\n",
       "</div>"
      ],
      "text/plain": [
       "        D.O mg/L         pH  Conductivity m mhos/cm  BOD at 27 C mg/L  \\\n",
       "count  55.000000  55.000000               55.000000         55.000000   \n",
       "mean    6.176909   7.395455             2486.330909          2.525455   \n",
       "std     0.513625   0.528302            10635.836903          2.486126   \n",
       "min     4.100000   6.430000               47.000000          1.000000   \n",
       "25%     5.890000   6.935000              260.500000          1.000000   \n",
       "50%     6.200000   7.590000              438.000000          2.000000   \n",
       "75%     6.470000   7.845000              594.500000          3.000000   \n",
       "max     7.120000   8.080000            75544.000000         18.000000   \n",
       "\n",
       "       Nitrate mg/L  Nitrite mg/L  Fecal coliform MPN/100  \\\n",
       "count     55.000000     55.000000               55.000000   \n",
       "mean       0.713382      0.373105              335.948727   \n",
       "std        0.810737      1.275809             1188.413002   \n",
       "min        0.000000      0.006000                1.180000   \n",
       "25%        0.220000      0.041000               33.000000   \n",
       "50%        0.515000      0.084000               76.000000   \n",
       "75%        0.925000      0.200000              166.500000   \n",
       "max        5.000000      9.000000             7009.000000   \n",
       "\n",
       "       Total coliform MPN/100  Turbidity NTU  Phenophthaline Alkalinity  ...  \\\n",
       "count               55.000000      55.000000                  55.000000  ...   \n",
       "mean               689.145455      29.414091                   8.611455  ...   \n",
       "std               2234.153004     120.575508                   8.783271  ...   \n",
       "min                  2.000000       0.495000                   1.000000  ...   \n",
       "25%                 92.000000       5.100000                   1.000000  ...   \n",
       "50%                231.000000      11.900000                   8.000000  ...   \n",
       "75%                409.500000      15.450000                  12.500000  ...   \n",
       "max              14187.000000     902.000000                  42.000000  ...   \n",
       "\n",
       "       Magnesium as Mg++     Sulphate        Sodium  Total Dissolved Solids  \\\n",
       "count          55.000000    55.000000     55.000000               55.000000   \n",
       "mean           96.554909    96.505636    407.934545             1787.038182   \n",
       "std           221.925056   378.376903   2078.589206             8038.669576   \n",
       "min             0.730000     1.720000      0.700000               31.600000   \n",
       "25%            21.000000     7.500000     19.000000              179.000000   \n",
       "50%            44.000000    16.000000     38.000000              317.000000   \n",
       "75%            74.500000    29.000000     67.400000              412.000000   \n",
       "max          1370.000000  2694.000000  15176.000000            57900.000000   \n",
       "\n",
       "       Total Fixed Solids  Total Suspended Solids  Phosphate      Boron  \\\n",
       "count           55.000000               55.000000  55.000000  55.000000   \n",
       "mean          1695.289091               28.206545   0.327764   0.002927   \n",
       "std           7067.156873               72.887785   0.401211   0.005315   \n",
       "min             28.000000                3.000000   0.094000   0.001000   \n",
       "25%            167.500000                9.250000   0.150000   0.002000   \n",
       "50%            276.000000               17.000000   0.180000   0.002000   \n",
       "75%            393.500000               22.500000   0.295000   0.002000   \n",
       "max          50269.000000              551.000000   2.000000   0.030000   \n",
       "\n",
       "        Potassium   Fluoride  \n",
       "count   55.000000  55.000000  \n",
       "mean    15.084364   0.541291  \n",
       "std     54.949733   0.465700  \n",
       "min      0.100000   0.010000  \n",
       "25%      2.750000   0.100000  \n",
       "50%      4.800000   0.540000  \n",
       "75%      6.750000   0.860000  \n",
       "max    400.000000   1.940000  \n",
       "\n",
       "[8 rows x 27 columns]"
      ]
     },
     "execution_count": 511,
     "metadata": {},
     "output_type": "execute_result"
    }
   ],
   "source": [
    "train_df.describe()"
   ]
  },
  {
   "cell_type": "markdown",
   "metadata": {},
   "source": [
    "### lets transForm the data (standardize it)"
   ]
  },
  {
   "cell_type": "code",
   "execution_count": 512,
   "metadata": {},
   "outputs": [],
   "source": [
    "from sklearn.preprocessing import StandardScaler\n",
    "scaler=StandardScaler()"
   ]
  },
  {
   "cell_type": "code",
   "execution_count": 513,
   "metadata": {},
   "outputs": [
    {
     "data": {
      "text/html": [
       "<div>\n",
       "<style scoped>\n",
       "    .dataframe tbody tr th:only-of-type {\n",
       "        vertical-align: middle;\n",
       "    }\n",
       "\n",
       "    .dataframe tbody tr th {\n",
       "        vertical-align: top;\n",
       "    }\n",
       "\n",
       "    .dataframe thead th {\n",
       "        text-align: right;\n",
       "    }\n",
       "</style>\n",
       "<table border=\"1\" class=\"dataframe\">\n",
       "  <thead>\n",
       "    <tr style=\"text-align: right;\">\n",
       "      <th></th>\n",
       "      <th>Name of station</th>\n",
       "      <th>D.O mg/L</th>\n",
       "      <th>pH</th>\n",
       "      <th>Conductivity m mhos/cm</th>\n",
       "      <th>BOD at 27 C mg/L</th>\n",
       "      <th>Nitrate mg/L</th>\n",
       "      <th>Nitrite mg/L</th>\n",
       "      <th>Fecal coliform MPN/100</th>\n",
       "      <th>Total coliform MPN/100</th>\n",
       "      <th>Turbidity NTU</th>\n",
       "      <th>...</th>\n",
       "      <th>Sulphate</th>\n",
       "      <th>Sodium</th>\n",
       "      <th>Total Dissolved Solids</th>\n",
       "      <th>Total Fixed Solids</th>\n",
       "      <th>Total Suspended Solids</th>\n",
       "      <th>Phosphate</th>\n",
       "      <th>Boron</th>\n",
       "      <th>Potassium</th>\n",
       "      <th>Fluoride</th>\n",
       "      <th>DBU Class</th>\n",
       "    </tr>\n",
       "  </thead>\n",
       "  <tbody>\n",
       "    <tr>\n",
       "      <th>0</th>\n",
       "      <td>'Pudur'</td>\n",
       "      <td>-1.546190</td>\n",
       "      <td>0.390744</td>\n",
       "      <td>-0.190757</td>\n",
       "      <td>0.598576</td>\n",
       "      <td>-0.614169</td>\n",
       "      <td>-0.136933</td>\n",
       "      <td>-0.149248</td>\n",
       "      <td>-0.130162</td>\n",
       "      <td>-0.165007</td>\n",
       "      <td>...</td>\n",
       "      <td>-0.230730</td>\n",
       "      <td>-0.174759</td>\n",
       "      <td>-0.182673</td>\n",
       "      <td>-0.199253</td>\n",
       "      <td>-0.155168</td>\n",
       "      <td>-0.421997</td>\n",
       "      <td>-0.176057</td>\n",
       "      <td>-0.190721</td>\n",
       "      <td>0.148899</td>\n",
       "      <td>D</td>\n",
       "    </tr>\n",
       "    <tr>\n",
       "      <th>1</th>\n",
       "      <td>'Vairapalayam'</td>\n",
       "      <td>-0.819181</td>\n",
       "      <td>0.849216</td>\n",
       "      <td>-0.192465</td>\n",
       "      <td>0.192637</td>\n",
       "      <td>-0.550683</td>\n",
       "      <td>-0.266664</td>\n",
       "      <td>-0.140926</td>\n",
       "      <td>-0.122482</td>\n",
       "      <td>-0.166765</td>\n",
       "      <td>...</td>\n",
       "      <td>-0.225396</td>\n",
       "      <td>-0.175244</td>\n",
       "      <td>-0.182673</td>\n",
       "      <td>-0.198681</td>\n",
       "      <td>0.038679</td>\n",
       "      <td>-0.331442</td>\n",
       "      <td>-0.176057</td>\n",
       "      <td>-0.188884</td>\n",
       "      <td>0.348272</td>\n",
       "      <td>B</td>\n",
       "    </tr>\n",
       "    <tr>\n",
       "      <th>2</th>\n",
       "      <td>'P.Velur'</td>\n",
       "      <td>0.615189</td>\n",
       "      <td>0.925628</td>\n",
       "      <td>-0.182027</td>\n",
       "      <td>-0.619242</td>\n",
       "      <td>-0.601721</td>\n",
       "      <td>-0.223948</td>\n",
       "      <td>-0.161307</td>\n",
       "      <td>-0.150941</td>\n",
       "      <td>-0.112276</td>\n",
       "      <td>...</td>\n",
       "      <td>-0.190722</td>\n",
       "      <td>-0.168933</td>\n",
       "      <td>-0.176145</td>\n",
       "      <td>-0.190399</td>\n",
       "      <td>-0.113629</td>\n",
       "      <td>-0.044683</td>\n",
       "      <td>-0.176057</td>\n",
       "      <td>-0.177865</td>\n",
       "      <td>0.105557</td>\n",
       "      <td>B</td>\n",
       "    </tr>\n",
       "    <tr>\n",
       "      <th>3</th>\n",
       "      <td>'Mohanur'</td>\n",
       "      <td>0.084669</td>\n",
       "      <td>0.906525</td>\n",
       "      <td>-0.174835</td>\n",
       "      <td>-0.619242</td>\n",
       "      <td>-0.576825</td>\n",
       "      <td>-0.247679</td>\n",
       "      <td>-0.157061</td>\n",
       "      <td>-0.141907</td>\n",
       "      <td>-0.113113</td>\n",
       "      <td>...</td>\n",
       "      <td>-0.180053</td>\n",
       "      <td>-0.164563</td>\n",
       "      <td>-0.168235</td>\n",
       "      <td>-0.181688</td>\n",
       "      <td>-0.113629</td>\n",
       "      <td>-0.069837</td>\n",
       "      <td>-0.176057</td>\n",
       "      <td>-0.153989</td>\n",
       "      <td>0.950726</td>\n",
       "      <td>B</td>\n",
       "    </tr>\n",
       "    <tr>\n",
       "      <th>4</th>\n",
       "      <td>'Madathukulam'</td>\n",
       "      <td>-0.583394</td>\n",
       "      <td>-0.277862</td>\n",
       "      <td>-0.204421</td>\n",
       "      <td>-0.619242</td>\n",
       "      <td>-0.479729</td>\n",
       "      <td>-0.286440</td>\n",
       "      <td>-0.256419</td>\n",
       "      <td>-0.271551</td>\n",
       "      <td>-0.133201</td>\n",
       "      <td>...</td>\n",
       "      <td>-0.204058</td>\n",
       "      <td>-0.187383</td>\n",
       "      <td>-0.194474</td>\n",
       "      <td>-0.210391</td>\n",
       "      <td>-0.099783</td>\n",
       "      <td>-0.457214</td>\n",
       "      <td>-0.176057</td>\n",
       "      <td>-0.227453</td>\n",
       "      <td>0.363442</td>\n",
       "      <td>B</td>\n",
       "    </tr>\n",
       "  </tbody>\n",
       "</table>\n",
       "<p>5 rows × 29 columns</p>\n",
       "</div>"
      ],
      "text/plain": [
       "  Name of station  D.O mg/L        pH  Conductivity m mhos/cm  \\\n",
       "0         'Pudur' -1.546190  0.390744               -0.190757   \n",
       "1  'Vairapalayam' -0.819181  0.849216               -0.192465   \n",
       "2       'P.Velur'  0.615189  0.925628               -0.182027   \n",
       "3       'Mohanur'  0.084669  0.906525               -0.174835   \n",
       "4  'Madathukulam' -0.583394 -0.277862               -0.204421   \n",
       "\n",
       "   BOD at 27 C mg/L  Nitrate mg/L  Nitrite mg/L  Fecal coliform MPN/100  \\\n",
       "0          0.598576     -0.614169     -0.136933               -0.149248   \n",
       "1          0.192637     -0.550683     -0.266664               -0.140926   \n",
       "2         -0.619242     -0.601721     -0.223948               -0.161307   \n",
       "3         -0.619242     -0.576825     -0.247679               -0.157061   \n",
       "4         -0.619242     -0.479729     -0.286440               -0.256419   \n",
       "\n",
       "   Total coliform MPN/100  Turbidity NTU  ...  Sulphate    Sodium  \\\n",
       "0               -0.130162      -0.165007  ... -0.230730 -0.174759   \n",
       "1               -0.122482      -0.166765  ... -0.225396 -0.175244   \n",
       "2               -0.150941      -0.112276  ... -0.190722 -0.168933   \n",
       "3               -0.141907      -0.113113  ... -0.180053 -0.164563   \n",
       "4               -0.271551      -0.133201  ... -0.204058 -0.187383   \n",
       "\n",
       "   Total Dissolved Solids  Total Fixed Solids  Total Suspended Solids  \\\n",
       "0               -0.182673           -0.199253               -0.155168   \n",
       "1               -0.182673           -0.198681                0.038679   \n",
       "2               -0.176145           -0.190399               -0.113629   \n",
       "3               -0.168235           -0.181688               -0.113629   \n",
       "4               -0.194474           -0.210391               -0.099783   \n",
       "\n",
       "   Phosphate     Boron  Potassium  Fluoride  DBU Class  \n",
       "0  -0.421997 -0.176057  -0.190721  0.148899          D  \n",
       "1  -0.331442 -0.176057  -0.188884  0.348272          B  \n",
       "2  -0.044683 -0.176057  -0.177865  0.105557          B  \n",
       "3  -0.069837 -0.176057  -0.153989  0.950726          B  \n",
       "4  -0.457214 -0.176057  -0.227453  0.363442          B  \n",
       "\n",
       "[5 rows x 29 columns]"
      ]
     },
     "execution_count": 513,
     "metadata": {},
     "output_type": "execute_result"
    }
   ],
   "source": [
    "numerical_columns = train_df.select_dtypes(include=np.number).columns.tolist()\n",
    "df=train_df.copy()\n",
    "# Standardize the numerical columns\n",
    "\n",
    "df[numerical_columns] = scaler.fit_transform(df[numerical_columns])\n",
    "\n",
    "df.head()"
   ]
  },
  {
   "cell_type": "markdown",
   "metadata": {},
   "source": [
    "## 4. Lets do clustering"
   ]
  },
  {
   "cell_type": "code",
   "execution_count": 514,
   "metadata": {},
   "outputs": [],
   "source": [
    "# fuction to workout optimun number of clusters\n",
    "from sklearn.cluster import KMeans\n",
    "import plotly.express as px\n",
    "\n",
    "def optimun_k_means(data,max_k):\n",
    "    mean_distance=[]\n",
    "    intertias=[]\n",
    "\n",
    "    for k in range(1,max_k+1):\n",
    "        kmeans=KMeans(n_clusters=k,random_state=0,verbose=0)\n",
    "        kmeans.fit(data)\n",
    "        mean_distance.append(k)\n",
    "        intertias.append(kmeans.inertia_)\n",
    "\n",
    "    fig=px.line(x=mean_distance,y=intertias ,)\n",
    "\n",
    "    fig.update_layout(\n",
    "        title='Elbow method',\n",
    "        xaxis_title='Number of clusters',\n",
    "        yaxis_title='Mean distance'\n",
    "    \n",
    "    )\n",
    "\n",
    "    fig.show()\n",
    "    \n",
    "    "
   ]
  },
  {
   "cell_type": "code",
   "execution_count": 515,
   "metadata": {},
   "outputs": [
    {
     "name": "stderr",
     "output_type": "stream",
     "text": [
      "/Users/magesh/anaconda3/lib/python3.10/site-packages/sklearn/cluster/_kmeans.py:870: FutureWarning:\n",
      "\n",
      "The default value of `n_init` will change from 10 to 'auto' in 1.4. Set the value of `n_init` explicitly to suppress the warning\n",
      "\n",
      "/Users/magesh/anaconda3/lib/python3.10/site-packages/sklearn/cluster/_kmeans.py:870: FutureWarning:\n",
      "\n",
      "The default value of `n_init` will change from 10 to 'auto' in 1.4. Set the value of `n_init` explicitly to suppress the warning\n",
      "\n",
      "/Users/magesh/anaconda3/lib/python3.10/site-packages/sklearn/cluster/_kmeans.py:870: FutureWarning:\n",
      "\n",
      "The default value of `n_init` will change from 10 to 'auto' in 1.4. Set the value of `n_init` explicitly to suppress the warning\n",
      "\n",
      "/Users/magesh/anaconda3/lib/python3.10/site-packages/sklearn/cluster/_kmeans.py:870: FutureWarning:\n",
      "\n",
      "The default value of `n_init` will change from 10 to 'auto' in 1.4. Set the value of `n_init` explicitly to suppress the warning\n",
      "\n",
      "/Users/magesh/anaconda3/lib/python3.10/site-packages/sklearn/cluster/_kmeans.py:870: FutureWarning:\n",
      "\n",
      "The default value of `n_init` will change from 10 to 'auto' in 1.4. Set the value of `n_init` explicitly to suppress the warning\n",
      "\n",
      "/Users/magesh/anaconda3/lib/python3.10/site-packages/sklearn/cluster/_kmeans.py:870: FutureWarning:\n",
      "\n",
      "The default value of `n_init` will change from 10 to 'auto' in 1.4. Set the value of `n_init` explicitly to suppress the warning\n",
      "\n",
      "/Users/magesh/anaconda3/lib/python3.10/site-packages/sklearn/cluster/_kmeans.py:870: FutureWarning:\n",
      "\n",
      "The default value of `n_init` will change from 10 to 'auto' in 1.4. Set the value of `n_init` explicitly to suppress the warning\n",
      "\n",
      "/Users/magesh/anaconda3/lib/python3.10/site-packages/sklearn/cluster/_kmeans.py:870: FutureWarning:\n",
      "\n",
      "The default value of `n_init` will change from 10 to 'auto' in 1.4. Set the value of `n_init` explicitly to suppress the warning\n",
      "\n",
      "/Users/magesh/anaconda3/lib/python3.10/site-packages/sklearn/cluster/_kmeans.py:870: FutureWarning:\n",
      "\n",
      "The default value of `n_init` will change from 10 to 'auto' in 1.4. Set the value of `n_init` explicitly to suppress the warning\n",
      "\n",
      "/Users/magesh/anaconda3/lib/python3.10/site-packages/sklearn/cluster/_kmeans.py:870: FutureWarning:\n",
      "\n",
      "The default value of `n_init` will change from 10 to 'auto' in 1.4. Set the value of `n_init` explicitly to suppress the warning\n",
      "\n"
     ]
    },
    {
     "data": {
      "application/vnd.plotly.v1+json": {
       "config": {
        "plotlyServerURL": "https://plot.ly"
       },
       "data": [
        {
         "hovertemplate": "x=%{x}<br>y=%{y}<extra></extra>",
         "legendgroup": "",
         "line": {
          "color": "#636efa",
          "dash": "solid"
         },
         "marker": {
          "symbol": "circle"
         },
         "mode": "lines",
         "name": "",
         "orientation": "v",
         "showlegend": false,
         "type": "scatter",
         "x": [
          1,
          2,
          3,
          4,
          5,
          6,
          7,
          8,
          9,
          10
         ],
         "xaxis": "x",
         "y": [
          770,
          324.8836337172135,
          203.71293516603322,
          142.41635924975625,
          87.00722455773,
          44.438131651840436,
          30.499930199739396,
          18.64435641112405,
          11.61222077195404,
          9.041863395240275
         ],
         "yaxis": "y"
        }
       ],
       "layout": {
        "legend": {
         "tracegroupgap": 0
        },
        "margin": {
         "t": 60
        },
        "template": {
         "data": {
          "bar": [
           {
            "error_x": {
             "color": "#2a3f5f"
            },
            "error_y": {
             "color": "#2a3f5f"
            },
            "marker": {
             "line": {
              "color": "#E5ECF6",
              "width": 0.5
             },
             "pattern": {
              "fillmode": "overlay",
              "size": 10,
              "solidity": 0.2
             }
            },
            "type": "bar"
           }
          ],
          "barpolar": [
           {
            "marker": {
             "line": {
              "color": "#E5ECF6",
              "width": 0.5
             },
             "pattern": {
              "fillmode": "overlay",
              "size": 10,
              "solidity": 0.2
             }
            },
            "type": "barpolar"
           }
          ],
          "carpet": [
           {
            "aaxis": {
             "endlinecolor": "#2a3f5f",
             "gridcolor": "white",
             "linecolor": "white",
             "minorgridcolor": "white",
             "startlinecolor": "#2a3f5f"
            },
            "baxis": {
             "endlinecolor": "#2a3f5f",
             "gridcolor": "white",
             "linecolor": "white",
             "minorgridcolor": "white",
             "startlinecolor": "#2a3f5f"
            },
            "type": "carpet"
           }
          ],
          "choropleth": [
           {
            "colorbar": {
             "outlinewidth": 0,
             "ticks": ""
            },
            "type": "choropleth"
           }
          ],
          "contour": [
           {
            "colorbar": {
             "outlinewidth": 0,
             "ticks": ""
            },
            "colorscale": [
             [
              0,
              "#0d0887"
             ],
             [
              0.1111111111111111,
              "#46039f"
             ],
             [
              0.2222222222222222,
              "#7201a8"
             ],
             [
              0.3333333333333333,
              "#9c179e"
             ],
             [
              0.4444444444444444,
              "#bd3786"
             ],
             [
              0.5555555555555556,
              "#d8576b"
             ],
             [
              0.6666666666666666,
              "#ed7953"
             ],
             [
              0.7777777777777778,
              "#fb9f3a"
             ],
             [
              0.8888888888888888,
              "#fdca26"
             ],
             [
              1,
              "#f0f921"
             ]
            ],
            "type": "contour"
           }
          ],
          "contourcarpet": [
           {
            "colorbar": {
             "outlinewidth": 0,
             "ticks": ""
            },
            "type": "contourcarpet"
           }
          ],
          "heatmap": [
           {
            "colorbar": {
             "outlinewidth": 0,
             "ticks": ""
            },
            "colorscale": [
             [
              0,
              "#0d0887"
             ],
             [
              0.1111111111111111,
              "#46039f"
             ],
             [
              0.2222222222222222,
              "#7201a8"
             ],
             [
              0.3333333333333333,
              "#9c179e"
             ],
             [
              0.4444444444444444,
              "#bd3786"
             ],
             [
              0.5555555555555556,
              "#d8576b"
             ],
             [
              0.6666666666666666,
              "#ed7953"
             ],
             [
              0.7777777777777778,
              "#fb9f3a"
             ],
             [
              0.8888888888888888,
              "#fdca26"
             ],
             [
              1,
              "#f0f921"
             ]
            ],
            "type": "heatmap"
           }
          ],
          "heatmapgl": [
           {
            "colorbar": {
             "outlinewidth": 0,
             "ticks": ""
            },
            "colorscale": [
             [
              0,
              "#0d0887"
             ],
             [
              0.1111111111111111,
              "#46039f"
             ],
             [
              0.2222222222222222,
              "#7201a8"
             ],
             [
              0.3333333333333333,
              "#9c179e"
             ],
             [
              0.4444444444444444,
              "#bd3786"
             ],
             [
              0.5555555555555556,
              "#d8576b"
             ],
             [
              0.6666666666666666,
              "#ed7953"
             ],
             [
              0.7777777777777778,
              "#fb9f3a"
             ],
             [
              0.8888888888888888,
              "#fdca26"
             ],
             [
              1,
              "#f0f921"
             ]
            ],
            "type": "heatmapgl"
           }
          ],
          "histogram": [
           {
            "marker": {
             "pattern": {
              "fillmode": "overlay",
              "size": 10,
              "solidity": 0.2
             }
            },
            "type": "histogram"
           }
          ],
          "histogram2d": [
           {
            "colorbar": {
             "outlinewidth": 0,
             "ticks": ""
            },
            "colorscale": [
             [
              0,
              "#0d0887"
             ],
             [
              0.1111111111111111,
              "#46039f"
             ],
             [
              0.2222222222222222,
              "#7201a8"
             ],
             [
              0.3333333333333333,
              "#9c179e"
             ],
             [
              0.4444444444444444,
              "#bd3786"
             ],
             [
              0.5555555555555556,
              "#d8576b"
             ],
             [
              0.6666666666666666,
              "#ed7953"
             ],
             [
              0.7777777777777778,
              "#fb9f3a"
             ],
             [
              0.8888888888888888,
              "#fdca26"
             ],
             [
              1,
              "#f0f921"
             ]
            ],
            "type": "histogram2d"
           }
          ],
          "histogram2dcontour": [
           {
            "colorbar": {
             "outlinewidth": 0,
             "ticks": ""
            },
            "colorscale": [
             [
              0,
              "#0d0887"
             ],
             [
              0.1111111111111111,
              "#46039f"
             ],
             [
              0.2222222222222222,
              "#7201a8"
             ],
             [
              0.3333333333333333,
              "#9c179e"
             ],
             [
              0.4444444444444444,
              "#bd3786"
             ],
             [
              0.5555555555555556,
              "#d8576b"
             ],
             [
              0.6666666666666666,
              "#ed7953"
             ],
             [
              0.7777777777777778,
              "#fb9f3a"
             ],
             [
              0.8888888888888888,
              "#fdca26"
             ],
             [
              1,
              "#f0f921"
             ]
            ],
            "type": "histogram2dcontour"
           }
          ],
          "mesh3d": [
           {
            "colorbar": {
             "outlinewidth": 0,
             "ticks": ""
            },
            "type": "mesh3d"
           }
          ],
          "parcoords": [
           {
            "line": {
             "colorbar": {
              "outlinewidth": 0,
              "ticks": ""
             }
            },
            "type": "parcoords"
           }
          ],
          "pie": [
           {
            "automargin": true,
            "type": "pie"
           }
          ],
          "scatter": [
           {
            "fillpattern": {
             "fillmode": "overlay",
             "size": 10,
             "solidity": 0.2
            },
            "type": "scatter"
           }
          ],
          "scatter3d": [
           {
            "line": {
             "colorbar": {
              "outlinewidth": 0,
              "ticks": ""
             }
            },
            "marker": {
             "colorbar": {
              "outlinewidth": 0,
              "ticks": ""
             }
            },
            "type": "scatter3d"
           }
          ],
          "scattercarpet": [
           {
            "marker": {
             "colorbar": {
              "outlinewidth": 0,
              "ticks": ""
             }
            },
            "type": "scattercarpet"
           }
          ],
          "scattergeo": [
           {
            "marker": {
             "colorbar": {
              "outlinewidth": 0,
              "ticks": ""
             }
            },
            "type": "scattergeo"
           }
          ],
          "scattergl": [
           {
            "marker": {
             "colorbar": {
              "outlinewidth": 0,
              "ticks": ""
             }
            },
            "type": "scattergl"
           }
          ],
          "scattermapbox": [
           {
            "marker": {
             "colorbar": {
              "outlinewidth": 0,
              "ticks": ""
             }
            },
            "type": "scattermapbox"
           }
          ],
          "scatterpolar": [
           {
            "marker": {
             "colorbar": {
              "outlinewidth": 0,
              "ticks": ""
             }
            },
            "type": "scatterpolar"
           }
          ],
          "scatterpolargl": [
           {
            "marker": {
             "colorbar": {
              "outlinewidth": 0,
              "ticks": ""
             }
            },
            "type": "scatterpolargl"
           }
          ],
          "scatterternary": [
           {
            "marker": {
             "colorbar": {
              "outlinewidth": 0,
              "ticks": ""
             }
            },
            "type": "scatterternary"
           }
          ],
          "surface": [
           {
            "colorbar": {
             "outlinewidth": 0,
             "ticks": ""
            },
            "colorscale": [
             [
              0,
              "#0d0887"
             ],
             [
              0.1111111111111111,
              "#46039f"
             ],
             [
              0.2222222222222222,
              "#7201a8"
             ],
             [
              0.3333333333333333,
              "#9c179e"
             ],
             [
              0.4444444444444444,
              "#bd3786"
             ],
             [
              0.5555555555555556,
              "#d8576b"
             ],
             [
              0.6666666666666666,
              "#ed7953"
             ],
             [
              0.7777777777777778,
              "#fb9f3a"
             ],
             [
              0.8888888888888888,
              "#fdca26"
             ],
             [
              1,
              "#f0f921"
             ]
            ],
            "type": "surface"
           }
          ],
          "table": [
           {
            "cells": {
             "fill": {
              "color": "#EBF0F8"
             },
             "line": {
              "color": "white"
             }
            },
            "header": {
             "fill": {
              "color": "#C8D4E3"
             },
             "line": {
              "color": "white"
             }
            },
            "type": "table"
           }
          ]
         },
         "layout": {
          "annotationdefaults": {
           "arrowcolor": "#2a3f5f",
           "arrowhead": 0,
           "arrowwidth": 1
          },
          "autotypenumbers": "strict",
          "coloraxis": {
           "colorbar": {
            "outlinewidth": 0,
            "ticks": ""
           }
          },
          "colorscale": {
           "diverging": [
            [
             0,
             "#8e0152"
            ],
            [
             0.1,
             "#c51b7d"
            ],
            [
             0.2,
             "#de77ae"
            ],
            [
             0.3,
             "#f1b6da"
            ],
            [
             0.4,
             "#fde0ef"
            ],
            [
             0.5,
             "#f7f7f7"
            ],
            [
             0.6,
             "#e6f5d0"
            ],
            [
             0.7,
             "#b8e186"
            ],
            [
             0.8,
             "#7fbc41"
            ],
            [
             0.9,
             "#4d9221"
            ],
            [
             1,
             "#276419"
            ]
           ],
           "sequential": [
            [
             0,
             "#0d0887"
            ],
            [
             0.1111111111111111,
             "#46039f"
            ],
            [
             0.2222222222222222,
             "#7201a8"
            ],
            [
             0.3333333333333333,
             "#9c179e"
            ],
            [
             0.4444444444444444,
             "#bd3786"
            ],
            [
             0.5555555555555556,
             "#d8576b"
            ],
            [
             0.6666666666666666,
             "#ed7953"
            ],
            [
             0.7777777777777778,
             "#fb9f3a"
            ],
            [
             0.8888888888888888,
             "#fdca26"
            ],
            [
             1,
             "#f0f921"
            ]
           ],
           "sequentialminus": [
            [
             0,
             "#0d0887"
            ],
            [
             0.1111111111111111,
             "#46039f"
            ],
            [
             0.2222222222222222,
             "#7201a8"
            ],
            [
             0.3333333333333333,
             "#9c179e"
            ],
            [
             0.4444444444444444,
             "#bd3786"
            ],
            [
             0.5555555555555556,
             "#d8576b"
            ],
            [
             0.6666666666666666,
             "#ed7953"
            ],
            [
             0.7777777777777778,
             "#fb9f3a"
            ],
            [
             0.8888888888888888,
             "#fdca26"
            ],
            [
             1,
             "#f0f921"
            ]
           ]
          },
          "colorway": [
           "#636efa",
           "#EF553B",
           "#00cc96",
           "#ab63fa",
           "#FFA15A",
           "#19d3f3",
           "#FF6692",
           "#B6E880",
           "#FF97FF",
           "#FECB52"
          ],
          "font": {
           "color": "#2a3f5f"
          },
          "geo": {
           "bgcolor": "white",
           "lakecolor": "white",
           "landcolor": "#E5ECF6",
           "showlakes": true,
           "showland": true,
           "subunitcolor": "white"
          },
          "hoverlabel": {
           "align": "left"
          },
          "hovermode": "closest",
          "mapbox": {
           "style": "light"
          },
          "paper_bgcolor": "white",
          "plot_bgcolor": "#E5ECF6",
          "polar": {
           "angularaxis": {
            "gridcolor": "white",
            "linecolor": "white",
            "ticks": ""
           },
           "bgcolor": "#E5ECF6",
           "radialaxis": {
            "gridcolor": "white",
            "linecolor": "white",
            "ticks": ""
           }
          },
          "scene": {
           "xaxis": {
            "backgroundcolor": "#E5ECF6",
            "gridcolor": "white",
            "gridwidth": 2,
            "linecolor": "white",
            "showbackground": true,
            "ticks": "",
            "zerolinecolor": "white"
           },
           "yaxis": {
            "backgroundcolor": "#E5ECF6",
            "gridcolor": "white",
            "gridwidth": 2,
            "linecolor": "white",
            "showbackground": true,
            "ticks": "",
            "zerolinecolor": "white"
           },
           "zaxis": {
            "backgroundcolor": "#E5ECF6",
            "gridcolor": "white",
            "gridwidth": 2,
            "linecolor": "white",
            "showbackground": true,
            "ticks": "",
            "zerolinecolor": "white"
           }
          },
          "shapedefaults": {
           "line": {
            "color": "#2a3f5f"
           }
          },
          "ternary": {
           "aaxis": {
            "gridcolor": "white",
            "linecolor": "white",
            "ticks": ""
           },
           "baxis": {
            "gridcolor": "white",
            "linecolor": "white",
            "ticks": ""
           },
           "bgcolor": "#E5ECF6",
           "caxis": {
            "gridcolor": "white",
            "linecolor": "white",
            "ticks": ""
           }
          },
          "title": {
           "x": 0.05
          },
          "xaxis": {
           "automargin": true,
           "gridcolor": "white",
           "linecolor": "white",
           "ticks": "",
           "title": {
            "standoff": 15
           },
           "zerolinecolor": "white",
           "zerolinewidth": 2
          },
          "yaxis": {
           "automargin": true,
           "gridcolor": "white",
           "linecolor": "white",
           "ticks": "",
           "title": {
            "standoff": 15
           },
           "zerolinecolor": "white",
           "zerolinewidth": 2
          }
         }
        },
        "title": {
         "text": "Elbow method"
        },
        "xaxis": {
         "anchor": "y",
         "domain": [
          0,
          1
         ],
         "title": {
          "text": "Number of clusters"
         }
        },
        "yaxis": {
         "anchor": "x",
         "domain": [
          0,
          1
         ],
         "title": {
          "text": "Mean distance"
         }
        }
       }
      }
     },
     "metadata": {},
     "output_type": "display_data"
    }
   ],
   "source": [
    "\n",
    "optimun_k_means(df[non_numerical_col],10)"
   ]
  },
  {
   "cell_type": "markdown",
   "metadata": {},
   "source": [
    "form the elbow method we can see that the inertia is decreasing as no of cluster increases.\n",
    "we can see there is a sharp decrease at 3 and 4 so we can choose 3 or 4 as our no of clusters"
   ]
  },
  {
   "cell_type": "markdown",
   "metadata": {},
   "source": [
    "### Applying K-means clustering"
   ]
  },
  {
   "cell_type": "code",
   "execution_count": 540,
   "metadata": {},
   "outputs": [
    {
     "name": "stderr",
     "output_type": "stream",
     "text": [
      "/Users/magesh/anaconda3/lib/python3.10/site-packages/sklearn/cluster/_kmeans.py:870: FutureWarning:\n",
      "\n",
      "The default value of `n_init` will change from 10 to 'auto' in 1.4. Set the value of `n_init` explicitly to suppress the warning\n",
      "\n"
     ]
    }
   ],
   "source": [
    "\n",
    "# Select the numerical columns for clustering\n",
    "numerical_columns = df.select_dtypes(include=['float64', 'int64'])\n",
    "\n",
    "# Choose the number of clusters (you can adjust this based on your data)\n",
    "n_clusters = 3\n",
    "\n",
    "# Initialize KMeans\n",
    "kmeans = KMeans(n_clusters=n_clusters, random_state=42)\n",
    "\n",
    "# Fit the data to the `kmeans` object\n",
    "\n",
    "df['cluster']=kmeans.fit_predict(numerical_columns)"
   ]
  },
  {
   "cell_type": "code",
   "execution_count": 541,
   "metadata": {},
   "outputs": [
    {
     "data": {
      "text/html": [
       "<div>\n",
       "<style scoped>\n",
       "    .dataframe tbody tr th:only-of-type {\n",
       "        vertical-align: middle;\n",
       "    }\n",
       "\n",
       "    .dataframe tbody tr th {\n",
       "        vertical-align: top;\n",
       "    }\n",
       "\n",
       "    .dataframe thead th {\n",
       "        text-align: right;\n",
       "    }\n",
       "</style>\n",
       "<table border=\"1\" class=\"dataframe\">\n",
       "  <thead>\n",
       "    <tr style=\"text-align: right;\">\n",
       "      <th></th>\n",
       "      <th>Name of station</th>\n",
       "      <th>D.O mg/L</th>\n",
       "      <th>pH</th>\n",
       "      <th>Conductivity m mhos/cm</th>\n",
       "      <th>BOD at 27 C mg/L</th>\n",
       "      <th>Nitrate mg/L</th>\n",
       "      <th>Nitrite mg/L</th>\n",
       "      <th>Fecal coliform MPN/100</th>\n",
       "      <th>Total coliform MPN/100</th>\n",
       "      <th>Turbidity NTU</th>\n",
       "      <th>...</th>\n",
       "      <th>Potassium</th>\n",
       "      <th>Fluoride</th>\n",
       "      <th>DBU Class</th>\n",
       "      <th>cluster</th>\n",
       "      <th>cluster-1</th>\n",
       "      <th>cluster-2</th>\n",
       "      <th>cluster-3</th>\n",
       "      <th>cluster-4</th>\n",
       "      <th>cluster-5</th>\n",
       "      <th>cluster-dbscan</th>\n",
       "    </tr>\n",
       "  </thead>\n",
       "  <tbody>\n",
       "    <tr>\n",
       "      <th>0</th>\n",
       "      <td>'Pudur'</td>\n",
       "      <td>-1.546190</td>\n",
       "      <td>0.390744</td>\n",
       "      <td>-0.190757</td>\n",
       "      <td>0.598576</td>\n",
       "      <td>-0.614169</td>\n",
       "      <td>-0.136933</td>\n",
       "      <td>-0.149248</td>\n",
       "      <td>-0.130162</td>\n",
       "      <td>-0.165007</td>\n",
       "      <td>...</td>\n",
       "      <td>-0.190721</td>\n",
       "      <td>0.148899</td>\n",
       "      <td>D</td>\n",
       "      <td>0</td>\n",
       "      <td>0</td>\n",
       "      <td>0</td>\n",
       "      <td>0</td>\n",
       "      <td>3</td>\n",
       "      <td>2</td>\n",
       "      <td>-1</td>\n",
       "    </tr>\n",
       "    <tr>\n",
       "      <th>1</th>\n",
       "      <td>'Vairapalayam'</td>\n",
       "      <td>-0.819181</td>\n",
       "      <td>0.849216</td>\n",
       "      <td>-0.192465</td>\n",
       "      <td>0.192637</td>\n",
       "      <td>-0.550683</td>\n",
       "      <td>-0.266664</td>\n",
       "      <td>-0.140926</td>\n",
       "      <td>-0.122482</td>\n",
       "      <td>-0.166765</td>\n",
       "      <td>...</td>\n",
       "      <td>-0.188884</td>\n",
       "      <td>0.348272</td>\n",
       "      <td>B</td>\n",
       "      <td>0</td>\n",
       "      <td>0</td>\n",
       "      <td>0</td>\n",
       "      <td>0</td>\n",
       "      <td>3</td>\n",
       "      <td>2</td>\n",
       "      <td>-1</td>\n",
       "    </tr>\n",
       "    <tr>\n",
       "      <th>2</th>\n",
       "      <td>'P.Velur'</td>\n",
       "      <td>0.615189</td>\n",
       "      <td>0.925628</td>\n",
       "      <td>-0.182027</td>\n",
       "      <td>-0.619242</td>\n",
       "      <td>-0.601721</td>\n",
       "      <td>-0.223948</td>\n",
       "      <td>-0.161307</td>\n",
       "      <td>-0.150941</td>\n",
       "      <td>-0.112276</td>\n",
       "      <td>...</td>\n",
       "      <td>-0.177865</td>\n",
       "      <td>0.105557</td>\n",
       "      <td>B</td>\n",
       "      <td>0</td>\n",
       "      <td>0</td>\n",
       "      <td>0</td>\n",
       "      <td>0</td>\n",
       "      <td>0</td>\n",
       "      <td>0</td>\n",
       "      <td>0</td>\n",
       "    </tr>\n",
       "    <tr>\n",
       "      <th>3</th>\n",
       "      <td>'Mohanur'</td>\n",
       "      <td>0.084669</td>\n",
       "      <td>0.906525</td>\n",
       "      <td>-0.174835</td>\n",
       "      <td>-0.619242</td>\n",
       "      <td>-0.576825</td>\n",
       "      <td>-0.247679</td>\n",
       "      <td>-0.157061</td>\n",
       "      <td>-0.141907</td>\n",
       "      <td>-0.113113</td>\n",
       "      <td>...</td>\n",
       "      <td>-0.153989</td>\n",
       "      <td>0.950726</td>\n",
       "      <td>B</td>\n",
       "      <td>0</td>\n",
       "      <td>0</td>\n",
       "      <td>0</td>\n",
       "      <td>0</td>\n",
       "      <td>0</td>\n",
       "      <td>0</td>\n",
       "      <td>0</td>\n",
       "    </tr>\n",
       "    <tr>\n",
       "      <th>4</th>\n",
       "      <td>'Madathukulam'</td>\n",
       "      <td>-0.583394</td>\n",
       "      <td>-0.277862</td>\n",
       "      <td>-0.204421</td>\n",
       "      <td>-0.619242</td>\n",
       "      <td>-0.479729</td>\n",
       "      <td>-0.286440</td>\n",
       "      <td>-0.256419</td>\n",
       "      <td>-0.271551</td>\n",
       "      <td>-0.133201</td>\n",
       "      <td>...</td>\n",
       "      <td>-0.227453</td>\n",
       "      <td>0.363442</td>\n",
       "      <td>B</td>\n",
       "      <td>0</td>\n",
       "      <td>0</td>\n",
       "      <td>0</td>\n",
       "      <td>0</td>\n",
       "      <td>3</td>\n",
       "      <td>2</td>\n",
       "      <td>-1</td>\n",
       "    </tr>\n",
       "  </tbody>\n",
       "</table>\n",
       "<p>5 rows × 36 columns</p>\n",
       "</div>"
      ],
      "text/plain": [
       "  Name of station  D.O mg/L        pH  Conductivity m mhos/cm  \\\n",
       "0         'Pudur' -1.546190  0.390744               -0.190757   \n",
       "1  'Vairapalayam' -0.819181  0.849216               -0.192465   \n",
       "2       'P.Velur'  0.615189  0.925628               -0.182027   \n",
       "3       'Mohanur'  0.084669  0.906525               -0.174835   \n",
       "4  'Madathukulam' -0.583394 -0.277862               -0.204421   \n",
       "\n",
       "   BOD at 27 C mg/L  Nitrate mg/L  Nitrite mg/L  Fecal coliform MPN/100  \\\n",
       "0          0.598576     -0.614169     -0.136933               -0.149248   \n",
       "1          0.192637     -0.550683     -0.266664               -0.140926   \n",
       "2         -0.619242     -0.601721     -0.223948               -0.161307   \n",
       "3         -0.619242     -0.576825     -0.247679               -0.157061   \n",
       "4         -0.619242     -0.479729     -0.286440               -0.256419   \n",
       "\n",
       "   Total coliform MPN/100  Turbidity NTU  ...  Potassium  Fluoride  DBU Class  \\\n",
       "0               -0.130162      -0.165007  ...  -0.190721  0.148899          D   \n",
       "1               -0.122482      -0.166765  ...  -0.188884  0.348272          B   \n",
       "2               -0.150941      -0.112276  ...  -0.177865  0.105557          B   \n",
       "3               -0.141907      -0.113113  ...  -0.153989  0.950726          B   \n",
       "4               -0.271551      -0.133201  ...  -0.227453  0.363442          B   \n",
       "\n",
       "   cluster  cluster-1  cluster-2  cluster-3  cluster-4  cluster-5  \\\n",
       "0        0          0          0          0          3          2   \n",
       "1        0          0          0          0          3          2   \n",
       "2        0          0          0          0          0          0   \n",
       "3        0          0          0          0          0          0   \n",
       "4        0          0          0          0          3          2   \n",
       "\n",
       "   cluster-dbscan  \n",
       "0              -1  \n",
       "1              -1  \n",
       "2               0  \n",
       "3               0  \n",
       "4              -1  \n",
       "\n",
       "[5 rows x 36 columns]"
      ]
     },
     "execution_count": 541,
     "metadata": {},
     "output_type": "execute_result"
    }
   ],
   "source": [
    "df.head()"
   ]
  },
  {
   "cell_type": "markdown",
   "metadata": {},
   "source": [
    "#### Plotting the clusters"
   ]
  },
  {
   "cell_type": "code",
   "execution_count": 543,
   "metadata": {},
   "outputs": [
    {
     "data": {
      "application/vnd.plotly.v1+json": {
       "config": {
        "plotlyServerURL": "https://plot.ly"
       },
       "data": [
        {
         "hovertemplate": "D.O mg/L=%{x}<br>pH=%{y}<br>Conductivity m mhos/cm=%{z}<br>cluster=%{marker.color}<extra></extra>",
         "legendgroup": "",
         "marker": {
          "color": [
           0,
           0,
           0,
           0,
           0,
           0,
           0,
           0,
           0,
           0,
           0,
           0,
           0,
           0,
           0,
           0,
           0,
           0,
           0,
           0,
           1,
           1,
           0,
           0,
           0,
           0,
           0,
           0,
           0,
           0,
           0,
           0,
           0,
           0,
           0,
           0,
           0,
           0,
           0,
           0,
           0,
           0,
           0,
           0,
           0,
           2,
           0,
           0,
           0,
           0,
           0,
           0,
           0,
           0,
           0
          ],
          "coloraxis": "coloraxis",
          "opacity": 0.5,
          "symbol": "circle"
         },
         "mode": "markers",
         "name": "",
         "scene": "scene",
         "showlegend": false,
         "type": "scatter3d",
         "x": [
          -1.546190049012377,
          -0.8191806336380264,
          0.6151892939924496,
          0.08466890980035516,
          -0.583393796219318,
          0.2811579409826131,
          0.5169447784013215,
          -0.7405850211651236,
          -0.9370740523473797,
          -0.5440959899828657,
          0.04537110356390461,
          -0.0332245089089982,
          0.2811579409826131,
          0.47764697216486923,
          0.7330827127018029,
          0.5365936815195468,
          0.12396671603680744,
          0.20256232850971026,
          -0.4655003775099628,
          -0.11182012138190102,
          -0.19041573385480384,
          0.34010465033728887,
          -0.6423405055739955,
          0.6348381971106749,
          0.34010465033728887,
          1.79412348108599,
          1.79412348108599,
          -0.32795805568238423,
          1.3814965156032508,
          1.2832520000121226,
          1.8334212873224425,
          0.18291342539148323,
          -1.0942652772931853,
          0.5365936815195468,
          -1.2711054053572162,
          -1.0353185679385077,
          -0.44585147439173756,
          -0.5440959899828657,
          -4.08089855126349,
          0.7330827127018029,
          0.04537110356390461,
          -0.976371858583832,
          -0.1314690245001263,
          -0.9370740523473797,
          0.34010465033728887,
          -1.52654114589415,
          -0.7405850211651236,
          -0.17076683073657856,
          -0.2297135400912561,
          -0.2100646369730291,
          0.6348381971106749,
          0.8902739376476086,
          1.027816259475189,
          0.7920294220564805,
          1.8530701904406677
         ],
         "y": [
          0.3907437335835832,
          0.8492163809883222,
          0.9256284888891121,
          0.906525461913915,
          -0.2778622105483265,
          1.1548648125914815,
          0.8110103270379282,
          -0.10593496777154982,
          0.1997134638316095,
          0.8683194079635193,
          0.1997134638316095,
          0.8683194079635193,
          0.2761255717323993,
          1.1357617856162845,
          0.3716407066083862,
          1.1548648125914815,
          1.002040596789902,
          1.021143623765099,
          0.48625886845957184,
          -0.04862588684595701,
          0.18061043685641248,
          1.3076890283930611,
          0.046889248030029855,
          0.8492163809883222,
          0.9829375698147048,
          -1.538661990911358,
          -1.8443104225145173,
          -1.6723831797377404,
          -1.4813529099857652,
          -1.8443104225145173,
          -1.7296922606633316,
          -1.4813529099857652,
          -1.3476317211593825,
          -1.2903226402337913,
          -1.7105892336881345,
          -1.557765017886555,
          0.16150740988121545,
          0.3907437335835832,
          -0.5644076151762888,
          -0.8891590737546452,
          -0.18234707567233965,
          1.2885860014178643,
          0.3716407066083862,
          0.3907437335835832,
          0.887422434938718,
          0.6963921651867425,
          0.3907437335835832,
          0.409846760558782,
          0.5817740033355586,
          -0.20145010264753668,
          -0.984674208630632,
          -0.8700560467794465,
          1.2121738935170727,
          0.6390830842611515,
          -1.7870013415889243
         ],
         "z": [
          -0.19075693947164127,
          -0.1924649293826367,
          -0.18202721325988686,
          -0.17483467796802835,
          -0.20442085875960472,
          -0.17196905045069155,
          -0.19739912245884572,
          -0.19009272117292084,
          -0.19265470603941398,
          2.222822581421678,
          0.07198884183648903,
          -0.1940780309652435,
          -0.1959757975330162,
          -0.2000559956537275,
          -0.20043554896728205,
          -0.17557480692945968,
          -0.18990294451614356,
          -0.20223842720666613,
          -0.1810783299760005,
          -0.21447902156880003,
          0.2315910101861731,
          0.038303485258523604,
          0.13831578338014489,
          -0.19910711236984116,
          -0.19853778239950934,
          -0.2314640323503657,
          -0.22861738249870664,
          -0.22529629100510443,
          -0.21742055974884772,
          -0.230610037394868,
          -0.23127425569358842,
          -0.17927545173661644,
          -0.20641351365576605,
          -0.20812150356676148,
          -0.2244422960496067,
          -0.2184643313611227,
          -0.15488915134073725,
          -0.12964885598936035,
          -0.19436269595040942,
          -0.22501162601993852,
          -0.19796845242917754,
          -0.18895406123225722,
          -0.17974989337855962,
          -0.14217411533666016,
          -0.12860508437708537,
          6.9323200960064115,
          -0.20242820386344337,
          -0.19180071108391628,
          -0.19233208572289262,
          -0.21751544807723636,
          -0.21428924491202275,
          -0.21723078309207045,
          -0.19739912245884572,
          -0.18041411167728005,
          -0.23108447903681115
         ]
        }
       ],
       "layout": {
        "coloraxis": {
         "colorbar": {
          "title": {
           "text": "cluster"
          }
         },
         "colorscale": [
          [
           0,
           "#0d0887"
          ],
          [
           0.1111111111111111,
           "#46039f"
          ],
          [
           0.2222222222222222,
           "#7201a8"
          ],
          [
           0.3333333333333333,
           "#9c179e"
          ],
          [
           0.4444444444444444,
           "#bd3786"
          ],
          [
           0.5555555555555556,
           "#d8576b"
          ],
          [
           0.6666666666666666,
           "#ed7953"
          ],
          [
           0.7777777777777778,
           "#fb9f3a"
          ],
          [
           0.8888888888888888,
           "#fdca26"
          ],
          [
           1,
           "#f0f921"
          ]
         ]
        },
        "legend": {
         "tracegroupgap": 0
        },
        "margin": {
         "t": 60
        },
        "scene": {
         "domain": {
          "x": [
           0,
           1
          ],
          "y": [
           0,
           1
          ]
         },
         "xaxis": {
          "title": {
           "text": "D.O mg/L"
          }
         },
         "yaxis": {
          "title": {
           "text": "pH"
          }
         },
         "zaxis": {
          "title": {
           "text": "Conductivity m mhos/cm"
          }
         }
        },
        "template": {
         "data": {
          "bar": [
           {
            "error_x": {
             "color": "#2a3f5f"
            },
            "error_y": {
             "color": "#2a3f5f"
            },
            "marker": {
             "line": {
              "color": "#E5ECF6",
              "width": 0.5
             },
             "pattern": {
              "fillmode": "overlay",
              "size": 10,
              "solidity": 0.2
             }
            },
            "type": "bar"
           }
          ],
          "barpolar": [
           {
            "marker": {
             "line": {
              "color": "#E5ECF6",
              "width": 0.5
             },
             "pattern": {
              "fillmode": "overlay",
              "size": 10,
              "solidity": 0.2
             }
            },
            "type": "barpolar"
           }
          ],
          "carpet": [
           {
            "aaxis": {
             "endlinecolor": "#2a3f5f",
             "gridcolor": "white",
             "linecolor": "white",
             "minorgridcolor": "white",
             "startlinecolor": "#2a3f5f"
            },
            "baxis": {
             "endlinecolor": "#2a3f5f",
             "gridcolor": "white",
             "linecolor": "white",
             "minorgridcolor": "white",
             "startlinecolor": "#2a3f5f"
            },
            "type": "carpet"
           }
          ],
          "choropleth": [
           {
            "colorbar": {
             "outlinewidth": 0,
             "ticks": ""
            },
            "type": "choropleth"
           }
          ],
          "contour": [
           {
            "colorbar": {
             "outlinewidth": 0,
             "ticks": ""
            },
            "colorscale": [
             [
              0,
              "#0d0887"
             ],
             [
              0.1111111111111111,
              "#46039f"
             ],
             [
              0.2222222222222222,
              "#7201a8"
             ],
             [
              0.3333333333333333,
              "#9c179e"
             ],
             [
              0.4444444444444444,
              "#bd3786"
             ],
             [
              0.5555555555555556,
              "#d8576b"
             ],
             [
              0.6666666666666666,
              "#ed7953"
             ],
             [
              0.7777777777777778,
              "#fb9f3a"
             ],
             [
              0.8888888888888888,
              "#fdca26"
             ],
             [
              1,
              "#f0f921"
             ]
            ],
            "type": "contour"
           }
          ],
          "contourcarpet": [
           {
            "colorbar": {
             "outlinewidth": 0,
             "ticks": ""
            },
            "type": "contourcarpet"
           }
          ],
          "heatmap": [
           {
            "colorbar": {
             "outlinewidth": 0,
             "ticks": ""
            },
            "colorscale": [
             [
              0,
              "#0d0887"
             ],
             [
              0.1111111111111111,
              "#46039f"
             ],
             [
              0.2222222222222222,
              "#7201a8"
             ],
             [
              0.3333333333333333,
              "#9c179e"
             ],
             [
              0.4444444444444444,
              "#bd3786"
             ],
             [
              0.5555555555555556,
              "#d8576b"
             ],
             [
              0.6666666666666666,
              "#ed7953"
             ],
             [
              0.7777777777777778,
              "#fb9f3a"
             ],
             [
              0.8888888888888888,
              "#fdca26"
             ],
             [
              1,
              "#f0f921"
             ]
            ],
            "type": "heatmap"
           }
          ],
          "heatmapgl": [
           {
            "colorbar": {
             "outlinewidth": 0,
             "ticks": ""
            },
            "colorscale": [
             [
              0,
              "#0d0887"
             ],
             [
              0.1111111111111111,
              "#46039f"
             ],
             [
              0.2222222222222222,
              "#7201a8"
             ],
             [
              0.3333333333333333,
              "#9c179e"
             ],
             [
              0.4444444444444444,
              "#bd3786"
             ],
             [
              0.5555555555555556,
              "#d8576b"
             ],
             [
              0.6666666666666666,
              "#ed7953"
             ],
             [
              0.7777777777777778,
              "#fb9f3a"
             ],
             [
              0.8888888888888888,
              "#fdca26"
             ],
             [
              1,
              "#f0f921"
             ]
            ],
            "type": "heatmapgl"
           }
          ],
          "histogram": [
           {
            "marker": {
             "pattern": {
              "fillmode": "overlay",
              "size": 10,
              "solidity": 0.2
             }
            },
            "type": "histogram"
           }
          ],
          "histogram2d": [
           {
            "colorbar": {
             "outlinewidth": 0,
             "ticks": ""
            },
            "colorscale": [
             [
              0,
              "#0d0887"
             ],
             [
              0.1111111111111111,
              "#46039f"
             ],
             [
              0.2222222222222222,
              "#7201a8"
             ],
             [
              0.3333333333333333,
              "#9c179e"
             ],
             [
              0.4444444444444444,
              "#bd3786"
             ],
             [
              0.5555555555555556,
              "#d8576b"
             ],
             [
              0.6666666666666666,
              "#ed7953"
             ],
             [
              0.7777777777777778,
              "#fb9f3a"
             ],
             [
              0.8888888888888888,
              "#fdca26"
             ],
             [
              1,
              "#f0f921"
             ]
            ],
            "type": "histogram2d"
           }
          ],
          "histogram2dcontour": [
           {
            "colorbar": {
             "outlinewidth": 0,
             "ticks": ""
            },
            "colorscale": [
             [
              0,
              "#0d0887"
             ],
             [
              0.1111111111111111,
              "#46039f"
             ],
             [
              0.2222222222222222,
              "#7201a8"
             ],
             [
              0.3333333333333333,
              "#9c179e"
             ],
             [
              0.4444444444444444,
              "#bd3786"
             ],
             [
              0.5555555555555556,
              "#d8576b"
             ],
             [
              0.6666666666666666,
              "#ed7953"
             ],
             [
              0.7777777777777778,
              "#fb9f3a"
             ],
             [
              0.8888888888888888,
              "#fdca26"
             ],
             [
              1,
              "#f0f921"
             ]
            ],
            "type": "histogram2dcontour"
           }
          ],
          "mesh3d": [
           {
            "colorbar": {
             "outlinewidth": 0,
             "ticks": ""
            },
            "type": "mesh3d"
           }
          ],
          "parcoords": [
           {
            "line": {
             "colorbar": {
              "outlinewidth": 0,
              "ticks": ""
             }
            },
            "type": "parcoords"
           }
          ],
          "pie": [
           {
            "automargin": true,
            "type": "pie"
           }
          ],
          "scatter": [
           {
            "fillpattern": {
             "fillmode": "overlay",
             "size": 10,
             "solidity": 0.2
            },
            "type": "scatter"
           }
          ],
          "scatter3d": [
           {
            "line": {
             "colorbar": {
              "outlinewidth": 0,
              "ticks": ""
             }
            },
            "marker": {
             "colorbar": {
              "outlinewidth": 0,
              "ticks": ""
             }
            },
            "type": "scatter3d"
           }
          ],
          "scattercarpet": [
           {
            "marker": {
             "colorbar": {
              "outlinewidth": 0,
              "ticks": ""
             }
            },
            "type": "scattercarpet"
           }
          ],
          "scattergeo": [
           {
            "marker": {
             "colorbar": {
              "outlinewidth": 0,
              "ticks": ""
             }
            },
            "type": "scattergeo"
           }
          ],
          "scattergl": [
           {
            "marker": {
             "colorbar": {
              "outlinewidth": 0,
              "ticks": ""
             }
            },
            "type": "scattergl"
           }
          ],
          "scattermapbox": [
           {
            "marker": {
             "colorbar": {
              "outlinewidth": 0,
              "ticks": ""
             }
            },
            "type": "scattermapbox"
           }
          ],
          "scatterpolar": [
           {
            "marker": {
             "colorbar": {
              "outlinewidth": 0,
              "ticks": ""
             }
            },
            "type": "scatterpolar"
           }
          ],
          "scatterpolargl": [
           {
            "marker": {
             "colorbar": {
              "outlinewidth": 0,
              "ticks": ""
             }
            },
            "type": "scatterpolargl"
           }
          ],
          "scatterternary": [
           {
            "marker": {
             "colorbar": {
              "outlinewidth": 0,
              "ticks": ""
             }
            },
            "type": "scatterternary"
           }
          ],
          "surface": [
           {
            "colorbar": {
             "outlinewidth": 0,
             "ticks": ""
            },
            "colorscale": [
             [
              0,
              "#0d0887"
             ],
             [
              0.1111111111111111,
              "#46039f"
             ],
             [
              0.2222222222222222,
              "#7201a8"
             ],
             [
              0.3333333333333333,
              "#9c179e"
             ],
             [
              0.4444444444444444,
              "#bd3786"
             ],
             [
              0.5555555555555556,
              "#d8576b"
             ],
             [
              0.6666666666666666,
              "#ed7953"
             ],
             [
              0.7777777777777778,
              "#fb9f3a"
             ],
             [
              0.8888888888888888,
              "#fdca26"
             ],
             [
              1,
              "#f0f921"
             ]
            ],
            "type": "surface"
           }
          ],
          "table": [
           {
            "cells": {
             "fill": {
              "color": "#EBF0F8"
             },
             "line": {
              "color": "white"
             }
            },
            "header": {
             "fill": {
              "color": "#C8D4E3"
             },
             "line": {
              "color": "white"
             }
            },
            "type": "table"
           }
          ]
         },
         "layout": {
          "annotationdefaults": {
           "arrowcolor": "#2a3f5f",
           "arrowhead": 0,
           "arrowwidth": 1
          },
          "autotypenumbers": "strict",
          "coloraxis": {
           "colorbar": {
            "outlinewidth": 0,
            "ticks": ""
           }
          },
          "colorscale": {
           "diverging": [
            [
             0,
             "#8e0152"
            ],
            [
             0.1,
             "#c51b7d"
            ],
            [
             0.2,
             "#de77ae"
            ],
            [
             0.3,
             "#f1b6da"
            ],
            [
             0.4,
             "#fde0ef"
            ],
            [
             0.5,
             "#f7f7f7"
            ],
            [
             0.6,
             "#e6f5d0"
            ],
            [
             0.7,
             "#b8e186"
            ],
            [
             0.8,
             "#7fbc41"
            ],
            [
             0.9,
             "#4d9221"
            ],
            [
             1,
             "#276419"
            ]
           ],
           "sequential": [
            [
             0,
             "#0d0887"
            ],
            [
             0.1111111111111111,
             "#46039f"
            ],
            [
             0.2222222222222222,
             "#7201a8"
            ],
            [
             0.3333333333333333,
             "#9c179e"
            ],
            [
             0.4444444444444444,
             "#bd3786"
            ],
            [
             0.5555555555555556,
             "#d8576b"
            ],
            [
             0.6666666666666666,
             "#ed7953"
            ],
            [
             0.7777777777777778,
             "#fb9f3a"
            ],
            [
             0.8888888888888888,
             "#fdca26"
            ],
            [
             1,
             "#f0f921"
            ]
           ],
           "sequentialminus": [
            [
             0,
             "#0d0887"
            ],
            [
             0.1111111111111111,
             "#46039f"
            ],
            [
             0.2222222222222222,
             "#7201a8"
            ],
            [
             0.3333333333333333,
             "#9c179e"
            ],
            [
             0.4444444444444444,
             "#bd3786"
            ],
            [
             0.5555555555555556,
             "#d8576b"
            ],
            [
             0.6666666666666666,
             "#ed7953"
            ],
            [
             0.7777777777777778,
             "#fb9f3a"
            ],
            [
             0.8888888888888888,
             "#fdca26"
            ],
            [
             1,
             "#f0f921"
            ]
           ]
          },
          "colorway": [
           "#636efa",
           "#EF553B",
           "#00cc96",
           "#ab63fa",
           "#FFA15A",
           "#19d3f3",
           "#FF6692",
           "#B6E880",
           "#FF97FF",
           "#FECB52"
          ],
          "font": {
           "color": "#2a3f5f"
          },
          "geo": {
           "bgcolor": "white",
           "lakecolor": "white",
           "landcolor": "#E5ECF6",
           "showlakes": true,
           "showland": true,
           "subunitcolor": "white"
          },
          "hoverlabel": {
           "align": "left"
          },
          "hovermode": "closest",
          "mapbox": {
           "style": "light"
          },
          "paper_bgcolor": "white",
          "plot_bgcolor": "#E5ECF6",
          "polar": {
           "angularaxis": {
            "gridcolor": "white",
            "linecolor": "white",
            "ticks": ""
           },
           "bgcolor": "#E5ECF6",
           "radialaxis": {
            "gridcolor": "white",
            "linecolor": "white",
            "ticks": ""
           }
          },
          "scene": {
           "xaxis": {
            "backgroundcolor": "#E5ECF6",
            "gridcolor": "white",
            "gridwidth": 2,
            "linecolor": "white",
            "showbackground": true,
            "ticks": "",
            "zerolinecolor": "white"
           },
           "yaxis": {
            "backgroundcolor": "#E5ECF6",
            "gridcolor": "white",
            "gridwidth": 2,
            "linecolor": "white",
            "showbackground": true,
            "ticks": "",
            "zerolinecolor": "white"
           },
           "zaxis": {
            "backgroundcolor": "#E5ECF6",
            "gridcolor": "white",
            "gridwidth": 2,
            "linecolor": "white",
            "showbackground": true,
            "ticks": "",
            "zerolinecolor": "white"
           }
          },
          "shapedefaults": {
           "line": {
            "color": "#2a3f5f"
           }
          },
          "ternary": {
           "aaxis": {
            "gridcolor": "white",
            "linecolor": "white",
            "ticks": ""
           },
           "baxis": {
            "gridcolor": "white",
            "linecolor": "white",
            "ticks": ""
           },
           "bgcolor": "#E5ECF6",
           "caxis": {
            "gridcolor": "white",
            "linecolor": "white",
            "ticks": ""
           }
          },
          "title": {
           "x": 0.05
          },
          "xaxis": {
           "automargin": true,
           "gridcolor": "white",
           "linecolor": "white",
           "ticks": "",
           "title": {
            "standoff": 15
           },
           "zerolinecolor": "white",
           "zerolinewidth": 2
          },
          "yaxis": {
           "automargin": true,
           "gridcolor": "white",
           "linecolor": "white",
           "ticks": "",
           "title": {
            "standoff": 15
           },
           "zerolinecolor": "white",
           "zerolinewidth": 2
          }
         }
        }
       }
      }
     },
     "metadata": {},
     "output_type": "display_data"
    }
   ],
   "source": [
    "import plotly.express as px\n",
    "px.scatter_3d(df, x='D.O mg/L', y='pH', z='Conductivity m mhos/cm', color='cluster', opacity=0.5)"
   ]
  },
  {
   "cell_type": "code",
   "execution_count": 544,
   "metadata": {},
   "outputs": [
    {
     "data": {
      "application/vnd.plotly.v1+json": {
       "config": {
        "plotlyServerURL": "https://plot.ly"
       },
       "data": [
        {
         "hovertemplate": "D.O mg/L=%{x}<br>pH=%{y}<br>cluster=%{marker.color}<extra></extra>",
         "legendgroup": "",
         "marker": {
          "color": [
           0,
           0,
           0,
           0,
           0,
           0,
           0,
           0,
           0,
           0,
           0,
           0,
           0,
           0,
           0,
           0,
           0,
           0,
           0,
           0,
           1,
           1,
           0,
           0,
           0,
           0,
           0,
           0,
           0,
           0,
           0,
           0,
           0,
           0,
           0,
           0,
           0,
           0,
           0,
           0,
           0,
           0,
           0,
           0,
           0,
           2,
           0,
           0,
           0,
           0,
           0,
           0,
           0,
           0,
           0
          ],
          "coloraxis": "coloraxis",
          "symbol": "circle"
         },
         "mode": "markers",
         "name": "",
         "orientation": "v",
         "showlegend": false,
         "type": "scatter",
         "x": [
          -1.546190049012377,
          -0.8191806336380264,
          0.6151892939924496,
          0.08466890980035516,
          -0.583393796219318,
          0.2811579409826131,
          0.5169447784013215,
          -0.7405850211651236,
          -0.9370740523473797,
          -0.5440959899828657,
          0.04537110356390461,
          -0.0332245089089982,
          0.2811579409826131,
          0.47764697216486923,
          0.7330827127018029,
          0.5365936815195468,
          0.12396671603680744,
          0.20256232850971026,
          -0.4655003775099628,
          -0.11182012138190102,
          -0.19041573385480384,
          0.34010465033728887,
          -0.6423405055739955,
          0.6348381971106749,
          0.34010465033728887,
          1.79412348108599,
          1.79412348108599,
          -0.32795805568238423,
          1.3814965156032508,
          1.2832520000121226,
          1.8334212873224425,
          0.18291342539148323,
          -1.0942652772931853,
          0.5365936815195468,
          -1.2711054053572162,
          -1.0353185679385077,
          -0.44585147439173756,
          -0.5440959899828657,
          -4.08089855126349,
          0.7330827127018029,
          0.04537110356390461,
          -0.976371858583832,
          -0.1314690245001263,
          -0.9370740523473797,
          0.34010465033728887,
          -1.52654114589415,
          -0.7405850211651236,
          -0.17076683073657856,
          -0.2297135400912561,
          -0.2100646369730291,
          0.6348381971106749,
          0.8902739376476086,
          1.027816259475189,
          0.7920294220564805,
          1.8530701904406677
         ],
         "xaxis": "x",
         "y": [
          0.3907437335835832,
          0.8492163809883222,
          0.9256284888891121,
          0.906525461913915,
          -0.2778622105483265,
          1.1548648125914815,
          0.8110103270379282,
          -0.10593496777154982,
          0.1997134638316095,
          0.8683194079635193,
          0.1997134638316095,
          0.8683194079635193,
          0.2761255717323993,
          1.1357617856162845,
          0.3716407066083862,
          1.1548648125914815,
          1.002040596789902,
          1.021143623765099,
          0.48625886845957184,
          -0.04862588684595701,
          0.18061043685641248,
          1.3076890283930611,
          0.046889248030029855,
          0.8492163809883222,
          0.9829375698147048,
          -1.538661990911358,
          -1.8443104225145173,
          -1.6723831797377404,
          -1.4813529099857652,
          -1.8443104225145173,
          -1.7296922606633316,
          -1.4813529099857652,
          -1.3476317211593825,
          -1.2903226402337913,
          -1.7105892336881345,
          -1.557765017886555,
          0.16150740988121545,
          0.3907437335835832,
          -0.5644076151762888,
          -0.8891590737546452,
          -0.18234707567233965,
          1.2885860014178643,
          0.3716407066083862,
          0.3907437335835832,
          0.887422434938718,
          0.6963921651867425,
          0.3907437335835832,
          0.409846760558782,
          0.5817740033355586,
          -0.20145010264753668,
          -0.984674208630632,
          -0.8700560467794465,
          1.2121738935170727,
          0.6390830842611515,
          -1.7870013415889243
         ],
         "yaxis": "y"
        }
       ],
       "layout": {
        "coloraxis": {
         "colorbar": {
          "title": {
           "text": "cluster"
          }
         },
         "colorscale": [
          [
           0,
           "#0d0887"
          ],
          [
           0.1111111111111111,
           "#46039f"
          ],
          [
           0.2222222222222222,
           "#7201a8"
          ],
          [
           0.3333333333333333,
           "#9c179e"
          ],
          [
           0.4444444444444444,
           "#bd3786"
          ],
          [
           0.5555555555555556,
           "#d8576b"
          ],
          [
           0.6666666666666666,
           "#ed7953"
          ],
          [
           0.7777777777777778,
           "#fb9f3a"
          ],
          [
           0.8888888888888888,
           "#fdca26"
          ],
          [
           1,
           "#f0f921"
          ]
         ]
        },
        "legend": {
         "tracegroupgap": 0
        },
        "margin": {
         "t": 60
        },
        "template": {
         "data": {
          "bar": [
           {
            "error_x": {
             "color": "#2a3f5f"
            },
            "error_y": {
             "color": "#2a3f5f"
            },
            "marker": {
             "line": {
              "color": "#E5ECF6",
              "width": 0.5
             },
             "pattern": {
              "fillmode": "overlay",
              "size": 10,
              "solidity": 0.2
             }
            },
            "type": "bar"
           }
          ],
          "barpolar": [
           {
            "marker": {
             "line": {
              "color": "#E5ECF6",
              "width": 0.5
             },
             "pattern": {
              "fillmode": "overlay",
              "size": 10,
              "solidity": 0.2
             }
            },
            "type": "barpolar"
           }
          ],
          "carpet": [
           {
            "aaxis": {
             "endlinecolor": "#2a3f5f",
             "gridcolor": "white",
             "linecolor": "white",
             "minorgridcolor": "white",
             "startlinecolor": "#2a3f5f"
            },
            "baxis": {
             "endlinecolor": "#2a3f5f",
             "gridcolor": "white",
             "linecolor": "white",
             "minorgridcolor": "white",
             "startlinecolor": "#2a3f5f"
            },
            "type": "carpet"
           }
          ],
          "choropleth": [
           {
            "colorbar": {
             "outlinewidth": 0,
             "ticks": ""
            },
            "type": "choropleth"
           }
          ],
          "contour": [
           {
            "colorbar": {
             "outlinewidth": 0,
             "ticks": ""
            },
            "colorscale": [
             [
              0,
              "#0d0887"
             ],
             [
              0.1111111111111111,
              "#46039f"
             ],
             [
              0.2222222222222222,
              "#7201a8"
             ],
             [
              0.3333333333333333,
              "#9c179e"
             ],
             [
              0.4444444444444444,
              "#bd3786"
             ],
             [
              0.5555555555555556,
              "#d8576b"
             ],
             [
              0.6666666666666666,
              "#ed7953"
             ],
             [
              0.7777777777777778,
              "#fb9f3a"
             ],
             [
              0.8888888888888888,
              "#fdca26"
             ],
             [
              1,
              "#f0f921"
             ]
            ],
            "type": "contour"
           }
          ],
          "contourcarpet": [
           {
            "colorbar": {
             "outlinewidth": 0,
             "ticks": ""
            },
            "type": "contourcarpet"
           }
          ],
          "heatmap": [
           {
            "colorbar": {
             "outlinewidth": 0,
             "ticks": ""
            },
            "colorscale": [
             [
              0,
              "#0d0887"
             ],
             [
              0.1111111111111111,
              "#46039f"
             ],
             [
              0.2222222222222222,
              "#7201a8"
             ],
             [
              0.3333333333333333,
              "#9c179e"
             ],
             [
              0.4444444444444444,
              "#bd3786"
             ],
             [
              0.5555555555555556,
              "#d8576b"
             ],
             [
              0.6666666666666666,
              "#ed7953"
             ],
             [
              0.7777777777777778,
              "#fb9f3a"
             ],
             [
              0.8888888888888888,
              "#fdca26"
             ],
             [
              1,
              "#f0f921"
             ]
            ],
            "type": "heatmap"
           }
          ],
          "heatmapgl": [
           {
            "colorbar": {
             "outlinewidth": 0,
             "ticks": ""
            },
            "colorscale": [
             [
              0,
              "#0d0887"
             ],
             [
              0.1111111111111111,
              "#46039f"
             ],
             [
              0.2222222222222222,
              "#7201a8"
             ],
             [
              0.3333333333333333,
              "#9c179e"
             ],
             [
              0.4444444444444444,
              "#bd3786"
             ],
             [
              0.5555555555555556,
              "#d8576b"
             ],
             [
              0.6666666666666666,
              "#ed7953"
             ],
             [
              0.7777777777777778,
              "#fb9f3a"
             ],
             [
              0.8888888888888888,
              "#fdca26"
             ],
             [
              1,
              "#f0f921"
             ]
            ],
            "type": "heatmapgl"
           }
          ],
          "histogram": [
           {
            "marker": {
             "pattern": {
              "fillmode": "overlay",
              "size": 10,
              "solidity": 0.2
             }
            },
            "type": "histogram"
           }
          ],
          "histogram2d": [
           {
            "colorbar": {
             "outlinewidth": 0,
             "ticks": ""
            },
            "colorscale": [
             [
              0,
              "#0d0887"
             ],
             [
              0.1111111111111111,
              "#46039f"
             ],
             [
              0.2222222222222222,
              "#7201a8"
             ],
             [
              0.3333333333333333,
              "#9c179e"
             ],
             [
              0.4444444444444444,
              "#bd3786"
             ],
             [
              0.5555555555555556,
              "#d8576b"
             ],
             [
              0.6666666666666666,
              "#ed7953"
             ],
             [
              0.7777777777777778,
              "#fb9f3a"
             ],
             [
              0.8888888888888888,
              "#fdca26"
             ],
             [
              1,
              "#f0f921"
             ]
            ],
            "type": "histogram2d"
           }
          ],
          "histogram2dcontour": [
           {
            "colorbar": {
             "outlinewidth": 0,
             "ticks": ""
            },
            "colorscale": [
             [
              0,
              "#0d0887"
             ],
             [
              0.1111111111111111,
              "#46039f"
             ],
             [
              0.2222222222222222,
              "#7201a8"
             ],
             [
              0.3333333333333333,
              "#9c179e"
             ],
             [
              0.4444444444444444,
              "#bd3786"
             ],
             [
              0.5555555555555556,
              "#d8576b"
             ],
             [
              0.6666666666666666,
              "#ed7953"
             ],
             [
              0.7777777777777778,
              "#fb9f3a"
             ],
             [
              0.8888888888888888,
              "#fdca26"
             ],
             [
              1,
              "#f0f921"
             ]
            ],
            "type": "histogram2dcontour"
           }
          ],
          "mesh3d": [
           {
            "colorbar": {
             "outlinewidth": 0,
             "ticks": ""
            },
            "type": "mesh3d"
           }
          ],
          "parcoords": [
           {
            "line": {
             "colorbar": {
              "outlinewidth": 0,
              "ticks": ""
             }
            },
            "type": "parcoords"
           }
          ],
          "pie": [
           {
            "automargin": true,
            "type": "pie"
           }
          ],
          "scatter": [
           {
            "fillpattern": {
             "fillmode": "overlay",
             "size": 10,
             "solidity": 0.2
            },
            "type": "scatter"
           }
          ],
          "scatter3d": [
           {
            "line": {
             "colorbar": {
              "outlinewidth": 0,
              "ticks": ""
             }
            },
            "marker": {
             "colorbar": {
              "outlinewidth": 0,
              "ticks": ""
             }
            },
            "type": "scatter3d"
           }
          ],
          "scattercarpet": [
           {
            "marker": {
             "colorbar": {
              "outlinewidth": 0,
              "ticks": ""
             }
            },
            "type": "scattercarpet"
           }
          ],
          "scattergeo": [
           {
            "marker": {
             "colorbar": {
              "outlinewidth": 0,
              "ticks": ""
             }
            },
            "type": "scattergeo"
           }
          ],
          "scattergl": [
           {
            "marker": {
             "colorbar": {
              "outlinewidth": 0,
              "ticks": ""
             }
            },
            "type": "scattergl"
           }
          ],
          "scattermapbox": [
           {
            "marker": {
             "colorbar": {
              "outlinewidth": 0,
              "ticks": ""
             }
            },
            "type": "scattermapbox"
           }
          ],
          "scatterpolar": [
           {
            "marker": {
             "colorbar": {
              "outlinewidth": 0,
              "ticks": ""
             }
            },
            "type": "scatterpolar"
           }
          ],
          "scatterpolargl": [
           {
            "marker": {
             "colorbar": {
              "outlinewidth": 0,
              "ticks": ""
             }
            },
            "type": "scatterpolargl"
           }
          ],
          "scatterternary": [
           {
            "marker": {
             "colorbar": {
              "outlinewidth": 0,
              "ticks": ""
             }
            },
            "type": "scatterternary"
           }
          ],
          "surface": [
           {
            "colorbar": {
             "outlinewidth": 0,
             "ticks": ""
            },
            "colorscale": [
             [
              0,
              "#0d0887"
             ],
             [
              0.1111111111111111,
              "#46039f"
             ],
             [
              0.2222222222222222,
              "#7201a8"
             ],
             [
              0.3333333333333333,
              "#9c179e"
             ],
             [
              0.4444444444444444,
              "#bd3786"
             ],
             [
              0.5555555555555556,
              "#d8576b"
             ],
             [
              0.6666666666666666,
              "#ed7953"
             ],
             [
              0.7777777777777778,
              "#fb9f3a"
             ],
             [
              0.8888888888888888,
              "#fdca26"
             ],
             [
              1,
              "#f0f921"
             ]
            ],
            "type": "surface"
           }
          ],
          "table": [
           {
            "cells": {
             "fill": {
              "color": "#EBF0F8"
             },
             "line": {
              "color": "white"
             }
            },
            "header": {
             "fill": {
              "color": "#C8D4E3"
             },
             "line": {
              "color": "white"
             }
            },
            "type": "table"
           }
          ]
         },
         "layout": {
          "annotationdefaults": {
           "arrowcolor": "#2a3f5f",
           "arrowhead": 0,
           "arrowwidth": 1
          },
          "autotypenumbers": "strict",
          "coloraxis": {
           "colorbar": {
            "outlinewidth": 0,
            "ticks": ""
           }
          },
          "colorscale": {
           "diverging": [
            [
             0,
             "#8e0152"
            ],
            [
             0.1,
             "#c51b7d"
            ],
            [
             0.2,
             "#de77ae"
            ],
            [
             0.3,
             "#f1b6da"
            ],
            [
             0.4,
             "#fde0ef"
            ],
            [
             0.5,
             "#f7f7f7"
            ],
            [
             0.6,
             "#e6f5d0"
            ],
            [
             0.7,
             "#b8e186"
            ],
            [
             0.8,
             "#7fbc41"
            ],
            [
             0.9,
             "#4d9221"
            ],
            [
             1,
             "#276419"
            ]
           ],
           "sequential": [
            [
             0,
             "#0d0887"
            ],
            [
             0.1111111111111111,
             "#46039f"
            ],
            [
             0.2222222222222222,
             "#7201a8"
            ],
            [
             0.3333333333333333,
             "#9c179e"
            ],
            [
             0.4444444444444444,
             "#bd3786"
            ],
            [
             0.5555555555555556,
             "#d8576b"
            ],
            [
             0.6666666666666666,
             "#ed7953"
            ],
            [
             0.7777777777777778,
             "#fb9f3a"
            ],
            [
             0.8888888888888888,
             "#fdca26"
            ],
            [
             1,
             "#f0f921"
            ]
           ],
           "sequentialminus": [
            [
             0,
             "#0d0887"
            ],
            [
             0.1111111111111111,
             "#46039f"
            ],
            [
             0.2222222222222222,
             "#7201a8"
            ],
            [
             0.3333333333333333,
             "#9c179e"
            ],
            [
             0.4444444444444444,
             "#bd3786"
            ],
            [
             0.5555555555555556,
             "#d8576b"
            ],
            [
             0.6666666666666666,
             "#ed7953"
            ],
            [
             0.7777777777777778,
             "#fb9f3a"
            ],
            [
             0.8888888888888888,
             "#fdca26"
            ],
            [
             1,
             "#f0f921"
            ]
           ]
          },
          "colorway": [
           "#636efa",
           "#EF553B",
           "#00cc96",
           "#ab63fa",
           "#FFA15A",
           "#19d3f3",
           "#FF6692",
           "#B6E880",
           "#FF97FF",
           "#FECB52"
          ],
          "font": {
           "color": "#2a3f5f"
          },
          "geo": {
           "bgcolor": "white",
           "lakecolor": "white",
           "landcolor": "#E5ECF6",
           "showlakes": true,
           "showland": true,
           "subunitcolor": "white"
          },
          "hoverlabel": {
           "align": "left"
          },
          "hovermode": "closest",
          "mapbox": {
           "style": "light"
          },
          "paper_bgcolor": "white",
          "plot_bgcolor": "#E5ECF6",
          "polar": {
           "angularaxis": {
            "gridcolor": "white",
            "linecolor": "white",
            "ticks": ""
           },
           "bgcolor": "#E5ECF6",
           "radialaxis": {
            "gridcolor": "white",
            "linecolor": "white",
            "ticks": ""
           }
          },
          "scene": {
           "xaxis": {
            "backgroundcolor": "#E5ECF6",
            "gridcolor": "white",
            "gridwidth": 2,
            "linecolor": "white",
            "showbackground": true,
            "ticks": "",
            "zerolinecolor": "white"
           },
           "yaxis": {
            "backgroundcolor": "#E5ECF6",
            "gridcolor": "white",
            "gridwidth": 2,
            "linecolor": "white",
            "showbackground": true,
            "ticks": "",
            "zerolinecolor": "white"
           },
           "zaxis": {
            "backgroundcolor": "#E5ECF6",
            "gridcolor": "white",
            "gridwidth": 2,
            "linecolor": "white",
            "showbackground": true,
            "ticks": "",
            "zerolinecolor": "white"
           }
          },
          "shapedefaults": {
           "line": {
            "color": "#2a3f5f"
           }
          },
          "ternary": {
           "aaxis": {
            "gridcolor": "white",
            "linecolor": "white",
            "ticks": ""
           },
           "baxis": {
            "gridcolor": "white",
            "linecolor": "white",
            "ticks": ""
           },
           "bgcolor": "#E5ECF6",
           "caxis": {
            "gridcolor": "white",
            "linecolor": "white",
            "ticks": ""
           }
          },
          "title": {
           "x": 0.05
          },
          "xaxis": {
           "automargin": true,
           "gridcolor": "white",
           "linecolor": "white",
           "ticks": "",
           "title": {
            "standoff": 15
           },
           "zerolinecolor": "white",
           "zerolinewidth": 2
          },
          "yaxis": {
           "automargin": true,
           "gridcolor": "white",
           "linecolor": "white",
           "ticks": "",
           "title": {
            "standoff": 15
           },
           "zerolinecolor": "white",
           "zerolinewidth": 2
          }
         }
        },
        "xaxis": {
         "anchor": "y",
         "domain": [
          0,
          1
         ],
         "title": {
          "text": "D.O mg/L"
         }
        },
        "yaxis": {
         "anchor": "x",
         "domain": [
          0,
          1
         ],
         "title": {
          "text": "pH"
         }
        }
       }
      }
     },
     "metadata": {},
     "output_type": "display_data"
    }
   ],
   "source": [
    "px.scatter(df,x='D.O mg/L',y='pH',color='cluster')"
   ]
  },
  {
   "cell_type": "markdown",
   "metadata": {},
   "source": [
    "## Clustering with selected attributes"
   ]
  },
  {
   "cell_type": "code",
   "execution_count": null,
   "metadata": {},
   "outputs": [],
   "source": [
    "selected=['D.O mg/L','pH'] # select the columns for clustering\n",
    "\n",
    "for k in range(1,6):\n",
    "    kmeans=KMeans(n_clusters=k,random_state=0,verbose=0)\n",
    "\n",
    "    kmeans.fit(df[selected])\n",
    "\n",
    "    df[f'cluster-{k}']=kmeans.fit_predict(df[selected])\n"
   ]
  },
  {
   "cell_type": "code",
   "execution_count": 548,
   "metadata": {},
   "outputs": [
    {
     "data": {
      "image/png": "[encoded data removed]",
      "text/plain": [
       "<Figure size 2000x500 with 5 Axes>"
      ]
     },
     "metadata": {},
     "output_type": "display_data"
    }
   ],
   "source": [
    "fig,ax=plt.subplots(ncols=5,nrows=1,figsize=(20,5))\n",
    "\n",
    "for i ,ax in enumerate(fig.axes,start=1):\n",
    "    sns.scatterplot(x='D.O mg/L',y='pH',hue=f'cluster-{i}',data=df,ax=ax)\n",
    "\n",
    "\n",
    "plt.tight_layout()\n"
   ]
  },
  {
   "cell_type": "code",
   "execution_count": 552,
   "metadata": {},
   "outputs": [
    {
     "data": {
      "application/vnd.plotly.v1+json": {
       "config": {
        "plotlyServerURL": "https://plot.ly"
       },
       "data": [
        {
         "hovertemplate": "D.O mg/L=%{x}<br>pH=%{y}<br>cluster-4=%{marker.color}<extra></extra>",
         "legendgroup": "",
         "marker": {
          "color": [
           3,
           3,
           0,
           0,
           3,
           0,
           0,
           3,
           3,
           3,
           3,
           0,
           0,
           0,
           0,
           0,
           0,
           0,
           3,
           3,
           3,
           0,
           3,
           0,
           0,
           2,
           2,
           1,
           2,
           2,
           2,
           2,
           1,
           2,
           1,
           1,
           3,
           3,
           1,
           2,
           3,
           3,
           3,
           3,
           0,
           3,
           3,
           3,
           3,
           3,
           2,
           2,
           0,
           0,
           2
          ],
          "coloraxis": "coloraxis",
          "symbol": "circle"
         },
         "mode": "markers",
         "name": "",
         "orientation": "v",
         "showlegend": false,
         "type": "scatter",
         "x": [
          -1.546190049012377,
          -0.8191806336380264,
          0.6151892939924496,
          0.08466890980035516,
          -0.583393796219318,
          0.2811579409826131,
          0.5169447784013215,
          -0.7405850211651236,
          -0.9370740523473797,
          -0.5440959899828657,
          0.04537110356390461,
          -0.0332245089089982,
          0.2811579409826131,
          0.47764697216486923,
          0.7330827127018029,
          0.5365936815195468,
          0.12396671603680744,
          0.20256232850971026,
          -0.4655003775099628,
          -0.11182012138190102,
          -0.19041573385480384,
          0.34010465033728887,
          -0.6423405055739955,
          0.6348381971106749,
          0.34010465033728887,
          1.79412348108599,
          1.79412348108599,
          -0.32795805568238423,
          1.3814965156032508,
          1.2832520000121226,
          1.8334212873224425,
          0.18291342539148323,
          -1.0942652772931853,
          0.5365936815195468,
          -1.2711054053572162,
          -1.0353185679385077,
          -0.44585147439173756,
          -0.5440959899828657,
          -4.08089855126349,
          0.7330827127018029,
          0.04537110356390461,
          -0.976371858583832,
          -0.1314690245001263,
          -0.9370740523473797,
          0.34010465033728887,
          -1.52654114589415,
          -0.7405850211651236,
          -0.17076683073657856,
          -0.2297135400912561,
          -0.2100646369730291,
          0.6348381971106749,
          0.8902739376476086,
          1.027816259475189,
          0.7920294220564805,
          1.8530701904406677
         ],
         "xaxis": "x",
         "y": [
          0.3907437335835832,
          0.8492163809883222,
          0.9256284888891121,
          0.906525461913915,
          -0.2778622105483265,
          1.1548648125914815,
          0.8110103270379282,
          -0.10593496777154982,
          0.1997134638316095,
          0.8683194079635193,
          0.1997134638316095,
          0.8683194079635193,
          0.2761255717323993,
          1.1357617856162845,
          0.3716407066083862,
          1.1548648125914815,
          1.002040596789902,
          1.021143623765099,
          0.48625886845957184,
          -0.04862588684595701,
          0.18061043685641248,
          1.3076890283930611,
          0.046889248030029855,
          0.8492163809883222,
          0.9829375698147048,
          -1.538661990911358,
          -1.8443104225145173,
          -1.6723831797377404,
          -1.4813529099857652,
          -1.8443104225145173,
          -1.7296922606633316,
          -1.4813529099857652,
          -1.3476317211593825,
          -1.2903226402337913,
          -1.7105892336881345,
          -1.557765017886555,
          0.16150740988121545,
          0.3907437335835832,
          -0.5644076151762888,
          -0.8891590737546452,
          -0.18234707567233965,
          1.2885860014178643,
          0.3716407066083862,
          0.3907437335835832,
          0.887422434938718,
          0.6963921651867425,
          0.3907437335835832,
          0.409846760558782,
          0.5817740033355586,
          -0.20145010264753668,
          -0.984674208630632,
          -0.8700560467794465,
          1.2121738935170727,
          0.6390830842611515,
          -1.7870013415889243
         ],
         "yaxis": "y"
        }
       ],
       "layout": {
        "coloraxis": {
         "colorbar": {
          "title": {
           "text": "cluster-4"
          }
         },
         "colorscale": [
          [
           0,
           "#0d0887"
          ],
          [
           0.1111111111111111,
           "#46039f"
          ],
          [
           0.2222222222222222,
           "#7201a8"
          ],
          [
           0.3333333333333333,
           "#9c179e"
          ],
          [
           0.4444444444444444,
           "#bd3786"
          ],
          [
           0.5555555555555556,
           "#d8576b"
          ],
          [
           0.6666666666666666,
           "#ed7953"
          ],
          [
           0.7777777777777778,
           "#fb9f3a"
          ],
          [
           0.8888888888888888,
           "#fdca26"
          ],
          [
           1,
           "#f0f921"
          ]
         ]
        },
        "legend": {
         "tracegroupgap": 0
        },
        "margin": {
         "t": 60
        },
        "template": {
         "data": {
          "bar": [
           {
            "error_x": {
             "color": "#2a3f5f"
            },
            "error_y": {
             "color": "#2a3f5f"
            },
            "marker": {
             "line": {
              "color": "#E5ECF6",
              "width": 0.5
             },
             "pattern": {
              "fillmode": "overlay",
              "size": 10,
              "solidity": 0.2
             }
            },
            "type": "bar"
           }
          ],
          "barpolar": [
           {
            "marker": {
             "line": {
              "color": "#E5ECF6",
              "width": 0.5
             },
             "pattern": {
              "fillmode": "overlay",
              "size": 10,
              "solidity": 0.2
             }
            },
            "type": "barpolar"
           }
          ],
          "carpet": [
           {
            "aaxis": {
             "endlinecolor": "#2a3f5f",
             "gridcolor": "white",
             "linecolor": "white",
             "minorgridcolor": "white",
             "startlinecolor": "#2a3f5f"
            },
            "baxis": {
             "endlinecolor": "#2a3f5f",
             "gridcolor": "white",
             "linecolor": "white",
             "minorgridcolor": "white",
             "startlinecolor": "#2a3f5f"
            },
            "type": "carpet"
           }
          ],
          "choropleth": [
           {
            "colorbar": {
             "outlinewidth": 0,
             "ticks": ""
            },
            "type": "choropleth"
           }
          ],
          "contour": [
           {
            "colorbar": {
             "outlinewidth": 0,
             "ticks": ""
            },
            "colorscale": [
             [
              0,
              "#0d0887"
             ],
             [
              0.1111111111111111,
              "#46039f"
             ],
             [
              0.2222222222222222,
              "#7201a8"
             ],
             [
              0.3333333333333333,
              "#9c179e"
             ],
             [
              0.4444444444444444,
              "#bd3786"
             ],
             [
              0.5555555555555556,
              "#d8576b"
             ],
             [
              0.6666666666666666,
              "#ed7953"
             ],
             [
              0.7777777777777778,
              "#fb9f3a"
             ],
             [
              0.8888888888888888,
              "#fdca26"
             ],
             [
              1,
              "#f0f921"
             ]
            ],
            "type": "contour"
           }
          ],
          "contourcarpet": [
           {
            "colorbar": {
             "outlinewidth": 0,
             "ticks": ""
            },
            "type": "contourcarpet"
           }
          ],
          "heatmap": [
           {
            "colorbar": {
             "outlinewidth": 0,
             "ticks": ""
            },
            "colorscale": [
             [
              0,
              "#0d0887"
             ],
             [
              0.1111111111111111,
              "#46039f"
             ],
             [
              0.2222222222222222,
              "#7201a8"
             ],
             [
              0.3333333333333333,
              "#9c179e"
             ],
             [
              0.4444444444444444,
              "#bd3786"
             ],
             [
              0.5555555555555556,
              "#d8576b"
             ],
             [
              0.6666666666666666,
              "#ed7953"
             ],
             [
              0.7777777777777778,
              "#fb9f3a"
             ],
             [
              0.8888888888888888,
              "#fdca26"
             ],
             [
              1,
              "#f0f921"
             ]
            ],
            "type": "heatmap"
           }
          ],
          "heatmapgl": [
           {
            "colorbar": {
             "outlinewidth": 0,
             "ticks": ""
            },
            "colorscale": [
             [
              0,
              "#0d0887"
             ],
             [
              0.1111111111111111,
              "#46039f"
             ],
             [
              0.2222222222222222,
              "#7201a8"
             ],
             [
              0.3333333333333333,
              "#9c179e"
             ],
             [
              0.4444444444444444,
              "#bd3786"
             ],
             [
              0.5555555555555556,
              "#d8576b"
             ],
             [
              0.6666666666666666,
              "#ed7953"
             ],
             [
              0.7777777777777778,
              "#fb9f3a"
             ],
             [
              0.8888888888888888,
              "#fdca26"
             ],
             [
              1,
              "#f0f921"
             ]
            ],
            "type": "heatmapgl"
           }
          ],
          "histogram": [
           {
            "marker": {
             "pattern": {
              "fillmode": "overlay",
              "size": 10,
              "solidity": 0.2
             }
            },
            "type": "histogram"
           }
          ],
          "histogram2d": [
           {
            "colorbar": {
             "outlinewidth": 0,
             "ticks": ""
            },
            "colorscale": [
             [
              0,
              "#0d0887"
             ],
             [
              0.1111111111111111,
              "#46039f"
             ],
             [
              0.2222222222222222,
              "#7201a8"
             ],
             [
              0.3333333333333333,
              "#9c179e"
             ],
             [
              0.4444444444444444,
              "#bd3786"
             ],
             [
              0.5555555555555556,
              "#d8576b"
             ],
             [
              0.6666666666666666,
              "#ed7953"
             ],
             [
              0.7777777777777778,
              "#fb9f3a"
             ],
             [
              0.8888888888888888,
              "#fdca26"
             ],
             [
              1,
              "#f0f921"
             ]
            ],
            "type": "histogram2d"
           }
          ],
          "histogram2dcontour": [
           {
            "colorbar": {
             "outlinewidth": 0,
             "ticks": ""
            },
            "colorscale": [
             [
              0,
              "#0d0887"
             ],
             [
              0.1111111111111111,
              "#46039f"
             ],
             [
              0.2222222222222222,
              "#7201a8"
             ],
             [
              0.3333333333333333,
              "#9c179e"
             ],
             [
              0.4444444444444444,
              "#bd3786"
             ],
             [
              0.5555555555555556,
              "#d8576b"
             ],
             [
              0.6666666666666666,
              "#ed7953"
             ],
             [
              0.7777777777777778,
              "#fb9f3a"
             ],
             [
              0.8888888888888888,
              "#fdca26"
             ],
             [
              1,
              "#f0f921"
             ]
            ],
            "type": "histogram2dcontour"
           }
          ],
          "mesh3d": [
           {
            "colorbar": {
             "outlinewidth": 0,
             "ticks": ""
            },
            "type": "mesh3d"
           }
          ],
          "parcoords": [
           {
            "line": {
             "colorbar": {
              "outlinewidth": 0,
              "ticks": ""
             }
            },
            "type": "parcoords"
           }
          ],
          "pie": [
           {
            "automargin": true,
            "type": "pie"
           }
          ],
          "scatter": [
           {
            "fillpattern": {
             "fillmode": "overlay",
             "size": 10,
             "solidity": 0.2
            },
            "type": "scatter"
           }
          ],
          "scatter3d": [
           {
            "line": {
             "colorbar": {
              "outlinewidth": 0,
              "ticks": ""
             }
            },
            "marker": {
             "colorbar": {
              "outlinewidth": 0,
              "ticks": ""
             }
            },
            "type": "scatter3d"
           }
          ],
          "scattercarpet": [
           {
            "marker": {
             "colorbar": {
              "outlinewidth": 0,
              "ticks": ""
             }
            },
            "type": "scattercarpet"
           }
          ],
          "scattergeo": [
           {
            "marker": {
             "colorbar": {
              "outlinewidth": 0,
              "ticks": ""
             }
            },
            "type": "scattergeo"
           }
          ],
          "scattergl": [
           {
            "marker": {
             "colorbar": {
              "outlinewidth": 0,
              "ticks": ""
             }
            },
            "type": "scattergl"
           }
          ],
          "scattermapbox": [
           {
            "marker": {
             "colorbar": {
              "outlinewidth": 0,
              "ticks": ""
             }
            },
            "type": "scattermapbox"
           }
          ],
          "scatterpolar": [
           {
            "marker": {
             "colorbar": {
              "outlinewidth": 0,
              "ticks": ""
             }
            },
            "type": "scatterpolar"
           }
          ],
          "scatterpolargl": [
           {
            "marker": {
             "colorbar": {
              "outlinewidth": 0,
              "ticks": ""
             }
            },
            "type": "scatterpolargl"
           }
          ],
          "scatterternary": [
           {
            "marker": {
             "colorbar": {
              "outlinewidth": 0,
              "ticks": ""
             }
            },
            "type": "scatterternary"
           }
          ],
          "surface": [
           {
            "colorbar": {
             "outlinewidth": 0,
             "ticks": ""
            },
            "colorscale": [
             [
              0,
              "#0d0887"
             ],
             [
              0.1111111111111111,
              "#46039f"
             ],
             [
              0.2222222222222222,
              "#7201a8"
             ],
             [
              0.3333333333333333,
              "#9c179e"
             ],
             [
              0.4444444444444444,
              "#bd3786"
             ],
             [
              0.5555555555555556,
              "#d8576b"
             ],
             [
              0.6666666666666666,
              "#ed7953"
             ],
             [
              0.7777777777777778,
              "#fb9f3a"
             ],
             [
              0.8888888888888888,
              "#fdca26"
             ],
             [
              1,
              "#f0f921"
             ]
            ],
            "type": "surface"
           }
          ],
          "table": [
           {
            "cells": {
             "fill": {
              "color": "#EBF0F8"
             },
             "line": {
              "color": "white"
             }
            },
            "header": {
             "fill": {
              "color": "#C8D4E3"
             },
             "line": {
              "color": "white"
             }
            },
            "type": "table"
           }
          ]
         },
         "layout": {
          "annotationdefaults": {
           "arrowcolor": "#2a3f5f",
           "arrowhead": 0,
           "arrowwidth": 1
          },
          "autotypenumbers": "strict",
          "coloraxis": {
           "colorbar": {
            "outlinewidth": 0,
            "ticks": ""
           }
          },
          "colorscale": {
           "diverging": [
            [
             0,
             "#8e0152"
            ],
            [
             0.1,
             "#c51b7d"
            ],
            [
             0.2,
             "#de77ae"
            ],
            [
             0.3,
             "#f1b6da"
            ],
            [
             0.4,
             "#fde0ef"
            ],
            [
             0.5,
             "#f7f7f7"
            ],
            [
             0.6,
             "#e6f5d0"
            ],
            [
             0.7,
             "#b8e186"
            ],
            [
             0.8,
             "#7fbc41"
            ],
            [
             0.9,
             "#4d9221"
            ],
            [
             1,
             "#276419"
            ]
           ],
           "sequential": [
            [
             0,
             "#0d0887"
            ],
            [
             0.1111111111111111,
             "#46039f"
            ],
            [
             0.2222222222222222,
             "#7201a8"
            ],
            [
             0.3333333333333333,
             "#9c179e"
            ],
            [
             0.4444444444444444,
             "#bd3786"
            ],
            [
             0.5555555555555556,
             "#d8576b"
            ],
            [
             0.6666666666666666,
             "#ed7953"
            ],
            [
             0.7777777777777778,
             "#fb9f3a"
            ],
            [
             0.8888888888888888,
             "#fdca26"
            ],
            [
             1,
             "#f0f921"
            ]
           ],
           "sequentialminus": [
            [
             0,
             "#0d0887"
            ],
            [
             0.1111111111111111,
             "#46039f"
            ],
            [
             0.2222222222222222,
             "#7201a8"
            ],
            [
             0.3333333333333333,
             "#9c179e"
            ],
            [
             0.4444444444444444,
             "#bd3786"
            ],
            [
             0.5555555555555556,
             "#d8576b"
            ],
            [
             0.6666666666666666,
             "#ed7953"
            ],
            [
             0.7777777777777778,
             "#fb9f3a"
            ],
            [
             0.8888888888888888,
             "#fdca26"
            ],
            [
             1,
             "#f0f921"
            ]
           ]
          },
          "colorway": [
           "#636efa",
           "#EF553B",
           "#00cc96",
           "#ab63fa",
           "#FFA15A",
           "#19d3f3",
           "#FF6692",
           "#B6E880",
           "#FF97FF",
           "#FECB52"
          ],
          "font": {
           "color": "#2a3f5f"
          },
          "geo": {
           "bgcolor": "white",
           "lakecolor": "white",
           "landcolor": "#E5ECF6",
           "showlakes": true,
           "showland": true,
           "subunitcolor": "white"
          },
          "hoverlabel": {
           "align": "left"
          },
          "hovermode": "closest",
          "mapbox": {
           "style": "light"
          },
          "paper_bgcolor": "white",
          "plot_bgcolor": "#E5ECF6",
          "polar": {
           "angularaxis": {
            "gridcolor": "white",
            "linecolor": "white",
            "ticks": ""
           },
           "bgcolor": "#E5ECF6",
           "radialaxis": {
            "gridcolor": "white",
            "linecolor": "white",
            "ticks": ""
           }
          },
          "scene": {
           "xaxis": {
            "backgroundcolor": "#E5ECF6",
            "gridcolor": "white",
            "gridwidth": 2,
            "linecolor": "white",
            "showbackground": true,
            "ticks": "",
            "zerolinecolor": "white"
           },
           "yaxis": {
            "backgroundcolor": "#E5ECF6",
            "gridcolor": "white",
            "gridwidth": 2,
            "linecolor": "white",
            "showbackground": true,
            "ticks": "",
            "zerolinecolor": "white"
           },
           "zaxis": {
            "backgroundcolor": "#E5ECF6",
            "gridcolor": "white",
            "gridwidth": 2,
            "linecolor": "white",
            "showbackground": true,
            "ticks": "",
            "zerolinecolor": "white"
           }
          },
          "shapedefaults": {
           "line": {
            "color": "#2a3f5f"
           }
          },
          "ternary": {
           "aaxis": {
            "gridcolor": "white",
            "linecolor": "white",
            "ticks": ""
           },
           "baxis": {
            "gridcolor": "white",
            "linecolor": "white",
            "ticks": ""
           },
           "bgcolor": "#E5ECF6",
           "caxis": {
            "gridcolor": "white",
            "linecolor": "white",
            "ticks": ""
           }
          },
          "title": {
           "x": 0.05
          },
          "xaxis": {
           "automargin": true,
           "gridcolor": "white",
           "linecolor": "white",
           "ticks": "",
           "title": {
            "standoff": 15
           },
           "zerolinecolor": "white",
           "zerolinewidth": 2
          },
          "yaxis": {
           "automargin": true,
           "gridcolor": "white",
           "linecolor": "white",
           "ticks": "",
           "title": {
            "standoff": 15
           },
           "zerolinecolor": "white",
           "zerolinewidth": 2
          }
         }
        },
        "xaxis": {
         "anchor": "y",
         "domain": [
          0,
          1
         ],
         "title": {
          "text": "D.O mg/L"
         }
        },
        "yaxis": {
         "anchor": "x",
         "domain": [
          0,
          1
         ],
         "title": {
          "text": "pH"
         }
        }
       }
      }
     },
     "metadata": {},
     "output_type": "display_data"
    }
   ],
   "source": [
    "px.scatter(df,x='D.O mg/L',y='pH',color='cluster-4')"
   ]
  },
  {
   "cell_type": "code",
   "execution_count": 545,
   "metadata": {},
   "outputs": [
    {
     "data": {
      "application/vnd.plotly.v1+json": {
       "config": {
        "plotlyServerURL": "https://plot.ly"
       },
       "data": [
        {
         "hovertemplate": "D.O mg/L=%{x}<br>pH=%{y}<br>Conductivity m mhos/cm=%{z}<br>cluster-3=%{marker.color}<extra></extra>",
         "legendgroup": "",
         "marker": {
          "color": [
           0,
           0,
           0,
           0,
           0,
           0,
           0,
           0,
           0,
           0,
           0,
           0,
           0,
           0,
           0,
           0,
           0,
           0,
           0,
           0,
           0,
           0,
           0,
           0,
           0,
           2,
           2,
           1,
           2,
           2,
           2,
           2,
           1,
           2,
           1,
           1,
           0,
           0,
           1,
           2,
           0,
           0,
           0,
           0,
           0,
           0,
           0,
           0,
           0,
           0,
           2,
           2,
           0,
           0,
           2
          ],
          "coloraxis": "coloraxis",
          "opacity": 0.5,
          "symbol": "circle"
         },
         "mode": "markers",
         "name": "",
         "scene": "scene",
         "showlegend": false,
         "type": "scatter3d",
         "x": [
          -1.546190049012377,
          -0.8191806336380264,
          0.6151892939924496,
          0.08466890980035516,
          -0.583393796219318,
          0.2811579409826131,
          0.5169447784013215,
          -0.7405850211651236,
          -0.9370740523473797,
          -0.5440959899828657,
          0.04537110356390461,
          -0.0332245089089982,
          0.2811579409826131,
          0.47764697216486923,
          0.7330827127018029,
          0.5365936815195468,
          0.12396671603680744,
          0.20256232850971026,
          -0.4655003775099628,
          -0.11182012138190102,
          -0.19041573385480384,
          0.34010465033728887,
          -0.6423405055739955,
          0.6348381971106749,
          0.34010465033728887,
          1.79412348108599,
          1.79412348108599,
          -0.32795805568238423,
          1.3814965156032508,
          1.2832520000121226,
          1.8334212873224425,
          0.18291342539148323,
          -1.0942652772931853,
          0.5365936815195468,
          -1.2711054053572162,
          -1.0353185679385077,
          -0.44585147439173756,
          -0.5440959899828657,
          -4.08089855126349,
          0.7330827127018029,
          0.04537110356390461,
          -0.976371858583832,
          -0.1314690245001263,
          -0.9370740523473797,
          0.34010465033728887,
          -1.52654114589415,
          -0.7405850211651236,
          -0.17076683073657856,
          -0.2297135400912561,
          -0.2100646369730291,
          0.6348381971106749,
          0.8902739376476086,
          1.027816259475189,
          0.7920294220564805,
          1.8530701904406677
         ],
         "y": [
          0.3907437335835832,
          0.8492163809883222,
          0.9256284888891121,
          0.906525461913915,
          -0.2778622105483265,
          1.1548648125914815,
          0.8110103270379282,
          -0.10593496777154982,
          0.1997134638316095,
          0.8683194079635193,
          0.1997134638316095,
          0.8683194079635193,
          0.2761255717323993,
          1.1357617856162845,
          0.3716407066083862,
          1.1548648125914815,
          1.002040596789902,
          1.021143623765099,
          0.48625886845957184,
          -0.04862588684595701,
          0.18061043685641248,
          1.3076890283930611,
          0.046889248030029855,
          0.8492163809883222,
          0.9829375698147048,
          -1.538661990911358,
          -1.8443104225145173,
          -1.6723831797377404,
          -1.4813529099857652,
          -1.8443104225145173,
          -1.7296922606633316,
          -1.4813529099857652,
          -1.3476317211593825,
          -1.2903226402337913,
          -1.7105892336881345,
          -1.557765017886555,
          0.16150740988121545,
          0.3907437335835832,
          -0.5644076151762888,
          -0.8891590737546452,
          -0.18234707567233965,
          1.2885860014178643,
          0.3716407066083862,
          0.3907437335835832,
          0.887422434938718,
          0.6963921651867425,
          0.3907437335835832,
          0.409846760558782,
          0.5817740033355586,
          -0.20145010264753668,
          -0.984674208630632,
          -0.8700560467794465,
          1.2121738935170727,
          0.6390830842611515,
          -1.7870013415889243
         ],
         "z": [
          -0.19075693947164127,
          -0.1924649293826367,
          -0.18202721325988686,
          -0.17483467796802835,
          -0.20442085875960472,
          -0.17196905045069155,
          -0.19739912245884572,
          -0.19009272117292084,
          -0.19265470603941398,
          2.222822581421678,
          0.07198884183648903,
          -0.1940780309652435,
          -0.1959757975330162,
          -0.2000559956537275,
          -0.20043554896728205,
          -0.17557480692945968,
          -0.18990294451614356,
          -0.20223842720666613,
          -0.1810783299760005,
          -0.21447902156880003,
          0.2315910101861731,
          0.038303485258523604,
          0.13831578338014489,
          -0.19910711236984116,
          -0.19853778239950934,
          -0.2314640323503657,
          -0.22861738249870664,
          -0.22529629100510443,
          -0.21742055974884772,
          -0.230610037394868,
          -0.23127425569358842,
          -0.17927545173661644,
          -0.20641351365576605,
          -0.20812150356676148,
          -0.2244422960496067,
          -0.2184643313611227,
          -0.15488915134073725,
          -0.12964885598936035,
          -0.19436269595040942,
          -0.22501162601993852,
          -0.19796845242917754,
          -0.18895406123225722,
          -0.17974989337855962,
          -0.14217411533666016,
          -0.12860508437708537,
          6.9323200960064115,
          -0.20242820386344337,
          -0.19180071108391628,
          -0.19233208572289262,
          -0.21751544807723636,
          -0.21428924491202275,
          -0.21723078309207045,
          -0.19739912245884572,
          -0.18041411167728005,
          -0.23108447903681115
         ]
        }
       ],
       "layout": {
        "coloraxis": {
         "colorbar": {
          "title": {
           "text": "cluster-3"
          }
         },
         "colorscale": [
          [
           0,
           "#0d0887"
          ],
          [
           0.1111111111111111,
           "#46039f"
          ],
          [
           0.2222222222222222,
           "#7201a8"
          ],
          [
           0.3333333333333333,
           "#9c179e"
          ],
          [
           0.4444444444444444,
           "#bd3786"
          ],
          [
           0.5555555555555556,
           "#d8576b"
          ],
          [
           0.6666666666666666,
           "#ed7953"
          ],
          [
           0.7777777777777778,
           "#fb9f3a"
          ],
          [
           0.8888888888888888,
           "#fdca26"
          ],
          [
           1,
           "#f0f921"
          ]
         ]
        },
        "legend": {
         "tracegroupgap": 0
        },
        "margin": {
         "t": 60
        },
        "scene": {
         "domain": {
          "x": [
           0,
           1
          ],
          "y": [
           0,
           1
          ]
         },
         "xaxis": {
          "title": {
           "text": "D.O mg/L"
          }
         },
         "yaxis": {
          "title": {
           "text": "pH"
          }
         },
         "zaxis": {
          "title": {
           "text": "Conductivity m mhos/cm"
          }
         }
        },
        "template": {
         "data": {
          "bar": [
           {
            "error_x": {
             "color": "#2a3f5f"
            },
            "error_y": {
             "color": "#2a3f5f"
            },
            "marker": {
             "line": {
              "color": "#E5ECF6",
              "width": 0.5
             },
             "pattern": {
              "fillmode": "overlay",
              "size": 10,
              "solidity": 0.2
             }
            },
            "type": "bar"
           }
          ],
          "barpolar": [
           {
            "marker": {
             "line": {
              "color": "#E5ECF6",
              "width": 0.5
             },
             "pattern": {
              "fillmode": "overlay",
              "size": 10,
              "solidity": 0.2
             }
            },
            "type": "barpolar"
           }
          ],
          "carpet": [
           {
            "aaxis": {
             "endlinecolor": "#2a3f5f",
             "gridcolor": "white",
             "linecolor": "white",
             "minorgridcolor": "white",
             "startlinecolor": "#2a3f5f"
            },
            "baxis": {
             "endlinecolor": "#2a3f5f",
             "gridcolor": "white",
             "linecolor": "white",
             "minorgridcolor": "white",
             "startlinecolor": "#2a3f5f"
            },
            "type": "carpet"
           }
          ],
          "choropleth": [
           {
            "colorbar": {
             "outlinewidth": 0,
             "ticks": ""
            },
            "type": "choropleth"
           }
          ],
          "contour": [
           {
            "colorbar": {
             "outlinewidth": 0,
             "ticks": ""
            },
            "colorscale": [
             [
              0,
              "#0d0887"
             ],
             [
              0.1111111111111111,
              "#46039f"
             ],
             [
              0.2222222222222222,
              "#7201a8"
             ],
             [
              0.3333333333333333,
              "#9c179e"
             ],
             [
              0.4444444444444444,
              "#bd3786"
             ],
             [
              0.5555555555555556,
              "#d8576b"
             ],
             [
              0.6666666666666666,
              "#ed7953"
             ],
             [
              0.7777777777777778,
              "#fb9f3a"
             ],
             [
              0.8888888888888888,
              "#fdca26"
             ],
             [
              1,
              "#f0f921"
             ]
            ],
            "type": "contour"
           }
          ],
          "contourcarpet": [
           {
            "colorbar": {
             "outlinewidth": 0,
             "ticks": ""
            },
            "type": "contourcarpet"
           }
          ],
          "heatmap": [
           {
            "colorbar": {
             "outlinewidth": 0,
             "ticks": ""
            },
            "colorscale": [
             [
              0,
              "#0d0887"
             ],
             [
              0.1111111111111111,
              "#46039f"
             ],
             [
              0.2222222222222222,
              "#7201a8"
             ],
             [
              0.3333333333333333,
              "#9c179e"
             ],
             [
              0.4444444444444444,
              "#bd3786"
             ],
             [
              0.5555555555555556,
              "#d8576b"
             ],
             [
              0.6666666666666666,
              "#ed7953"
             ],
             [
              0.7777777777777778,
              "#fb9f3a"
             ],
             [
              0.8888888888888888,
              "#fdca26"
             ],
             [
              1,
              "#f0f921"
             ]
            ],
            "type": "heatmap"
           }
          ],
          "heatmapgl": [
           {
            "colorbar": {
             "outlinewidth": 0,
             "ticks": ""
            },
            "colorscale": [
             [
              0,
              "#0d0887"
             ],
             [
              0.1111111111111111,
              "#46039f"
             ],
             [
              0.2222222222222222,
              "#7201a8"
             ],
             [
              0.3333333333333333,
              "#9c179e"
             ],
             [
              0.4444444444444444,
              "#bd3786"
             ],
             [
              0.5555555555555556,
              "#d8576b"
             ],
             [
              0.6666666666666666,
              "#ed7953"
             ],
             [
              0.7777777777777778,
              "#fb9f3a"
             ],
             [
              0.8888888888888888,
              "#fdca26"
             ],
             [
              1,
              "#f0f921"
             ]
            ],
            "type": "heatmapgl"
           }
          ],
          "histogram": [
           {
            "marker": {
             "pattern": {
              "fillmode": "overlay",
              "size": 10,
              "solidity": 0.2
             }
            },
            "type": "histogram"
           }
          ],
          "histogram2d": [
           {
            "colorbar": {
             "outlinewidth": 0,
             "ticks": ""
            },
            "colorscale": [
             [
              0,
              "#0d0887"
             ],
             [
              0.1111111111111111,
              "#46039f"
             ],
             [
              0.2222222222222222,
              "#7201a8"
             ],
             [
              0.3333333333333333,
              "#9c179e"
             ],
             [
              0.4444444444444444,
              "#bd3786"
             ],
             [
              0.5555555555555556,
              "#d8576b"
             ],
             [
              0.6666666666666666,
              "#ed7953"
             ],
             [
              0.7777777777777778,
              "#fb9f3a"
             ],
             [
              0.8888888888888888,
              "#fdca26"
             ],
             [
              1,
              "#f0f921"
             ]
            ],
            "type": "histogram2d"
           }
          ],
          "histogram2dcontour": [
           {
            "colorbar": {
             "outlinewidth": 0,
             "ticks": ""
            },
            "colorscale": [
             [
              0,
              "#0d0887"
             ],
             [
              0.1111111111111111,
              "#46039f"
             ],
             [
              0.2222222222222222,
              "#7201a8"
             ],
             [
              0.3333333333333333,
              "#9c179e"
             ],
             [
              0.4444444444444444,
              "#bd3786"
             ],
             [
              0.5555555555555556,
              "#d8576b"
             ],
             [
              0.6666666666666666,
              "#ed7953"
             ],
             [
              0.7777777777777778,
              "#fb9f3a"
             ],
             [
              0.8888888888888888,
              "#fdca26"
             ],
             [
              1,
              "#f0f921"
             ]
            ],
            "type": "histogram2dcontour"
           }
          ],
          "mesh3d": [
           {
            "colorbar": {
             "outlinewidth": 0,
             "ticks": ""
            },
            "type": "mesh3d"
           }
          ],
          "parcoords": [
           {
            "line": {
             "colorbar": {
              "outlinewidth": 0,
              "ticks": ""
             }
            },
            "type": "parcoords"
           }
          ],
          "pie": [
           {
            "automargin": true,
            "type": "pie"
           }
          ],
          "scatter": [
           {
            "fillpattern": {
             "fillmode": "overlay",
             "size": 10,
             "solidity": 0.2
            },
            "type": "scatter"
           }
          ],
          "scatter3d": [
           {
            "line": {
             "colorbar": {
              "outlinewidth": 0,
              "ticks": ""
             }
            },
            "marker": {
             "colorbar": {
              "outlinewidth": 0,
              "ticks": ""
             }
            },
            "type": "scatter3d"
           }
          ],
          "scattercarpet": [
           {
            "marker": {
             "colorbar": {
              "outlinewidth": 0,
              "ticks": ""
             }
            },
            "type": "scattercarpet"
           }
          ],
          "scattergeo": [
           {
            "marker": {
             "colorbar": {
              "outlinewidth": 0,
              "ticks": ""
             }
            },
            "type": "scattergeo"
           }
          ],
          "scattergl": [
           {
            "marker": {
             "colorbar": {
              "outlinewidth": 0,
              "ticks": ""
             }
            },
            "type": "scattergl"
           }
          ],
          "scattermapbox": [
           {
            "marker": {
             "colorbar": {
              "outlinewidth": 0,
              "ticks": ""
             }
            },
            "type": "scattermapbox"
           }
          ],
          "scatterpolar": [
           {
            "marker": {
             "colorbar": {
              "outlinewidth": 0,
              "ticks": ""
             }
            },
            "type": "scatterpolar"
           }
          ],
          "scatterpolargl": [
           {
            "marker": {
             "colorbar": {
              "outlinewidth": 0,
              "ticks": ""
             }
            },
            "type": "scatterpolargl"
           }
          ],
          "scatterternary": [
           {
            "marker": {
             "colorbar": {
              "outlinewidth": 0,
              "ticks": ""
             }
            },
            "type": "scatterternary"
           }
          ],
          "surface": [
           {
            "colorbar": {
             "outlinewidth": 0,
             "ticks": ""
            },
            "colorscale": [
             [
              0,
              "#0d0887"
             ],
             [
              0.1111111111111111,
              "#46039f"
             ],
             [
              0.2222222222222222,
              "#7201a8"
             ],
             [
              0.3333333333333333,
              "#9c179e"
             ],
             [
              0.4444444444444444,
              "#bd3786"
             ],
             [
              0.5555555555555556,
              "#d8576b"
             ],
             [
              0.6666666666666666,
              "#ed7953"
             ],
             [
              0.7777777777777778,
              "#fb9f3a"
             ],
             [
              0.8888888888888888,
              "#fdca26"
             ],
             [
              1,
              "#f0f921"
             ]
            ],
            "type": "surface"
           }
          ],
          "table": [
           {
            "cells": {
             "fill": {
              "color": "#EBF0F8"
             },
             "line": {
              "color": "white"
             }
            },
            "header": {
             "fill": {
              "color": "#C8D4E3"
             },
             "line": {
              "color": "white"
             }
            },
            "type": "table"
           }
          ]
         },
         "layout": {
          "annotationdefaults": {
           "arrowcolor": "#2a3f5f",
           "arrowhead": 0,
           "arrowwidth": 1
          },
          "autotypenumbers": "strict",
          "coloraxis": {
           "colorbar": {
            "outlinewidth": 0,
            "ticks": ""
           }
          },
          "colorscale": {
           "diverging": [
            [
             0,
             "#8e0152"
            ],
            [
             0.1,
             "#c51b7d"
            ],
            [
             0.2,
             "#de77ae"
            ],
            [
             0.3,
             "#f1b6da"
            ],
            [
             0.4,
             "#fde0ef"
            ],
            [
             0.5,
             "#f7f7f7"
            ],
            [
             0.6,
             "#e6f5d0"
            ],
            [
             0.7,
             "#b8e186"
            ],
            [
             0.8,
             "#7fbc41"
            ],
            [
             0.9,
             "#4d9221"
            ],
            [
             1,
             "#276419"
            ]
           ],
           "sequential": [
            [
             0,
             "#0d0887"
            ],
            [
             0.1111111111111111,
             "#46039f"
            ],
            [
             0.2222222222222222,
             "#7201a8"
            ],
            [
             0.3333333333333333,
             "#9c179e"
            ],
            [
             0.4444444444444444,
             "#bd3786"
            ],
            [
             0.5555555555555556,
             "#d8576b"
            ],
            [
             0.6666666666666666,
             "#ed7953"
            ],
            [
             0.7777777777777778,
             "#fb9f3a"
            ],
            [
             0.8888888888888888,
             "#fdca26"
            ],
            [
             1,
             "#f0f921"
            ]
           ],
           "sequentialminus": [
            [
             0,
             "#0d0887"
            ],
            [
             0.1111111111111111,
             "#46039f"
            ],
            [
             0.2222222222222222,
             "#7201a8"
            ],
            [
             0.3333333333333333,
             "#9c179e"
            ],
            [
             0.4444444444444444,
             "#bd3786"
            ],
            [
             0.5555555555555556,
             "#d8576b"
            ],
            [
             0.6666666666666666,
             "#ed7953"
            ],
            [
             0.7777777777777778,
             "#fb9f3a"
            ],
            [
             0.8888888888888888,
             "#fdca26"
            ],
            [
             1,
             "#f0f921"
            ]
           ]
          },
          "colorway": [
           "#636efa",
           "#EF553B",
           "#00cc96",
           "#ab63fa",
           "#FFA15A",
           "#19d3f3",
           "#FF6692",
           "#B6E880",
           "#FF97FF",
           "#FECB52"
          ],
          "font": {
           "color": "#2a3f5f"
          },
          "geo": {
           "bgcolor": "white",
           "lakecolor": "white",
           "landcolor": "#E5ECF6",
           "showlakes": true,
           "showland": true,
           "subunitcolor": "white"
          },
          "hoverlabel": {
           "align": "left"
          },
          "hovermode": "closest",
          "mapbox": {
           "style": "light"
          },
          "paper_bgcolor": "white",
          "plot_bgcolor": "#E5ECF6",
          "polar": {
           "angularaxis": {
            "gridcolor": "white",
            "linecolor": "white",
            "ticks": ""
           },
           "bgcolor": "#E5ECF6",
           "radialaxis": {
            "gridcolor": "white",
            "linecolor": "white",
            "ticks": ""
           }
          },
          "scene": {
           "xaxis": {
            "backgroundcolor": "#E5ECF6",
            "gridcolor": "white",
            "gridwidth": 2,
            "linecolor": "white",
            "showbackground": true,
            "ticks": "",
            "zerolinecolor": "white"
           },
           "yaxis": {
            "backgroundcolor": "#E5ECF6",
            "gridcolor": "white",
            "gridwidth": 2,
            "linecolor": "white",
            "showbackground": true,
            "ticks": "",
            "zerolinecolor": "white"
           },
           "zaxis": {
            "backgroundcolor": "#E5ECF6",
            "gridcolor": "white",
            "gridwidth": 2,
            "linecolor": "white",
            "showbackground": true,
            "ticks": "",
            "zerolinecolor": "white"
           }
          },
          "shapedefaults": {
           "line": {
            "color": "#2a3f5f"
           }
          },
          "ternary": {
           "aaxis": {
            "gridcolor": "white",
            "linecolor": "white",
            "ticks": ""
           },
           "baxis": {
            "gridcolor": "white",
            "linecolor": "white",
            "ticks": ""
           },
           "bgcolor": "#E5ECF6",
           "caxis": {
            "gridcolor": "white",
            "linecolor": "white",
            "ticks": ""
           }
          },
          "title": {
           "x": 0.05
          },
          "xaxis": {
           "automargin": true,
           "gridcolor": "white",
           "linecolor": "white",
           "ticks": "",
           "title": {
            "standoff": 15
           },
           "zerolinecolor": "white",
           "zerolinewidth": 2
          },
          "yaxis": {
           "automargin": true,
           "gridcolor": "white",
           "linecolor": "white",
           "ticks": "",
           "title": {
            "standoff": 15
           },
           "zerolinecolor": "white",
           "zerolinewidth": 2
          }
         }
        }
       }
      }
     },
     "metadata": {},
     "output_type": "display_data"
    }
   ],
   "source": [
    "px.scatter_3d(df, x='D.O mg/L', y='pH', z='Conductivity m mhos/cm', color=f'cluster-3', opacity=0.5)\n"
   ]
  },
  {
   "cell_type": "code",
   "execution_count": null,
   "metadata": {},
   "outputs": [],
   "source": []
  }
 ],
 "metadata": {
  "kernelspec": {
   "display_name": "base",
   "language": "python",
   "name": "python3"
  },
  "language_info": {
   "codemirror_mode": {
    "name": "ipython",
    "version": 3
   },
   "file_extension": ".py",
   "mimetype": "text/x-python",
   "name": "python",
   "nbconvert_exporter": "python",
   "pygments_lexer": "ipython3",
   "version": "3.10.9"
  }
 },
 "nbformat": 4,
 "nbformat_minor": 2
}
